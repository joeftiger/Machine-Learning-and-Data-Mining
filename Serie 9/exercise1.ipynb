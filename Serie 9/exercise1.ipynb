{
 "cells": [
  {
   "cell_type": "markdown",
   "source": [
    "# Exercise 1\n",
    "\n",
    "Take the titanic dataset and using all attributes to predict the class `Survived` (convert age and fare into classes ; exclude names from the attribute list),\n",
    "Build a boosting ensemble model with:\n",
    "\n",
    "1. Adaboost\n",
    "2. Gradientboost\n",
    "3. XGB"
   ],
   "metadata": {
    "collapsed": false
   }
  },
  {
   "cell_type": "code",
   "execution_count": 1,
   "outputs": [
    {
     "data": {
      "text/plain": "                                                    Survived  Pclass     Sex  \\\nName                                                                           \nMr. Owen Harris Braund                                     0       3    male   \nMrs. John Bradley (Florence Briggs Thayer) Cumings         1       1  female   \nMiss. Laina Heikkinen                                      1       3  female   \nMrs. Jacques Heath (Lily May Peel) Futrelle                1       1  female   \nMr. William Henry Allen                                    0       3    male   \n\n                                                     Age  \\\nName                                                       \nMr. Owen Harris Braund                              22.0   \nMrs. John Bradley (Florence Briggs Thayer) Cumings  38.0   \nMiss. Laina Heikkinen                               26.0   \nMrs. Jacques Heath (Lily May Peel) Futrelle         35.0   \nMr. William Henry Allen                             35.0   \n\n                                                    Siblings/Spouses Aboard  \\\nName                                                                          \nMr. Owen Harris Braund                                                    1   \nMrs. John Bradley (Florence Briggs Thayer) Cumings                        1   \nMiss. Laina Heikkinen                                                     0   \nMrs. Jacques Heath (Lily May Peel) Futrelle                               1   \nMr. William Henry Allen                                                   0   \n\n                                                    Parents/Children Aboard  \\\nName                                                                          \nMr. Owen Harris Braund                                                    0   \nMrs. John Bradley (Florence Briggs Thayer) Cumings                        0   \nMiss. Laina Heikkinen                                                     0   \nMrs. Jacques Heath (Lily May Peel) Futrelle                               0   \nMr. William Henry Allen                                                   0   \n\n                                                       Fare      Age Group  \\\nName                                                                         \nMr. Owen Harris Braund                               7.2500  (20.25, 28.0]   \nMrs. John Bradley (Florence Briggs Thayer) Cumings  71.2833   (28.0, 38.0]   \nMiss. Laina Heikkinen                                7.9250  (20.25, 28.0]   \nMrs. Jacques Heath (Lily May Peel) Futrelle         53.1000   (28.0, 38.0]   \nMr. William Henry Allen                              8.0500   (28.0, 38.0]   \n\n                                                           Fare Group  \nName                                                                   \nMr. Owen Harris Braund                                (-0.001, 7.925]  \nMrs. John Bradley (Florence Briggs Thayer) Cumings  (31.138, 512.329]  \nMiss. Laina Heikkinen                                 (-0.001, 7.925]  \nMrs. Jacques Heath (Lily May Peel) Futrelle         (31.138, 512.329]  \nMr. William Henry Allen                               (7.925, 14.454]  ",
      "text/html": "<div>\n<style scoped>\n    .dataframe tbody tr th:only-of-type {\n        vertical-align: middle;\n    }\n\n    .dataframe tbody tr th {\n        vertical-align: top;\n    }\n\n    .dataframe thead th {\n        text-align: right;\n    }\n</style>\n<table border=\"1\" class=\"dataframe\">\n  <thead>\n    <tr style=\"text-align: right;\">\n      <th></th>\n      <th>Survived</th>\n      <th>Pclass</th>\n      <th>Sex</th>\n      <th>Age</th>\n      <th>Siblings/Spouses Aboard</th>\n      <th>Parents/Children Aboard</th>\n      <th>Fare</th>\n      <th>Age Group</th>\n      <th>Fare Group</th>\n    </tr>\n    <tr>\n      <th>Name</th>\n      <th></th>\n      <th></th>\n      <th></th>\n      <th></th>\n      <th></th>\n      <th></th>\n      <th></th>\n      <th></th>\n      <th></th>\n    </tr>\n  </thead>\n  <tbody>\n    <tr>\n      <th>Mr. Owen Harris Braund</th>\n      <td>0</td>\n      <td>3</td>\n      <td>male</td>\n      <td>22.0</td>\n      <td>1</td>\n      <td>0</td>\n      <td>7.2500</td>\n      <td>(20.25, 28.0]</td>\n      <td>(-0.001, 7.925]</td>\n    </tr>\n    <tr>\n      <th>Mrs. John Bradley (Florence Briggs Thayer) Cumings</th>\n      <td>1</td>\n      <td>1</td>\n      <td>female</td>\n      <td>38.0</td>\n      <td>1</td>\n      <td>0</td>\n      <td>71.2833</td>\n      <td>(28.0, 38.0]</td>\n      <td>(31.138, 512.329]</td>\n    </tr>\n    <tr>\n      <th>Miss. Laina Heikkinen</th>\n      <td>1</td>\n      <td>3</td>\n      <td>female</td>\n      <td>26.0</td>\n      <td>0</td>\n      <td>0</td>\n      <td>7.9250</td>\n      <td>(20.25, 28.0]</td>\n      <td>(-0.001, 7.925]</td>\n    </tr>\n    <tr>\n      <th>Mrs. Jacques Heath (Lily May Peel) Futrelle</th>\n      <td>1</td>\n      <td>1</td>\n      <td>female</td>\n      <td>35.0</td>\n      <td>1</td>\n      <td>0</td>\n      <td>53.1000</td>\n      <td>(28.0, 38.0]</td>\n      <td>(31.138, 512.329]</td>\n    </tr>\n    <tr>\n      <th>Mr. William Henry Allen</th>\n      <td>0</td>\n      <td>3</td>\n      <td>male</td>\n      <td>35.0</td>\n      <td>0</td>\n      <td>0</td>\n      <td>8.0500</td>\n      <td>(28.0, 38.0]</td>\n      <td>(7.925, 14.454]</td>\n    </tr>\n  </tbody>\n</table>\n</div>"
     },
     "execution_count": 1,
     "metadata": {},
     "output_type": "execute_result"
    }
   ],
   "source": [
    "import pandas as pd\n",
    "\n",
    "pd.set_option('display.max_colwidth', None)\n",
    "titanic = pd.read_csv('../Data/titanic.csv.zst', index_col='Name')\n",
    "\n",
    "titanic['Age Group'] = pd.qcut(x=titanic['Age'], q=4)\n",
    "titanic['Fare Group'] = pd.qcut(x=titanic['Fare'], q=4)\n",
    "\n",
    "titanic.head(5)"
   ],
   "metadata": {
    "collapsed": false
   }
  },
  {
   "cell_type": "code",
   "execution_count": 2,
   "outputs": [
    {
     "data": {
      "text/plain": "          Survived      Pclass   Sex         Age  Siblings/Spouses Aboard  \\\ncount   887.000000  887.000000   887  887.000000               887.000000   \nunique         NaN         NaN     2         NaN                      NaN   \ntop            NaN         NaN  male         NaN                      NaN   \nfreq           NaN         NaN   573         NaN                      NaN   \nmean      0.385569    2.305524   NaN   29.471443                 0.525366   \nstd       0.487004    0.836662   NaN   14.121908                 1.104669   \nmin       0.000000    1.000000   NaN    0.420000                 0.000000   \n25%       0.000000    2.000000   NaN   20.250000                 0.000000   \n50%       0.000000    3.000000   NaN   28.000000                 0.000000   \n75%       1.000000    3.000000   NaN   38.000000                 1.000000   \nmax       1.000000    3.000000   NaN   80.000000                 8.000000   \n\n        Parents/Children Aboard       Fare      Age Group       Fare Group  \ncount                887.000000  887.00000            887              887  \nunique                      NaN        NaN              4                4  \ntop                         NaN        NaN  (20.25, 28.0]  (-0.001, 7.925]  \nfreq                        NaN        NaN            243              238  \nmean                   0.383315   32.30542            NaN              NaN  \nstd                    0.807466   49.78204            NaN              NaN  \nmin                    0.000000    0.00000            NaN              NaN  \n25%                    0.000000    7.92500            NaN              NaN  \n50%                    0.000000   14.45420            NaN              NaN  \n75%                    0.000000   31.13750            NaN              NaN  \nmax                    6.000000  512.32920            NaN              NaN  ",
      "text/html": "<div>\n<style scoped>\n    .dataframe tbody tr th:only-of-type {\n        vertical-align: middle;\n    }\n\n    .dataframe tbody tr th {\n        vertical-align: top;\n    }\n\n    .dataframe thead th {\n        text-align: right;\n    }\n</style>\n<table border=\"1\" class=\"dataframe\">\n  <thead>\n    <tr style=\"text-align: right;\">\n      <th></th>\n      <th>Survived</th>\n      <th>Pclass</th>\n      <th>Sex</th>\n      <th>Age</th>\n      <th>Siblings/Spouses Aboard</th>\n      <th>Parents/Children Aboard</th>\n      <th>Fare</th>\n      <th>Age Group</th>\n      <th>Fare Group</th>\n    </tr>\n  </thead>\n  <tbody>\n    <tr>\n      <th>count</th>\n      <td>887.000000</td>\n      <td>887.000000</td>\n      <td>887</td>\n      <td>887.000000</td>\n      <td>887.000000</td>\n      <td>887.000000</td>\n      <td>887.00000</td>\n      <td>887</td>\n      <td>887</td>\n    </tr>\n    <tr>\n      <th>unique</th>\n      <td>NaN</td>\n      <td>NaN</td>\n      <td>2</td>\n      <td>NaN</td>\n      <td>NaN</td>\n      <td>NaN</td>\n      <td>NaN</td>\n      <td>4</td>\n      <td>4</td>\n    </tr>\n    <tr>\n      <th>top</th>\n      <td>NaN</td>\n      <td>NaN</td>\n      <td>male</td>\n      <td>NaN</td>\n      <td>NaN</td>\n      <td>NaN</td>\n      <td>NaN</td>\n      <td>(20.25, 28.0]</td>\n      <td>(-0.001, 7.925]</td>\n    </tr>\n    <tr>\n      <th>freq</th>\n      <td>NaN</td>\n      <td>NaN</td>\n      <td>573</td>\n      <td>NaN</td>\n      <td>NaN</td>\n      <td>NaN</td>\n      <td>NaN</td>\n      <td>243</td>\n      <td>238</td>\n    </tr>\n    <tr>\n      <th>mean</th>\n      <td>0.385569</td>\n      <td>2.305524</td>\n      <td>NaN</td>\n      <td>29.471443</td>\n      <td>0.525366</td>\n      <td>0.383315</td>\n      <td>32.30542</td>\n      <td>NaN</td>\n      <td>NaN</td>\n    </tr>\n    <tr>\n      <th>std</th>\n      <td>0.487004</td>\n      <td>0.836662</td>\n      <td>NaN</td>\n      <td>14.121908</td>\n      <td>1.104669</td>\n      <td>0.807466</td>\n      <td>49.78204</td>\n      <td>NaN</td>\n      <td>NaN</td>\n    </tr>\n    <tr>\n      <th>min</th>\n      <td>0.000000</td>\n      <td>1.000000</td>\n      <td>NaN</td>\n      <td>0.420000</td>\n      <td>0.000000</td>\n      <td>0.000000</td>\n      <td>0.00000</td>\n      <td>NaN</td>\n      <td>NaN</td>\n    </tr>\n    <tr>\n      <th>25%</th>\n      <td>0.000000</td>\n      <td>2.000000</td>\n      <td>NaN</td>\n      <td>20.250000</td>\n      <td>0.000000</td>\n      <td>0.000000</td>\n      <td>7.92500</td>\n      <td>NaN</td>\n      <td>NaN</td>\n    </tr>\n    <tr>\n      <th>50%</th>\n      <td>0.000000</td>\n      <td>3.000000</td>\n      <td>NaN</td>\n      <td>28.000000</td>\n      <td>0.000000</td>\n      <td>0.000000</td>\n      <td>14.45420</td>\n      <td>NaN</td>\n      <td>NaN</td>\n    </tr>\n    <tr>\n      <th>75%</th>\n      <td>1.000000</td>\n      <td>3.000000</td>\n      <td>NaN</td>\n      <td>38.000000</td>\n      <td>1.000000</td>\n      <td>0.000000</td>\n      <td>31.13750</td>\n      <td>NaN</td>\n      <td>NaN</td>\n    </tr>\n    <tr>\n      <th>max</th>\n      <td>1.000000</td>\n      <td>3.000000</td>\n      <td>NaN</td>\n      <td>80.000000</td>\n      <td>8.000000</td>\n      <td>6.000000</td>\n      <td>512.32920</td>\n      <td>NaN</td>\n      <td>NaN</td>\n    </tr>\n  </tbody>\n</table>\n</div>"
     },
     "execution_count": 2,
     "metadata": {},
     "output_type": "execute_result"
    }
   ],
   "source": [
    "titanic.describe(include='all')"
   ],
   "metadata": {
    "collapsed": false
   }
  },
  {
   "cell_type": "markdown",
   "source": [
    "We preprocess the age and fare groups into learnable class indices."
   ],
   "metadata": {
    "collapsed": false
   }
  },
  {
   "cell_type": "code",
   "execution_count": 3,
   "outputs": [
    {
     "data": {
      "text/plain": "                                                    Survived  Pclass  Sex  \\\nName                                                                        \nMr. Owen Harris Braund                                     0       3    1   \nMrs. John Bradley (Florence Briggs Thayer) Cumings         1       1    0   \nMiss. Laina Heikkinen                                      1       3    0   \nMrs. Jacques Heath (Lily May Peel) Futrelle                1       1    0   \nMr. William Henry Allen                                    0       3    1   \n\n                                                     Age  \\\nName                                                       \nMr. Owen Harris Braund                              22.0   \nMrs. John Bradley (Florence Briggs Thayer) Cumings  38.0   \nMiss. Laina Heikkinen                               26.0   \nMrs. Jacques Heath (Lily May Peel) Futrelle         35.0   \nMr. William Henry Allen                             35.0   \n\n                                                    Siblings/Spouses Aboard  \\\nName                                                                          \nMr. Owen Harris Braund                                                    1   \nMrs. John Bradley (Florence Briggs Thayer) Cumings                        1   \nMiss. Laina Heikkinen                                                     0   \nMrs. Jacques Heath (Lily May Peel) Futrelle                               1   \nMr. William Henry Allen                                                   0   \n\n                                                    Parents/Children Aboard  \\\nName                                                                          \nMr. Owen Harris Braund                                                    0   \nMrs. John Bradley (Florence Briggs Thayer) Cumings                        0   \nMiss. Laina Heikkinen                                                     0   \nMrs. Jacques Heath (Lily May Peel) Futrelle                               0   \nMr. William Henry Allen                                                   0   \n\n                                                       Fare  Age Group  \\\nName                                                                     \nMr. Owen Harris Braund                               7.2500          1   \nMrs. John Bradley (Florence Briggs Thayer) Cumings  71.2833          2   \nMiss. Laina Heikkinen                                7.9250          1   \nMrs. Jacques Heath (Lily May Peel) Futrelle         53.1000          2   \nMr. William Henry Allen                              8.0500          2   \n\n                                                    Fare Group  \nName                                                            \nMr. Owen Harris Braund                                       0  \nMrs. John Bradley (Florence Briggs Thayer) Cumings           3  \nMiss. Laina Heikkinen                                        0  \nMrs. Jacques Heath (Lily May Peel) Futrelle                  3  \nMr. William Henry Allen                                      1  ",
      "text/html": "<div>\n<style scoped>\n    .dataframe tbody tr th:only-of-type {\n        vertical-align: middle;\n    }\n\n    .dataframe tbody tr th {\n        vertical-align: top;\n    }\n\n    .dataframe thead th {\n        text-align: right;\n    }\n</style>\n<table border=\"1\" class=\"dataframe\">\n  <thead>\n    <tr style=\"text-align: right;\">\n      <th></th>\n      <th>Survived</th>\n      <th>Pclass</th>\n      <th>Sex</th>\n      <th>Age</th>\n      <th>Siblings/Spouses Aboard</th>\n      <th>Parents/Children Aboard</th>\n      <th>Fare</th>\n      <th>Age Group</th>\n      <th>Fare Group</th>\n    </tr>\n    <tr>\n      <th>Name</th>\n      <th></th>\n      <th></th>\n      <th></th>\n      <th></th>\n      <th></th>\n      <th></th>\n      <th></th>\n      <th></th>\n      <th></th>\n    </tr>\n  </thead>\n  <tbody>\n    <tr>\n      <th>Mr. Owen Harris Braund</th>\n      <td>0</td>\n      <td>3</td>\n      <td>1</td>\n      <td>22.0</td>\n      <td>1</td>\n      <td>0</td>\n      <td>7.2500</td>\n      <td>1</td>\n      <td>0</td>\n    </tr>\n    <tr>\n      <th>Mrs. John Bradley (Florence Briggs Thayer) Cumings</th>\n      <td>1</td>\n      <td>1</td>\n      <td>0</td>\n      <td>38.0</td>\n      <td>1</td>\n      <td>0</td>\n      <td>71.2833</td>\n      <td>2</td>\n      <td>3</td>\n    </tr>\n    <tr>\n      <th>Miss. Laina Heikkinen</th>\n      <td>1</td>\n      <td>3</td>\n      <td>0</td>\n      <td>26.0</td>\n      <td>0</td>\n      <td>0</td>\n      <td>7.9250</td>\n      <td>1</td>\n      <td>0</td>\n    </tr>\n    <tr>\n      <th>Mrs. Jacques Heath (Lily May Peel) Futrelle</th>\n      <td>1</td>\n      <td>1</td>\n      <td>0</td>\n      <td>35.0</td>\n      <td>1</td>\n      <td>0</td>\n      <td>53.1000</td>\n      <td>2</td>\n      <td>3</td>\n    </tr>\n    <tr>\n      <th>Mr. William Henry Allen</th>\n      <td>0</td>\n      <td>3</td>\n      <td>1</td>\n      <td>35.0</td>\n      <td>0</td>\n      <td>0</td>\n      <td>8.0500</td>\n      <td>2</td>\n      <td>1</td>\n    </tr>\n  </tbody>\n</table>\n</div>"
     },
     "execution_count": 3,
     "metadata": {},
     "output_type": "execute_result"
    }
   ],
   "source": [
    "from sklearn import preprocessing\n",
    "\n",
    "for col in ['Sex', 'Age Group', 'Fare Group']:\n",
    "    le = preprocessing.LabelEncoder()\n",
    "    titanic[col] = le.fit_transform(titanic[col])\n",
    "\n",
    "titanic.head(5)"
   ],
   "metadata": {
    "collapsed": false
   }
  },
  {
   "cell_type": "markdown",
   "source": [
    "Some preliminary definitions to use later."
   ],
   "metadata": {
    "collapsed": false
   }
  },
  {
   "cell_type": "code",
   "execution_count": 4,
   "outputs": [],
   "source": [
    "all_features = ['Pclass', 'Sex', 'Siblings/Spouses Aboard', 'Parents/Children Aboard', 'Age Group', 'Fare Group']"
   ],
   "metadata": {
    "collapsed": false
   }
  },
  {
   "cell_type": "code",
   "execution_count": 5,
   "outputs": [],
   "source": [
    "from typing import Any\n",
    "import numpy as np\n",
    "from util import kfold_eval\n",
    "\n",
    "\n",
    "def boosting_performance(model: Any, k: int = 5, average: Any = 'binary', zero_division: Any = 'warn') -> (\n",
    "np.array, np.array, np.array, np.array):\n",
    "    \"\"\"\n",
    "    Performs a k-fold cross-validation on an SVM with the specified kernel.\n",
    "\n",
    "    :param svm: The SVM model\n",
    "    :param k: how many folds to perform\n",
    "    :param average: default='binary': This parameter is required for multiclass/multilabel targets.\n",
    "    :param zero_division: default='warn'\n",
    "\n",
    "    :return: accuracy, precision, recall, f1\n",
    "    \"\"\"\n",
    "    X = titanic[all_features]\n",
    "    y = titanic['Survived']\n",
    "\n",
    "    return kfold_eval(model=model, X=X, y=y, k=k, average=average, zero_division=zero_division)"
   ],
   "metadata": {
    "collapsed": false
   }
  },
  {
   "cell_type": "markdown",
   "source": [
    "## Show the Comparison of the Performance of the models."
   ],
   "metadata": {
    "collapsed": false
   }
  },
  {
   "cell_type": "code",
   "execution_count": 6,
   "outputs": [
    {
     "name": "stdout",
     "output_type": "stream",
     "text": [
      "AdaBoost:\n"
     ]
    },
    {
     "data": {
      "text/plain": "      Accuracy  Precision    Recall  F1-Score\nFold                                         \n1     0.769663   0.694915  0.640625  0.666667\n2     0.797753   0.734177  0.794521  0.763158\n3     0.813559   0.785714  0.753425  0.769231\n4     0.779661   0.591549  0.807692  0.682927\n5     0.807910   0.714286  0.737705  0.725806",
      "text/html": "<div>\n<style scoped>\n    .dataframe tbody tr th:only-of-type {\n        vertical-align: middle;\n    }\n\n    .dataframe tbody tr th {\n        vertical-align: top;\n    }\n\n    .dataframe thead th {\n        text-align: right;\n    }\n</style>\n<table border=\"1\" class=\"dataframe\">\n  <thead>\n    <tr style=\"text-align: right;\">\n      <th></th>\n      <th>Accuracy</th>\n      <th>Precision</th>\n      <th>Recall</th>\n      <th>F1-Score</th>\n    </tr>\n    <tr>\n      <th>Fold</th>\n      <th></th>\n      <th></th>\n      <th></th>\n      <th></th>\n    </tr>\n  </thead>\n  <tbody>\n    <tr>\n      <th>1</th>\n      <td>0.769663</td>\n      <td>0.694915</td>\n      <td>0.640625</td>\n      <td>0.666667</td>\n    </tr>\n    <tr>\n      <th>2</th>\n      <td>0.797753</td>\n      <td>0.734177</td>\n      <td>0.794521</td>\n      <td>0.763158</td>\n    </tr>\n    <tr>\n      <th>3</th>\n      <td>0.813559</td>\n      <td>0.785714</td>\n      <td>0.753425</td>\n      <td>0.769231</td>\n    </tr>\n    <tr>\n      <th>4</th>\n      <td>0.779661</td>\n      <td>0.591549</td>\n      <td>0.807692</td>\n      <td>0.682927</td>\n    </tr>\n    <tr>\n      <th>5</th>\n      <td>0.807910</td>\n      <td>0.714286</td>\n      <td>0.737705</td>\n      <td>0.725806</td>\n    </tr>\n  </tbody>\n</table>\n</div>"
     },
     "metadata": {},
     "output_type": "display_data"
    },
    {
     "name": "stdout",
     "output_type": "stream",
     "text": [
      "GradientBoost:\n"
     ]
    },
    {
     "data": {
      "text/plain": "      Accuracy  Precision    Recall  F1-Score\nFold                                         \n1     0.808989   0.728814  0.704918  0.716667\n2     0.775281   0.670886  0.791045  0.726027\n3     0.819209   0.771429  0.771429  0.771429\n4     0.836158   0.690141  0.875000  0.771654\n5     0.836158   0.761905  0.774194  0.768000",
      "text/html": "<div>\n<style scoped>\n    .dataframe tbody tr th:only-of-type {\n        vertical-align: middle;\n    }\n\n    .dataframe tbody tr th {\n        vertical-align: top;\n    }\n\n    .dataframe thead th {\n        text-align: right;\n    }\n</style>\n<table border=\"1\" class=\"dataframe\">\n  <thead>\n    <tr style=\"text-align: right;\">\n      <th></th>\n      <th>Accuracy</th>\n      <th>Precision</th>\n      <th>Recall</th>\n      <th>F1-Score</th>\n    </tr>\n    <tr>\n      <th>Fold</th>\n      <th></th>\n      <th></th>\n      <th></th>\n      <th></th>\n    </tr>\n  </thead>\n  <tbody>\n    <tr>\n      <th>1</th>\n      <td>0.808989</td>\n      <td>0.728814</td>\n      <td>0.704918</td>\n      <td>0.716667</td>\n    </tr>\n    <tr>\n      <th>2</th>\n      <td>0.775281</td>\n      <td>0.670886</td>\n      <td>0.791045</td>\n      <td>0.726027</td>\n    </tr>\n    <tr>\n      <th>3</th>\n      <td>0.819209</td>\n      <td>0.771429</td>\n      <td>0.771429</td>\n      <td>0.771429</td>\n    </tr>\n    <tr>\n      <th>4</th>\n      <td>0.836158</td>\n      <td>0.690141</td>\n      <td>0.875000</td>\n      <td>0.771654</td>\n    </tr>\n    <tr>\n      <th>5</th>\n      <td>0.836158</td>\n      <td>0.761905</td>\n      <td>0.774194</td>\n      <td>0.768000</td>\n    </tr>\n  </tbody>\n</table>\n</div>"
     },
     "metadata": {},
     "output_type": "display_data"
    },
    {
     "name": "stdout",
     "output_type": "stream",
     "text": [
      "XGB:\n"
     ]
    },
    {
     "data": {
      "text/plain": "      Accuracy  Precision    Recall  F1-Score\nFold                                         \n1     0.797753   0.694915  0.694915  0.694915\n2     0.780899   0.683544  0.794118  0.734694\n3     0.841808   0.785714  0.808824  0.797101\n4     0.819209   0.647887  0.867925  0.741935\n5     0.864407   0.809524  0.809524  0.809524",
      "text/html": "<div>\n<style scoped>\n    .dataframe tbody tr th:only-of-type {\n        vertical-align: middle;\n    }\n\n    .dataframe tbody tr th {\n        vertical-align: top;\n    }\n\n    .dataframe thead th {\n        text-align: right;\n    }\n</style>\n<table border=\"1\" class=\"dataframe\">\n  <thead>\n    <tr style=\"text-align: right;\">\n      <th></th>\n      <th>Accuracy</th>\n      <th>Precision</th>\n      <th>Recall</th>\n      <th>F1-Score</th>\n    </tr>\n    <tr>\n      <th>Fold</th>\n      <th></th>\n      <th></th>\n      <th></th>\n      <th></th>\n    </tr>\n  </thead>\n  <tbody>\n    <tr>\n      <th>1</th>\n      <td>0.797753</td>\n      <td>0.694915</td>\n      <td>0.694915</td>\n      <td>0.694915</td>\n    </tr>\n    <tr>\n      <th>2</th>\n      <td>0.780899</td>\n      <td>0.683544</td>\n      <td>0.794118</td>\n      <td>0.734694</td>\n    </tr>\n    <tr>\n      <th>3</th>\n      <td>0.841808</td>\n      <td>0.785714</td>\n      <td>0.808824</td>\n      <td>0.797101</td>\n    </tr>\n    <tr>\n      <th>4</th>\n      <td>0.819209</td>\n      <td>0.647887</td>\n      <td>0.867925</td>\n      <td>0.741935</td>\n    </tr>\n    <tr>\n      <th>5</th>\n      <td>0.864407</td>\n      <td>0.809524</td>\n      <td>0.809524</td>\n      <td>0.809524</td>\n    </tr>\n  </tbody>\n</table>\n</div>"
     },
     "metadata": {},
     "output_type": "display_data"
    }
   ],
   "source": [
    "from xgboost import XGBClassifier\n",
    "from sklearn.ensemble import AdaBoostClassifier, GradientBoostingClassifier\n",
    "\n",
    "\n",
    "k_folds = 5\n",
    "models = {\n",
    "    'AdaBoost': AdaBoostClassifier(),\n",
    "    'GradientBoost': GradientBoostingClassifier(),\n",
    "    'XGB': XGBClassifier(),\n",
    "}\n",
    "\n",
    "for name, model in models.items():\n",
    "    print(f'{name}:')\n",
    "    a, p, r, f = boosting_performance(model, k=k_folds)\n",
    "    data = {\n",
    "        'Fold': range(1, k_folds + 1),\n",
    "        'Accuracy': a,\n",
    "        'Precision': p,\n",
    "        'Recall': r,\n",
    "        'F1-Score': f,\n",
    "    }\n",
    "\n",
    "    scores = pd.DataFrame(data).set_index('Fold')\n",
    "    display(scores)"
   ],
   "metadata": {
    "collapsed": false
   }
  }
 ],
 "metadata": {
  "kernelspec": {
   "display_name": "Python 3",
   "language": "python",
   "name": "python3"
  },
  "language_info": {
   "codemirror_mode": {
    "name": "ipython",
    "version": 2
   },
   "file_extension": ".py",
   "mimetype": "text/x-python",
   "name": "python",
   "nbconvert_exporter": "python",
   "pygments_lexer": "ipython2",
   "version": "2.7.6"
  }
 },
 "nbformat": 4,
 "nbformat_minor": 0
}
