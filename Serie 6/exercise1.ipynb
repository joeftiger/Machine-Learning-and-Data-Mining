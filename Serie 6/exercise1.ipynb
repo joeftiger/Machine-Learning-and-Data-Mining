{
 "cells": [
  {
   "cell_type": "markdown",
   "source": [
    "# Exercise 1\n",
    "\n",
    "Take the titanic dataset and using all attributes to predict the class `Survived` (convert age and fare into classes ; exclude names from the attribute list)"
   ],
   "metadata": {
    "collapsed": false
   }
  },
  {
   "cell_type": "code",
   "execution_count": 1,
   "outputs": [
    {
     "data": {
      "text/plain": "          Survived      Pclass   Sex         Age  Siblings/Spouses Aboard  \\\ncount   887.000000  887.000000   887  887.000000               887.000000   \nunique         NaN         NaN     2         NaN                      NaN   \ntop            NaN         NaN  male         NaN                      NaN   \nfreq           NaN         NaN   573         NaN                      NaN   \nmean      0.385569    2.305524   NaN   29.471443                 0.525366   \nstd       0.487004    0.836662   NaN   14.121908                 1.104669   \nmin       0.000000    1.000000   NaN    0.420000                 0.000000   \n25%       0.000000    2.000000   NaN   20.250000                 0.000000   \n50%       0.000000    3.000000   NaN   28.000000                 0.000000   \n75%       1.000000    3.000000   NaN   38.000000                 1.000000   \nmax       1.000000    3.000000   NaN   80.000000                 8.000000   \n\n        Parents/Children Aboard       Fare  \ncount                887.000000  887.00000  \nunique                      NaN        NaN  \ntop                         NaN        NaN  \nfreq                        NaN        NaN  \nmean                   0.383315   32.30542  \nstd                    0.807466   49.78204  \nmin                    0.000000    0.00000  \n25%                    0.000000    7.92500  \n50%                    0.000000   14.45420  \n75%                    0.000000   31.13750  \nmax                    6.000000  512.32920  ",
      "text/html": "<div>\n<style scoped>\n    .dataframe tbody tr th:only-of-type {\n        vertical-align: middle;\n    }\n\n    .dataframe tbody tr th {\n        vertical-align: top;\n    }\n\n    .dataframe thead th {\n        text-align: right;\n    }\n</style>\n<table border=\"1\" class=\"dataframe\">\n  <thead>\n    <tr style=\"text-align: right;\">\n      <th></th>\n      <th>Survived</th>\n      <th>Pclass</th>\n      <th>Sex</th>\n      <th>Age</th>\n      <th>Siblings/Spouses Aboard</th>\n      <th>Parents/Children Aboard</th>\n      <th>Fare</th>\n    </tr>\n  </thead>\n  <tbody>\n    <tr>\n      <th>count</th>\n      <td>887.000000</td>\n      <td>887.000000</td>\n      <td>887</td>\n      <td>887.000000</td>\n      <td>887.000000</td>\n      <td>887.000000</td>\n      <td>887.00000</td>\n    </tr>\n    <tr>\n      <th>unique</th>\n      <td>NaN</td>\n      <td>NaN</td>\n      <td>2</td>\n      <td>NaN</td>\n      <td>NaN</td>\n      <td>NaN</td>\n      <td>NaN</td>\n    </tr>\n    <tr>\n      <th>top</th>\n      <td>NaN</td>\n      <td>NaN</td>\n      <td>male</td>\n      <td>NaN</td>\n      <td>NaN</td>\n      <td>NaN</td>\n      <td>NaN</td>\n    </tr>\n    <tr>\n      <th>freq</th>\n      <td>NaN</td>\n      <td>NaN</td>\n      <td>573</td>\n      <td>NaN</td>\n      <td>NaN</td>\n      <td>NaN</td>\n      <td>NaN</td>\n    </tr>\n    <tr>\n      <th>mean</th>\n      <td>0.385569</td>\n      <td>2.305524</td>\n      <td>NaN</td>\n      <td>29.471443</td>\n      <td>0.525366</td>\n      <td>0.383315</td>\n      <td>32.30542</td>\n    </tr>\n    <tr>\n      <th>std</th>\n      <td>0.487004</td>\n      <td>0.836662</td>\n      <td>NaN</td>\n      <td>14.121908</td>\n      <td>1.104669</td>\n      <td>0.807466</td>\n      <td>49.78204</td>\n    </tr>\n    <tr>\n      <th>min</th>\n      <td>0.000000</td>\n      <td>1.000000</td>\n      <td>NaN</td>\n      <td>0.420000</td>\n      <td>0.000000</td>\n      <td>0.000000</td>\n      <td>0.00000</td>\n    </tr>\n    <tr>\n      <th>25%</th>\n      <td>0.000000</td>\n      <td>2.000000</td>\n      <td>NaN</td>\n      <td>20.250000</td>\n      <td>0.000000</td>\n      <td>0.000000</td>\n      <td>7.92500</td>\n    </tr>\n    <tr>\n      <th>50%</th>\n      <td>0.000000</td>\n      <td>3.000000</td>\n      <td>NaN</td>\n      <td>28.000000</td>\n      <td>0.000000</td>\n      <td>0.000000</td>\n      <td>14.45420</td>\n    </tr>\n    <tr>\n      <th>75%</th>\n      <td>1.000000</td>\n      <td>3.000000</td>\n      <td>NaN</td>\n      <td>38.000000</td>\n      <td>1.000000</td>\n      <td>0.000000</td>\n      <td>31.13750</td>\n    </tr>\n    <tr>\n      <th>max</th>\n      <td>1.000000</td>\n      <td>3.000000</td>\n      <td>NaN</td>\n      <td>80.000000</td>\n      <td>8.000000</td>\n      <td>6.000000</td>\n      <td>512.32920</td>\n    </tr>\n  </tbody>\n</table>\n</div>"
     },
     "execution_count": 1,
     "metadata": {},
     "output_type": "execute_result"
    }
   ],
   "source": [
    "import pandas as pd\n",
    "\n",
    "pd.set_option('display.max_colwidth', None)\n",
    "titanic = pd.read_csv('../Data/titanic.csv.zst', index_col='Name')\n",
    "\n",
    "titanic.describe(include='all')"
   ],
   "metadata": {
    "collapsed": false
   }
  },
  {
   "cell_type": "markdown",
   "source": [
    "First we create classes and label them."
   ],
   "metadata": {
    "collapsed": false
   }
  },
  {
   "cell_type": "code",
   "execution_count": 2,
   "outputs": [
    {
     "data": {
      "text/plain": "                                                    Survived  Pclass  Sex  \\\nName                                                                        \nMr. Owen Harris Braund                                     0       3    1   \nMrs. John Bradley (Florence Briggs Thayer) Cumings         1       1    0   \nMiss. Laina Heikkinen                                      1       3    0   \nMrs. Jacques Heath (Lily May Peel) Futrelle                1       1    0   \nMr. William Henry Allen                                    0       3    1   \n\n                                                     Age  \\\nName                                                       \nMr. Owen Harris Braund                              22.0   \nMrs. John Bradley (Florence Briggs Thayer) Cumings  38.0   \nMiss. Laina Heikkinen                               26.0   \nMrs. Jacques Heath (Lily May Peel) Futrelle         35.0   \nMr. William Henry Allen                             35.0   \n\n                                                    Siblings/Spouses Aboard  \\\nName                                                                          \nMr. Owen Harris Braund                                                    1   \nMrs. John Bradley (Florence Briggs Thayer) Cumings                        1   \nMiss. Laina Heikkinen                                                     0   \nMrs. Jacques Heath (Lily May Peel) Futrelle                               1   \nMr. William Henry Allen                                                   0   \n\n                                                    Parents/Children Aboard  \\\nName                                                                          \nMr. Owen Harris Braund                                                    0   \nMrs. John Bradley (Florence Briggs Thayer) Cumings                        0   \nMiss. Laina Heikkinen                                                     0   \nMrs. Jacques Heath (Lily May Peel) Futrelle                               0   \nMr. William Henry Allen                                                   0   \n\n                                                       Fare  Age Group  \\\nName                                                                     \nMr. Owen Harris Braund                               7.2500          1   \nMrs. John Bradley (Florence Briggs Thayer) Cumings  71.2833          2   \nMiss. Laina Heikkinen                                7.9250          1   \nMrs. Jacques Heath (Lily May Peel) Futrelle         53.1000          2   \nMr. William Henry Allen                              8.0500          2   \n\n                                                    Fare Group  \nName                                                            \nMr. Owen Harris Braund                                       0  \nMrs. John Bradley (Florence Briggs Thayer) Cumings           3  \nMiss. Laina Heikkinen                                        0  \nMrs. Jacques Heath (Lily May Peel) Futrelle                  3  \nMr. William Henry Allen                                      1  ",
      "text/html": "<div>\n<style scoped>\n    .dataframe tbody tr th:only-of-type {\n        vertical-align: middle;\n    }\n\n    .dataframe tbody tr th {\n        vertical-align: top;\n    }\n\n    .dataframe thead th {\n        text-align: right;\n    }\n</style>\n<table border=\"1\" class=\"dataframe\">\n  <thead>\n    <tr style=\"text-align: right;\">\n      <th></th>\n      <th>Survived</th>\n      <th>Pclass</th>\n      <th>Sex</th>\n      <th>Age</th>\n      <th>Siblings/Spouses Aboard</th>\n      <th>Parents/Children Aboard</th>\n      <th>Fare</th>\n      <th>Age Group</th>\n      <th>Fare Group</th>\n    </tr>\n    <tr>\n      <th>Name</th>\n      <th></th>\n      <th></th>\n      <th></th>\n      <th></th>\n      <th></th>\n      <th></th>\n      <th></th>\n      <th></th>\n      <th></th>\n    </tr>\n  </thead>\n  <tbody>\n    <tr>\n      <th>Mr. Owen Harris Braund</th>\n      <td>0</td>\n      <td>3</td>\n      <td>1</td>\n      <td>22.0</td>\n      <td>1</td>\n      <td>0</td>\n      <td>7.2500</td>\n      <td>1</td>\n      <td>0</td>\n    </tr>\n    <tr>\n      <th>Mrs. John Bradley (Florence Briggs Thayer) Cumings</th>\n      <td>1</td>\n      <td>1</td>\n      <td>0</td>\n      <td>38.0</td>\n      <td>1</td>\n      <td>0</td>\n      <td>71.2833</td>\n      <td>2</td>\n      <td>3</td>\n    </tr>\n    <tr>\n      <th>Miss. Laina Heikkinen</th>\n      <td>1</td>\n      <td>3</td>\n      <td>0</td>\n      <td>26.0</td>\n      <td>0</td>\n      <td>0</td>\n      <td>7.9250</td>\n      <td>1</td>\n      <td>0</td>\n    </tr>\n    <tr>\n      <th>Mrs. Jacques Heath (Lily May Peel) Futrelle</th>\n      <td>1</td>\n      <td>1</td>\n      <td>0</td>\n      <td>35.0</td>\n      <td>1</td>\n      <td>0</td>\n      <td>53.1000</td>\n      <td>2</td>\n      <td>3</td>\n    </tr>\n    <tr>\n      <th>Mr. William Henry Allen</th>\n      <td>0</td>\n      <td>3</td>\n      <td>1</td>\n      <td>35.0</td>\n      <td>0</td>\n      <td>0</td>\n      <td>8.0500</td>\n      <td>2</td>\n      <td>1</td>\n    </tr>\n  </tbody>\n</table>\n</div>"
     },
     "execution_count": 2,
     "metadata": {},
     "output_type": "execute_result"
    }
   ],
   "source": [
    "from sklearn import preprocessing\n",
    "\n",
    "titanic['Age Group'] = pd.qcut(x=titanic['Age'], q=4)\n",
    "titanic['Fare Group'] = pd.qcut(x=titanic['Fare'], q=4)\n",
    "\n",
    "for col in ['Sex', 'Age Group', 'Fare Group']:\n",
    "    le = preprocessing.LabelEncoder()\n",
    "    titanic[col] = le.fit_transform(titanic[col])\n",
    "\n",
    "titanic.head(5)"
   ],
   "metadata": {
    "collapsed": false
   }
  },
  {
   "cell_type": "markdown",
   "source": [
    "Some preliminary definitions to use later."
   ],
   "metadata": {
    "collapsed": false
   }
  },
  {
   "cell_type": "code",
   "execution_count": 3,
   "outputs": [],
   "source": [
    "all_features = ['Pclass', 'Sex', 'Siblings/Spouses Aboard', 'Parents/Children Aboard', 'Age Group', 'Fare Group']\n",
    "max_depth = len(all_features) + 1"
   ],
   "metadata": {
    "collapsed": false
   }
  },
  {
   "cell_type": "markdown",
   "source": [
    "## (a) Choose Three classifiers and evaluate their performance using all attributes"
   ],
   "metadata": {
    "collapsed": false
   }
  },
  {
   "cell_type": "code",
   "execution_count": 4,
   "outputs": [],
   "source": [
    "from sklearn.naive_bayes import GaussianNB\n",
    "from sklearn.neighbors import KNeighborsClassifier\n",
    "from sklearn.tree import DecisionTreeClassifier\n",
    "\n",
    "models = {\n",
    "    'Decision Tree': DecisionTreeClassifier(),\n",
    "    'KNN': KNeighborsClassifier(metric='canberra'),\n",
    "    # Note: We use the `canberra` metric, as it has proven to be the best one in the past exercises.\n",
    "    'Naïve Bayes': GaussianNB(),\n",
    "}"
   ],
   "metadata": {
    "collapsed": false
   }
  },
  {
   "cell_type": "code",
   "execution_count": 5,
   "outputs": [
    {
     "name": "stdout",
     "output_type": "stream",
     "text": [
      "DecisionTreeClassifier():\n"
     ]
    },
    {
     "data": {
      "text/plain": "      Accuracy  Precision    Recall  F1-Score\nFold                                         \n1     0.786517   0.627119  0.698113  0.660714\n2     0.786517   0.683544  0.805970  0.739726\n3     0.830508   0.742857  0.812500  0.776119\n4     0.813559   0.633803  0.865385  0.731707\n5     0.847458   0.746032  0.810345  0.776860",
      "text/html": "<div>\n<style scoped>\n    .dataframe tbody tr th:only-of-type {\n        vertical-align: middle;\n    }\n\n    .dataframe tbody tr th {\n        vertical-align: top;\n    }\n\n    .dataframe thead th {\n        text-align: right;\n    }\n</style>\n<table border=\"1\" class=\"dataframe\">\n  <thead>\n    <tr style=\"text-align: right;\">\n      <th></th>\n      <th>Accuracy</th>\n      <th>Precision</th>\n      <th>Recall</th>\n      <th>F1-Score</th>\n    </tr>\n    <tr>\n      <th>Fold</th>\n      <th></th>\n      <th></th>\n      <th></th>\n      <th></th>\n    </tr>\n  </thead>\n  <tbody>\n    <tr>\n      <th>1</th>\n      <td>0.786517</td>\n      <td>0.627119</td>\n      <td>0.698113</td>\n      <td>0.660714</td>\n    </tr>\n    <tr>\n      <th>2</th>\n      <td>0.786517</td>\n      <td>0.683544</td>\n      <td>0.805970</td>\n      <td>0.739726</td>\n    </tr>\n    <tr>\n      <th>3</th>\n      <td>0.830508</td>\n      <td>0.742857</td>\n      <td>0.812500</td>\n      <td>0.776119</td>\n    </tr>\n    <tr>\n      <th>4</th>\n      <td>0.813559</td>\n      <td>0.633803</td>\n      <td>0.865385</td>\n      <td>0.731707</td>\n    </tr>\n    <tr>\n      <th>5</th>\n      <td>0.847458</td>\n      <td>0.746032</td>\n      <td>0.810345</td>\n      <td>0.776860</td>\n    </tr>\n  </tbody>\n</table>\n</div>"
     },
     "metadata": {},
     "output_type": "display_data"
    },
    {
     "name": "stdout",
     "output_type": "stream",
     "text": [
      "KNeighborsClassifier(metric='canberra'):\n"
     ]
    },
    {
     "data": {
      "text/plain": "      Accuracy  Precision    Recall  F1-Score\nFold                                         \n1     0.735955   0.779661  0.575000  0.661871\n2     0.820225   0.746835  0.830986  0.786667\n3     0.824859   0.785714  0.774648  0.780142\n4     0.824859   0.690141  0.844828  0.759690\n5     0.870056   0.825397  0.812500  0.818898",
      "text/html": "<div>\n<style scoped>\n    .dataframe tbody tr th:only-of-type {\n        vertical-align: middle;\n    }\n\n    .dataframe tbody tr th {\n        vertical-align: top;\n    }\n\n    .dataframe thead th {\n        text-align: right;\n    }\n</style>\n<table border=\"1\" class=\"dataframe\">\n  <thead>\n    <tr style=\"text-align: right;\">\n      <th></th>\n      <th>Accuracy</th>\n      <th>Precision</th>\n      <th>Recall</th>\n      <th>F1-Score</th>\n    </tr>\n    <tr>\n      <th>Fold</th>\n      <th></th>\n      <th></th>\n      <th></th>\n      <th></th>\n    </tr>\n  </thead>\n  <tbody>\n    <tr>\n      <th>1</th>\n      <td>0.735955</td>\n      <td>0.779661</td>\n      <td>0.575000</td>\n      <td>0.661871</td>\n    </tr>\n    <tr>\n      <th>2</th>\n      <td>0.820225</td>\n      <td>0.746835</td>\n      <td>0.830986</td>\n      <td>0.786667</td>\n    </tr>\n    <tr>\n      <th>3</th>\n      <td>0.824859</td>\n      <td>0.785714</td>\n      <td>0.774648</td>\n      <td>0.780142</td>\n    </tr>\n    <tr>\n      <th>4</th>\n      <td>0.824859</td>\n      <td>0.690141</td>\n      <td>0.844828</td>\n      <td>0.759690</td>\n    </tr>\n    <tr>\n      <th>5</th>\n      <td>0.870056</td>\n      <td>0.825397</td>\n      <td>0.812500</td>\n      <td>0.818898</td>\n    </tr>\n  </tbody>\n</table>\n</div>"
     },
     "metadata": {},
     "output_type": "display_data"
    },
    {
     "name": "stdout",
     "output_type": "stream",
     "text": [
      "GaussianNB():\n"
     ]
    },
    {
     "data": {
      "text/plain": "      Accuracy  Precision    Recall  F1-Score\nFold                                         \n1     0.719101   0.762712  0.555556  0.642857\n2     0.752809   0.759494  0.705882  0.731707\n3     0.785311   0.857143  0.681818  0.759494\n4     0.790960   0.774648  0.723684  0.748299\n5     0.813559   0.777778  0.720588  0.748092",
      "text/html": "<div>\n<style scoped>\n    .dataframe tbody tr th:only-of-type {\n        vertical-align: middle;\n    }\n\n    .dataframe tbody tr th {\n        vertical-align: top;\n    }\n\n    .dataframe thead th {\n        text-align: right;\n    }\n</style>\n<table border=\"1\" class=\"dataframe\">\n  <thead>\n    <tr style=\"text-align: right;\">\n      <th></th>\n      <th>Accuracy</th>\n      <th>Precision</th>\n      <th>Recall</th>\n      <th>F1-Score</th>\n    </tr>\n    <tr>\n      <th>Fold</th>\n      <th></th>\n      <th></th>\n      <th></th>\n      <th></th>\n    </tr>\n  </thead>\n  <tbody>\n    <tr>\n      <th>1</th>\n      <td>0.719101</td>\n      <td>0.762712</td>\n      <td>0.555556</td>\n      <td>0.642857</td>\n    </tr>\n    <tr>\n      <th>2</th>\n      <td>0.752809</td>\n      <td>0.759494</td>\n      <td>0.705882</td>\n      <td>0.731707</td>\n    </tr>\n    <tr>\n      <th>3</th>\n      <td>0.785311</td>\n      <td>0.857143</td>\n      <td>0.681818</td>\n      <td>0.759494</td>\n    </tr>\n    <tr>\n      <th>4</th>\n      <td>0.790960</td>\n      <td>0.774648</td>\n      <td>0.723684</td>\n      <td>0.748299</td>\n    </tr>\n    <tr>\n      <th>5</th>\n      <td>0.813559</td>\n      <td>0.777778</td>\n      <td>0.720588</td>\n      <td>0.748092</td>\n    </tr>\n  </tbody>\n</table>\n</div>"
     },
     "metadata": {},
     "output_type": "display_data"
    }
   ],
   "source": [
    "from util import *\n",
    "\n",
    "for name, model in models.items():\n",
    "    print(f'{model}:')\n",
    "    a, p, r, f = kfold_eval(model, titanic[all_features], titanic['Survived'], 5)\n",
    "    data = {\n",
    "        'Fold': range(1, 6),\n",
    "        'Accuracy': a,\n",
    "        'Precision': p,\n",
    "        'Recall': r,\n",
    "        'F1-Score': f,\n",
    "    }\n",
    "\n",
    "    scores = pd.DataFrame(data).set_index('Fold')\n",
    "    display(scores)"
   ],
   "metadata": {
    "collapsed": false
   }
  },
  {
   "cell_type": "markdown",
   "source": [
    "## (b) Define a feature selection method and use it on all the classifiers;\n",
    "We will be using PCA for this task."
   ],
   "metadata": {
    "collapsed": false
   }
  },
  {
   "cell_type": "code",
   "execution_count": 6,
   "outputs": [
    {
     "name": "stdout",
     "output_type": "stream",
     "text": [
      "Decision Tree:\n"
     ]
    },
    {
     "data": {
      "text/plain": "      Accuracy  Precision    Recall  F1-Score\nFold                                         \n1      0.79096   0.634921  0.740741  0.683761\n2      0.79096   0.634921  0.740741  0.683761\n3      0.79096   0.634921  0.740741  0.683761\n4      0.79096   0.634921  0.740741  0.683761\n5      0.79096   0.634921  0.740741  0.683761",
      "text/html": "<div>\n<style scoped>\n    .dataframe tbody tr th:only-of-type {\n        vertical-align: middle;\n    }\n\n    .dataframe tbody tr th {\n        vertical-align: top;\n    }\n\n    .dataframe thead th {\n        text-align: right;\n    }\n</style>\n<table border=\"1\" class=\"dataframe\">\n  <thead>\n    <tr style=\"text-align: right;\">\n      <th></th>\n      <th>Accuracy</th>\n      <th>Precision</th>\n      <th>Recall</th>\n      <th>F1-Score</th>\n    </tr>\n    <tr>\n      <th>Fold</th>\n      <th></th>\n      <th></th>\n      <th></th>\n      <th></th>\n    </tr>\n  </thead>\n  <tbody>\n    <tr>\n      <th>1</th>\n      <td>0.79096</td>\n      <td>0.634921</td>\n      <td>0.740741</td>\n      <td>0.683761</td>\n    </tr>\n    <tr>\n      <th>2</th>\n      <td>0.79096</td>\n      <td>0.634921</td>\n      <td>0.740741</td>\n      <td>0.683761</td>\n    </tr>\n    <tr>\n      <th>3</th>\n      <td>0.79096</td>\n      <td>0.634921</td>\n      <td>0.740741</td>\n      <td>0.683761</td>\n    </tr>\n    <tr>\n      <th>4</th>\n      <td>0.79096</td>\n      <td>0.634921</td>\n      <td>0.740741</td>\n      <td>0.683761</td>\n    </tr>\n    <tr>\n      <th>5</th>\n      <td>0.79096</td>\n      <td>0.634921</td>\n      <td>0.740741</td>\n      <td>0.683761</td>\n    </tr>\n  </tbody>\n</table>\n</div>"
     },
     "metadata": {},
     "output_type": "display_data"
    },
    {
     "name": "stdout",
     "output_type": "stream",
     "text": [
      "KNN:\n"
     ]
    },
    {
     "data": {
      "text/plain": "      Accuracy  Precision  Recall  F1-Score\nFold                                       \n1     0.824859   0.761905    0.75  0.755906\n2     0.824859   0.761905    0.75  0.755906\n3     0.824859   0.761905    0.75  0.755906\n4     0.824859   0.761905    0.75  0.755906\n5     0.824859   0.761905    0.75  0.755906",
      "text/html": "<div>\n<style scoped>\n    .dataframe tbody tr th:only-of-type {\n        vertical-align: middle;\n    }\n\n    .dataframe tbody tr th {\n        vertical-align: top;\n    }\n\n    .dataframe thead th {\n        text-align: right;\n    }\n</style>\n<table border=\"1\" class=\"dataframe\">\n  <thead>\n    <tr style=\"text-align: right;\">\n      <th></th>\n      <th>Accuracy</th>\n      <th>Precision</th>\n      <th>Recall</th>\n      <th>F1-Score</th>\n    </tr>\n    <tr>\n      <th>Fold</th>\n      <th></th>\n      <th></th>\n      <th></th>\n      <th></th>\n    </tr>\n  </thead>\n  <tbody>\n    <tr>\n      <th>1</th>\n      <td>0.824859</td>\n      <td>0.761905</td>\n      <td>0.75</td>\n      <td>0.755906</td>\n    </tr>\n    <tr>\n      <th>2</th>\n      <td>0.824859</td>\n      <td>0.761905</td>\n      <td>0.75</td>\n      <td>0.755906</td>\n    </tr>\n    <tr>\n      <th>3</th>\n      <td>0.824859</td>\n      <td>0.761905</td>\n      <td>0.75</td>\n      <td>0.755906</td>\n    </tr>\n    <tr>\n      <th>4</th>\n      <td>0.824859</td>\n      <td>0.761905</td>\n      <td>0.75</td>\n      <td>0.755906</td>\n    </tr>\n    <tr>\n      <th>5</th>\n      <td>0.824859</td>\n      <td>0.761905</td>\n      <td>0.75</td>\n      <td>0.755906</td>\n    </tr>\n  </tbody>\n</table>\n</div>"
     },
     "metadata": {},
     "output_type": "display_data"
    },
    {
     "name": "stdout",
     "output_type": "stream",
     "text": [
      "Naïve Bayes:\n"
     ]
    },
    {
     "data": {
      "text/plain": "      Accuracy  Precision    Recall  F1-Score\nFold                                         \n1     0.745763   0.555556  0.673077  0.608696\n2     0.745763   0.555556  0.673077  0.608696\n3     0.745763   0.555556  0.673077  0.608696\n4     0.745763   0.555556  0.673077  0.608696\n5     0.745763   0.555556  0.673077  0.608696",
      "text/html": "<div>\n<style scoped>\n    .dataframe tbody tr th:only-of-type {\n        vertical-align: middle;\n    }\n\n    .dataframe tbody tr th {\n        vertical-align: top;\n    }\n\n    .dataframe thead th {\n        text-align: right;\n    }\n</style>\n<table border=\"1\" class=\"dataframe\">\n  <thead>\n    <tr style=\"text-align: right;\">\n      <th></th>\n      <th>Accuracy</th>\n      <th>Precision</th>\n      <th>Recall</th>\n      <th>F1-Score</th>\n    </tr>\n    <tr>\n      <th>Fold</th>\n      <th></th>\n      <th></th>\n      <th></th>\n      <th></th>\n    </tr>\n  </thead>\n  <tbody>\n    <tr>\n      <th>1</th>\n      <td>0.745763</td>\n      <td>0.555556</td>\n      <td>0.673077</td>\n      <td>0.608696</td>\n    </tr>\n    <tr>\n      <th>2</th>\n      <td>0.745763</td>\n      <td>0.555556</td>\n      <td>0.673077</td>\n      <td>0.608696</td>\n    </tr>\n    <tr>\n      <th>3</th>\n      <td>0.745763</td>\n      <td>0.555556</td>\n      <td>0.673077</td>\n      <td>0.608696</td>\n    </tr>\n    <tr>\n      <th>4</th>\n      <td>0.745763</td>\n      <td>0.555556</td>\n      <td>0.673077</td>\n      <td>0.608696</td>\n    </tr>\n    <tr>\n      <th>5</th>\n      <td>0.745763</td>\n      <td>0.555556</td>\n      <td>0.673077</td>\n      <td>0.608696</td>\n    </tr>\n  </tbody>\n</table>\n</div>"
     },
     "metadata": {},
     "output_type": "display_data"
    }
   ],
   "source": [
    "from util import pca_eval\n",
    "\n",
    "for name, model in models.items():\n",
    "    a, p, r, f1 = pca_eval(model, titanic[all_features], titanic['Survived'], k=5, c=4)\n",
    "\n",
    "    print(f'{name}:')\n",
    "    data = {\n",
    "        'Fold': range(1, 6),\n",
    "        'Accuracy': a,\n",
    "        'Precision': p,\n",
    "        'Recall': r,\n",
    "        'F1-Score': f1,\n",
    "    }\n",
    "\n",
    "    scores = pd.DataFrame(data).set_index('Fold')\n",
    "    display(scores)"
   ],
   "metadata": {
    "collapsed": false
   }
  },
  {
   "cell_type": "markdown",
   "source": [
    "## (c) Compare the classifiers and explain the differences observed;\n",
    "\n",
    "PCA is a data reduction technique compressing all features into just a few principal components.\n",
    "\n",
    "The performance seems to be consistently lower though.\n",
    "Further checking/changing code did not shine light on as to why."
   ],
   "metadata": {
    "collapsed": false
   }
  }
 ],
 "metadata": {
  "kernelspec": {
   "display_name": "Python 3",
   "language": "python",
   "name": "python3"
  },
  "language_info": {
   "codemirror_mode": {
    "name": "ipython",
    "version": 2
   },
   "file_extension": ".py",
   "mimetype": "text/x-python",
   "name": "python",
   "nbconvert_exporter": "python",
   "pygments_lexer": "ipython2",
   "version": "2.7.6"
  }
 },
 "nbformat": 4,
 "nbformat_minor": 0
}
