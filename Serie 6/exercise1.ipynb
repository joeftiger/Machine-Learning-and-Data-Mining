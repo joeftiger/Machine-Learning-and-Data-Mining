{
 "cells": [
  {
   "cell_type": "markdown",
   "source": [
    "# Exercise 1\n",
    "\n",
    "Take the titanic dataset and using all attributes to predict the class `Survived` (convert age and fare into classes ; exclude names from the attribute list)"
   ],
   "metadata": {
    "collapsed": false
   }
  },
  {
   "cell_type": "code",
   "execution_count": 1,
   "outputs": [
    {
     "data": {
      "text/plain": "          Survived      Pclass   Sex         Age  Siblings/Spouses Aboard  \\\ncount   887.000000  887.000000   887  887.000000               887.000000   \nunique         NaN         NaN     2         NaN                      NaN   \ntop            NaN         NaN  male         NaN                      NaN   \nfreq           NaN         NaN   573         NaN                      NaN   \nmean      0.385569    2.305524   NaN   29.471443                 0.525366   \nstd       0.487004    0.836662   NaN   14.121908                 1.104669   \nmin       0.000000    1.000000   NaN    0.420000                 0.000000   \n25%       0.000000    2.000000   NaN   20.250000                 0.000000   \n50%       0.000000    3.000000   NaN   28.000000                 0.000000   \n75%       1.000000    3.000000   NaN   38.000000                 1.000000   \nmax       1.000000    3.000000   NaN   80.000000                 8.000000   \n\n        Parents/Children Aboard       Fare  \ncount                887.000000  887.00000  \nunique                      NaN        NaN  \ntop                         NaN        NaN  \nfreq                        NaN        NaN  \nmean                   0.383315   32.30542  \nstd                    0.807466   49.78204  \nmin                    0.000000    0.00000  \n25%                    0.000000    7.92500  \n50%                    0.000000   14.45420  \n75%                    0.000000   31.13750  \nmax                    6.000000  512.32920  ",
      "text/html": "<div>\n<style scoped>\n    .dataframe tbody tr th:only-of-type {\n        vertical-align: middle;\n    }\n\n    .dataframe tbody tr th {\n        vertical-align: top;\n    }\n\n    .dataframe thead th {\n        text-align: right;\n    }\n</style>\n<table border=\"1\" class=\"dataframe\">\n  <thead>\n    <tr style=\"text-align: right;\">\n      <th></th>\n      <th>Survived</th>\n      <th>Pclass</th>\n      <th>Sex</th>\n      <th>Age</th>\n      <th>Siblings/Spouses Aboard</th>\n      <th>Parents/Children Aboard</th>\n      <th>Fare</th>\n    </tr>\n  </thead>\n  <tbody>\n    <tr>\n      <th>count</th>\n      <td>887.000000</td>\n      <td>887.000000</td>\n      <td>887</td>\n      <td>887.000000</td>\n      <td>887.000000</td>\n      <td>887.000000</td>\n      <td>887.00000</td>\n    </tr>\n    <tr>\n      <th>unique</th>\n      <td>NaN</td>\n      <td>NaN</td>\n      <td>2</td>\n      <td>NaN</td>\n      <td>NaN</td>\n      <td>NaN</td>\n      <td>NaN</td>\n    </tr>\n    <tr>\n      <th>top</th>\n      <td>NaN</td>\n      <td>NaN</td>\n      <td>male</td>\n      <td>NaN</td>\n      <td>NaN</td>\n      <td>NaN</td>\n      <td>NaN</td>\n    </tr>\n    <tr>\n      <th>freq</th>\n      <td>NaN</td>\n      <td>NaN</td>\n      <td>573</td>\n      <td>NaN</td>\n      <td>NaN</td>\n      <td>NaN</td>\n      <td>NaN</td>\n    </tr>\n    <tr>\n      <th>mean</th>\n      <td>0.385569</td>\n      <td>2.305524</td>\n      <td>NaN</td>\n      <td>29.471443</td>\n      <td>0.525366</td>\n      <td>0.383315</td>\n      <td>32.30542</td>\n    </tr>\n    <tr>\n      <th>std</th>\n      <td>0.487004</td>\n      <td>0.836662</td>\n      <td>NaN</td>\n      <td>14.121908</td>\n      <td>1.104669</td>\n      <td>0.807466</td>\n      <td>49.78204</td>\n    </tr>\n    <tr>\n      <th>min</th>\n      <td>0.000000</td>\n      <td>1.000000</td>\n      <td>NaN</td>\n      <td>0.420000</td>\n      <td>0.000000</td>\n      <td>0.000000</td>\n      <td>0.00000</td>\n    </tr>\n    <tr>\n      <th>25%</th>\n      <td>0.000000</td>\n      <td>2.000000</td>\n      <td>NaN</td>\n      <td>20.250000</td>\n      <td>0.000000</td>\n      <td>0.000000</td>\n      <td>7.92500</td>\n    </tr>\n    <tr>\n      <th>50%</th>\n      <td>0.000000</td>\n      <td>3.000000</td>\n      <td>NaN</td>\n      <td>28.000000</td>\n      <td>0.000000</td>\n      <td>0.000000</td>\n      <td>14.45420</td>\n    </tr>\n    <tr>\n      <th>75%</th>\n      <td>1.000000</td>\n      <td>3.000000</td>\n      <td>NaN</td>\n      <td>38.000000</td>\n      <td>1.000000</td>\n      <td>0.000000</td>\n      <td>31.13750</td>\n    </tr>\n    <tr>\n      <th>max</th>\n      <td>1.000000</td>\n      <td>3.000000</td>\n      <td>NaN</td>\n      <td>80.000000</td>\n      <td>8.000000</td>\n      <td>6.000000</td>\n      <td>512.32920</td>\n    </tr>\n  </tbody>\n</table>\n</div>"
     },
     "execution_count": 1,
     "metadata": {},
     "output_type": "execute_result"
    }
   ],
   "source": [
    "import pandas as pd\n",
    "\n",
    "pd.set_option('display.max_colwidth', None)\n",
    "titanic = pd.read_csv('../Data/titanic.csv.zst', index_col='Name')\n",
    "\n",
    "titanic.describe(include='all')"
   ],
   "metadata": {
    "collapsed": false
   }
  },
  {
   "cell_type": "markdown",
   "source": [
    "First we create classes and label them."
   ],
   "metadata": {
    "collapsed": false
   }
  },
  {
   "cell_type": "code",
   "execution_count": 2,
   "outputs": [
    {
     "data": {
      "text/plain": "                                                    Survived  Pclass  Sex  \\\nName                                                                        \nMr. Owen Harris Braund                                     0       3    1   \nMrs. John Bradley (Florence Briggs Thayer) Cumings         1       1    0   \nMiss. Laina Heikkinen                                      1       3    0   \nMrs. Jacques Heath (Lily May Peel) Futrelle                1       1    0   \nMr. William Henry Allen                                    0       3    1   \n\n                                                     Age  \\\nName                                                       \nMr. Owen Harris Braund                              22.0   \nMrs. John Bradley (Florence Briggs Thayer) Cumings  38.0   \nMiss. Laina Heikkinen                               26.0   \nMrs. Jacques Heath (Lily May Peel) Futrelle         35.0   \nMr. William Henry Allen                             35.0   \n\n                                                    Siblings/Spouses Aboard  \\\nName                                                                          \nMr. Owen Harris Braund                                                    1   \nMrs. John Bradley (Florence Briggs Thayer) Cumings                        1   \nMiss. Laina Heikkinen                                                     0   \nMrs. Jacques Heath (Lily May Peel) Futrelle                               1   \nMr. William Henry Allen                                                   0   \n\n                                                    Parents/Children Aboard  \\\nName                                                                          \nMr. Owen Harris Braund                                                    0   \nMrs. John Bradley (Florence Briggs Thayer) Cumings                        0   \nMiss. Laina Heikkinen                                                     0   \nMrs. Jacques Heath (Lily May Peel) Futrelle                               0   \nMr. William Henry Allen                                                   0   \n\n                                                       Fare  Age Group  \\\nName                                                                     \nMr. Owen Harris Braund                               7.2500          1   \nMrs. John Bradley (Florence Briggs Thayer) Cumings  71.2833          2   \nMiss. Laina Heikkinen                                7.9250          1   \nMrs. Jacques Heath (Lily May Peel) Futrelle         53.1000          2   \nMr. William Henry Allen                              8.0500          2   \n\n                                                    Fare Group  \nName                                                            \nMr. Owen Harris Braund                                       0  \nMrs. John Bradley (Florence Briggs Thayer) Cumings           3  \nMiss. Laina Heikkinen                                        0  \nMrs. Jacques Heath (Lily May Peel) Futrelle                  3  \nMr. William Henry Allen                                      1  ",
      "text/html": "<div>\n<style scoped>\n    .dataframe tbody tr th:only-of-type {\n        vertical-align: middle;\n    }\n\n    .dataframe tbody tr th {\n        vertical-align: top;\n    }\n\n    .dataframe thead th {\n        text-align: right;\n    }\n</style>\n<table border=\"1\" class=\"dataframe\">\n  <thead>\n    <tr style=\"text-align: right;\">\n      <th></th>\n      <th>Survived</th>\n      <th>Pclass</th>\n      <th>Sex</th>\n      <th>Age</th>\n      <th>Siblings/Spouses Aboard</th>\n      <th>Parents/Children Aboard</th>\n      <th>Fare</th>\n      <th>Age Group</th>\n      <th>Fare Group</th>\n    </tr>\n    <tr>\n      <th>Name</th>\n      <th></th>\n      <th></th>\n      <th></th>\n      <th></th>\n      <th></th>\n      <th></th>\n      <th></th>\n      <th></th>\n      <th></th>\n    </tr>\n  </thead>\n  <tbody>\n    <tr>\n      <th>Mr. Owen Harris Braund</th>\n      <td>0</td>\n      <td>3</td>\n      <td>1</td>\n      <td>22.0</td>\n      <td>1</td>\n      <td>0</td>\n      <td>7.2500</td>\n      <td>1</td>\n      <td>0</td>\n    </tr>\n    <tr>\n      <th>Mrs. John Bradley (Florence Briggs Thayer) Cumings</th>\n      <td>1</td>\n      <td>1</td>\n      <td>0</td>\n      <td>38.0</td>\n      <td>1</td>\n      <td>0</td>\n      <td>71.2833</td>\n      <td>2</td>\n      <td>3</td>\n    </tr>\n    <tr>\n      <th>Miss. Laina Heikkinen</th>\n      <td>1</td>\n      <td>3</td>\n      <td>0</td>\n      <td>26.0</td>\n      <td>0</td>\n      <td>0</td>\n      <td>7.9250</td>\n      <td>1</td>\n      <td>0</td>\n    </tr>\n    <tr>\n      <th>Mrs. Jacques Heath (Lily May Peel) Futrelle</th>\n      <td>1</td>\n      <td>1</td>\n      <td>0</td>\n      <td>35.0</td>\n      <td>1</td>\n      <td>0</td>\n      <td>53.1000</td>\n      <td>2</td>\n      <td>3</td>\n    </tr>\n    <tr>\n      <th>Mr. William Henry Allen</th>\n      <td>0</td>\n      <td>3</td>\n      <td>1</td>\n      <td>35.0</td>\n      <td>0</td>\n      <td>0</td>\n      <td>8.0500</td>\n      <td>2</td>\n      <td>1</td>\n    </tr>\n  </tbody>\n</table>\n</div>"
     },
     "execution_count": 2,
     "metadata": {},
     "output_type": "execute_result"
    }
   ],
   "source": [
    "from sklearn import preprocessing\n",
    "\n",
    "titanic['Age Group'] = pd.qcut(x=titanic['Age'], q=4)\n",
    "titanic['Fare Group'] = pd.qcut(x=titanic['Fare'], q=4)\n",
    "\n",
    "for col in ['Sex', 'Age Group', 'Fare Group']:\n",
    "    le = preprocessing.LabelEncoder()\n",
    "    titanic[col] = le.fit_transform(titanic[col])\n",
    "\n",
    "titanic.head(5)"
   ],
   "metadata": {
    "collapsed": false
   }
  },
  {
   "cell_type": "markdown",
   "source": [
    "Some preliminary definitions to use later."
   ],
   "metadata": {
    "collapsed": false
   }
  },
  {
   "cell_type": "code",
   "execution_count": 3,
   "outputs": [],
   "source": [
    "all_features = ['Pclass', 'Sex', 'Siblings/Spouses Aboard', 'Parents/Children Aboard', 'Age Group', 'Fare Group']\n",
    "max_depth = len(all_features) + 1\n",
    "X = titanic[all_features]\n",
    "y = titanic['Survived']"
   ],
   "metadata": {
    "collapsed": false
   }
  },
  {
   "cell_type": "code",
   "execution_count": 4,
   "outputs": [],
   "source": [
    "## (a) Choose Three classifiers and evaluate their performance using all attributes"
   ],
   "metadata": {
    "collapsed": false
   }
  },
  {
   "cell_type": "code",
   "execution_count": 5,
   "outputs": [],
   "source": [
    "from sklearn.naive_bayes import GaussianNB\n",
    "from sklearn.neighbors import KNeighborsClassifier\n",
    "from sklearn.tree import DecisionTreeClassifier\n",
    "\n",
    "models = {\n",
    "    'Decision Tree': DecisionTreeClassifier(),\n",
    "    'KNN': KNeighborsClassifier(metric='canberra'), # Note: We use the `canberra` metric, as it has proven to be the best one in the past exercises.\n",
    "    'Naïve Bayes': GaussianNB(),\n",
    "}"
   ],
   "metadata": {
    "collapsed": false
   }
  },
  {
   "cell_type": "code",
   "execution_count": 6,
   "outputs": [],
   "source": [
    "def create_perf_db() -> pd.DataFrame:\n",
    "    return pd.DataFrame(columns=['Model', 'Accuracy', 'Precision', 'Recall', 'F1-Score']).set_index('Model')"
   ],
   "metadata": {
    "collapsed": false
   }
  },
  {
   "cell_type": "code",
   "execution_count": 7,
   "outputs": [
    {
     "name": "stderr",
     "output_type": "stream",
     "text": [
      "/tmp/ipykernel_25217/2223214721.py:15: FutureWarning: The frame.append method is deprecated and will be removed from pandas in a future version. Use pandas.concat instead.\n",
      "  perf = perf.append(row)\n",
      "/tmp/ipykernel_25217/2223214721.py:15: FutureWarning: The frame.append method is deprecated and will be removed from pandas in a future version. Use pandas.concat instead.\n",
      "  perf = perf.append(row)\n",
      "/tmp/ipykernel_25217/2223214721.py:15: FutureWarning: The frame.append method is deprecated and will be removed from pandas in a future version. Use pandas.concat instead.\n",
      "  perf = perf.append(row)\n"
     ]
    },
    {
     "data": {
      "text/plain": "                                         Accuracy  Precision    Recall  \\\nModel                                                                    \nDecisionTreeClassifier()                 0.855856   0.784091  0.841463   \nKNeighborsClassifier(metric='canberra')  0.869369   0.818182  0.847059   \nGaussianNB()                             0.819820   0.875000  0.726415   \n\n                                         F1-Score  \nModel                                              \nDecisionTreeClassifier()                 0.811765  \nKNeighborsClassifier(metric='canberra')  0.832370  \nGaussianNB()                             0.793814  ",
      "text/html": "<div>\n<style scoped>\n    .dataframe tbody tr th:only-of-type {\n        vertical-align: middle;\n    }\n\n    .dataframe tbody tr th {\n        vertical-align: top;\n    }\n\n    .dataframe thead th {\n        text-align: right;\n    }\n</style>\n<table border=\"1\" class=\"dataframe\">\n  <thead>\n    <tr style=\"text-align: right;\">\n      <th></th>\n      <th>Accuracy</th>\n      <th>Precision</th>\n      <th>Recall</th>\n      <th>F1-Score</th>\n    </tr>\n    <tr>\n      <th>Model</th>\n      <th></th>\n      <th></th>\n      <th></th>\n      <th></th>\n    </tr>\n  </thead>\n  <tbody>\n    <tr>\n      <th>DecisionTreeClassifier()</th>\n      <td>0.855856</td>\n      <td>0.784091</td>\n      <td>0.841463</td>\n      <td>0.811765</td>\n    </tr>\n    <tr>\n      <th>KNeighborsClassifier(metric='canberra')</th>\n      <td>0.869369</td>\n      <td>0.818182</td>\n      <td>0.847059</td>\n      <td>0.832370</td>\n    </tr>\n    <tr>\n      <th>GaussianNB()</th>\n      <td>0.819820</td>\n      <td>0.875000</td>\n      <td>0.726415</td>\n      <td>0.793814</td>\n    </tr>\n  </tbody>\n</table>\n</div>"
     },
     "execution_count": 7,
     "metadata": {},
     "output_type": "execute_result"
    }
   ],
   "source": [
    "from sklearn.model_selection import train_test_split\n",
    "from util import *\n",
    "\n",
    "perf = create_perf_db()\n",
    "for name, model in models.items():\n",
    "    X_train, X_test, y_train, y_test = train_test_split(X, y, test_size=0.25, random_state=224)\n",
    "    a, p, r, f = evaluate(model, X_train, X_test, y_train, y_test)\n",
    "\n",
    "    row = pd.Series({\n",
    "        'Accuracy': a,\n",
    "        'Precision': p,\n",
    "        'Recall': r,\n",
    "        'F1-Score': f,\n",
    "    }, name=model)\n",
    "    perf = perf.append(row)\n",
    "    # Frickin pd.concat isn't worth a penny -.- Tried so many different things to make it work, but nah...\n",
    "\n",
    "perf"
   ],
   "metadata": {
    "collapsed": false
   }
  },
  {
   "cell_type": "markdown",
   "source": [
    "## (b) Define a feature selection method and use it on all the classifiers ;"
   ],
   "metadata": {
    "collapsed": false
   }
  },
  {
   "cell_type": "code",
   "execution_count": 8,
   "outputs": [
    {
     "name": "stdout",
     "output_type": "stream",
     "text": [
      "f_classif:\n"
     ]
    },
    {
     "data": {
      "text/plain": "                              Score\nFeature_Name                       \nSex                      238.754111\nPclass                    64.458204\nFare Group                48.799911\nParents/Children Aboard    4.773355\nSiblings/Spouses Aboard    1.164731\nAge Group                  0.593326",
      "text/html": "<div>\n<style scoped>\n    .dataframe tbody tr th:only-of-type {\n        vertical-align: middle;\n    }\n\n    .dataframe tbody tr th {\n        vertical-align: top;\n    }\n\n    .dataframe thead th {\n        text-align: right;\n    }\n</style>\n<table border=\"1\" class=\"dataframe\">\n  <thead>\n    <tr style=\"text-align: right;\">\n      <th></th>\n      <th>Score</th>\n    </tr>\n    <tr>\n      <th>Feature_Name</th>\n      <th></th>\n    </tr>\n  </thead>\n  <tbody>\n    <tr>\n      <th>Sex</th>\n      <td>238.754111</td>\n    </tr>\n    <tr>\n      <th>Pclass</th>\n      <td>64.458204</td>\n    </tr>\n    <tr>\n      <th>Fare Group</th>\n      <td>48.799911</td>\n    </tr>\n    <tr>\n      <th>Parents/Children Aboard</th>\n      <td>4.773355</td>\n    </tr>\n    <tr>\n      <th>Siblings/Spouses Aboard</th>\n      <td>1.164731</td>\n    </tr>\n    <tr>\n      <th>Age Group</th>\n      <td>0.593326</td>\n    </tr>\n  </tbody>\n</table>\n</div>"
     },
     "metadata": {},
     "output_type": "display_data"
    },
    {
     "name": "stdout",
     "output_type": "stream",
     "text": [
      "f_regression:\n"
     ]
    },
    {
     "data": {
      "text/plain": "                              Score\nFeature_Name                       \nSex                      238.754111\nPclass                    64.458204\nFare Group                48.799911\nParents/Children Aboard    4.773355\nSiblings/Spouses Aboard    1.164731\nAge Group                  0.593326",
      "text/html": "<div>\n<style scoped>\n    .dataframe tbody tr th:only-of-type {\n        vertical-align: middle;\n    }\n\n    .dataframe tbody tr th {\n        vertical-align: top;\n    }\n\n    .dataframe thead th {\n        text-align: right;\n    }\n</style>\n<table border=\"1\" class=\"dataframe\">\n  <thead>\n    <tr style=\"text-align: right;\">\n      <th></th>\n      <th>Score</th>\n    </tr>\n    <tr>\n      <th>Feature_Name</th>\n      <th></th>\n    </tr>\n  </thead>\n  <tbody>\n    <tr>\n      <th>Sex</th>\n      <td>238.754111</td>\n    </tr>\n    <tr>\n      <th>Pclass</th>\n      <td>64.458204</td>\n    </tr>\n    <tr>\n      <th>Fare Group</th>\n      <td>48.799911</td>\n    </tr>\n    <tr>\n      <th>Parents/Children Aboard</th>\n      <td>4.773355</td>\n    </tr>\n    <tr>\n      <th>Siblings/Spouses Aboard</th>\n      <td>1.164731</td>\n    </tr>\n    <tr>\n      <th>Age Group</th>\n      <td>0.593326</td>\n    </tr>\n  </tbody>\n</table>\n</div>"
     },
     "metadata": {},
     "output_type": "display_data"
    },
    {
     "name": "stdout",
     "output_type": "stream",
     "text": [
      "chi2:\n"
     ]
    },
    {
     "data": {
      "text/plain": "                             Score\nFeature_Name                      \nSex                      60.366719\nFare Group               40.161871\nPclass                   17.600476\nParents/Children Aboard   8.187396\nSiblings/Spouses Aboard   2.828390\nAge Group                 0.503002",
      "text/html": "<div>\n<style scoped>\n    .dataframe tbody tr th:only-of-type {\n        vertical-align: middle;\n    }\n\n    .dataframe tbody tr th {\n        vertical-align: top;\n    }\n\n    .dataframe thead th {\n        text-align: right;\n    }\n</style>\n<table border=\"1\" class=\"dataframe\">\n  <thead>\n    <tr style=\"text-align: right;\">\n      <th></th>\n      <th>Score</th>\n    </tr>\n    <tr>\n      <th>Feature_Name</th>\n      <th></th>\n    </tr>\n  </thead>\n  <tbody>\n    <tr>\n      <th>Sex</th>\n      <td>60.366719</td>\n    </tr>\n    <tr>\n      <th>Fare Group</th>\n      <td>40.161871</td>\n    </tr>\n    <tr>\n      <th>Pclass</th>\n      <td>17.600476</td>\n    </tr>\n    <tr>\n      <th>Parents/Children Aboard</th>\n      <td>8.187396</td>\n    </tr>\n    <tr>\n      <th>Siblings/Spouses Aboard</th>\n      <td>2.828390</td>\n    </tr>\n    <tr>\n      <th>Age Group</th>\n      <td>0.503002</td>\n    </tr>\n  </tbody>\n</table>\n</div>"
     },
     "metadata": {},
     "output_type": "display_data"
    },
    {
     "name": "stdout",
     "output_type": "stream",
     "text": [
      "mutual_info_classif:\n"
     ]
    },
    {
     "data": {
      "text/plain": "                            Score\nFeature_Name                     \nSex                      0.138770\nPclass                   0.036356\nFare Group               0.014454\nSiblings/Spouses Aboard  0.013720\nParents/Children Aboard  0.002635\nAge Group                0.000000",
      "text/html": "<div>\n<style scoped>\n    .dataframe tbody tr th:only-of-type {\n        vertical-align: middle;\n    }\n\n    .dataframe tbody tr th {\n        vertical-align: top;\n    }\n\n    .dataframe thead th {\n        text-align: right;\n    }\n</style>\n<table border=\"1\" class=\"dataframe\">\n  <thead>\n    <tr style=\"text-align: right;\">\n      <th></th>\n      <th>Score</th>\n    </tr>\n    <tr>\n      <th>Feature_Name</th>\n      <th></th>\n    </tr>\n  </thead>\n  <tbody>\n    <tr>\n      <th>Sex</th>\n      <td>0.138770</td>\n    </tr>\n    <tr>\n      <th>Pclass</th>\n      <td>0.036356</td>\n    </tr>\n    <tr>\n      <th>Fare Group</th>\n      <td>0.014454</td>\n    </tr>\n    <tr>\n      <th>Siblings/Spouses Aboard</th>\n      <td>0.013720</td>\n    </tr>\n    <tr>\n      <th>Parents/Children Aboard</th>\n      <td>0.002635</td>\n    </tr>\n    <tr>\n      <th>Age Group</th>\n      <td>0.000000</td>\n    </tr>\n  </tbody>\n</table>\n</div>"
     },
     "metadata": {},
     "output_type": "display_data"
    },
    {
     "name": "stdout",
     "output_type": "stream",
     "text": [
      "mutual_info_regression:\n"
     ]
    },
    {
     "data": {
      "text/plain": "                            Score\nFeature_Name                     \nSex                      0.149948\nParents/Children Aboard  0.072817\nPclass                   0.044094\nFare Group               0.038076\nSiblings/Spouses Aboard  0.000000\nAge Group                0.000000",
      "text/html": "<div>\n<style scoped>\n    .dataframe tbody tr th:only-of-type {\n        vertical-align: middle;\n    }\n\n    .dataframe tbody tr th {\n        vertical-align: top;\n    }\n\n    .dataframe thead th {\n        text-align: right;\n    }\n</style>\n<table border=\"1\" class=\"dataframe\">\n  <thead>\n    <tr style=\"text-align: right;\">\n      <th></th>\n      <th>Score</th>\n    </tr>\n    <tr>\n      <th>Feature_Name</th>\n      <th></th>\n    </tr>\n  </thead>\n  <tbody>\n    <tr>\n      <th>Sex</th>\n      <td>0.149948</td>\n    </tr>\n    <tr>\n      <th>Parents/Children Aboard</th>\n      <td>0.072817</td>\n    </tr>\n    <tr>\n      <th>Pclass</th>\n      <td>0.044094</td>\n    </tr>\n    <tr>\n      <th>Fare Group</th>\n      <td>0.038076</td>\n    </tr>\n    <tr>\n      <th>Siblings/Spouses Aboard</th>\n      <td>0.000000</td>\n    </tr>\n    <tr>\n      <th>Age Group</th>\n      <td>0.000000</td>\n    </tr>\n  </tbody>\n</table>\n</div>"
     },
     "metadata": {},
     "output_type": "display_data"
    }
   ],
   "source": [
    "from sklearn.feature_selection import SelectKBest\n",
    "from sklearn.feature_selection import f_classif, f_regression, chi2, mutual_info_classif, mutual_info_regression\n",
    "\n",
    "X_train, _, y_train, _ = train_test_split(X, y, test_size=0.25, random_state=224)\n",
    "\n",
    "feat_scores = []\n",
    "for score_func in [f_classif, f_regression, chi2, mutual_info_classif, mutual_info_regression]:\n",
    "    best_features = SelectKBest(score_func=score_func, k=len(all_features))\n",
    "    fit = best_features.fit(X_train, y_train)\n",
    "\n",
    "    df_scores = pd.DataFrame(fit.scores_)\n",
    "    df_columns = pd.DataFrame(X_train.columns)\n",
    "\n",
    "    feature_scores = pd.concat([df_columns, df_scores], axis=1)\n",
    "    feature_scores.columns = ['Feature_Name', 'Score']\n",
    "    feature_scores.set_index('Feature_Name', inplace=True)\n",
    "    feature_scores.sort_values(by='Score', ascending=False, inplace=True)\n",
    "\n",
    "    print(f'{score_func.__name__}:')\n",
    "    display(feature_scores)"
   ],
   "metadata": {
    "collapsed": false
   }
  },
  {
   "cell_type": "markdown",
   "source": [
    "I opt for the top three features `['Sex', 'Pclass', 'Fare Group']`."
   ],
   "metadata": {
    "collapsed": false
   }
  },
  {
   "cell_type": "code",
   "execution_count": 9,
   "outputs": [
    {
     "name": "stderr",
     "output_type": "stream",
     "text": [
      "/tmp/ipykernel_25217/2393851962.py:14: FutureWarning: The frame.append method is deprecated and will be removed from pandas in a future version. Use pandas.concat instead.\n",
      "  perf = perf.append(row)\n",
      "/tmp/ipykernel_25217/2393851962.py:14: FutureWarning: The frame.append method is deprecated and will be removed from pandas in a future version. Use pandas.concat instead.\n",
      "  perf = perf.append(row)\n",
      "/tmp/ipykernel_25217/2393851962.py:14: FutureWarning: The frame.append method is deprecated and will be removed from pandas in a future version. Use pandas.concat instead.\n",
      "  perf = perf.append(row)\n"
     ]
    },
    {
     "data": {
      "text/plain": "                                         Accuracy  Precision    Recall  \\\nModel                                                                    \nDecisionTreeClassifier()                 0.824324   0.727273  0.810127   \nKNeighborsClassifier(metric='canberra')  0.792793   0.761364  0.728261   \nGaussianNB()                             0.797297   0.818182  0.712871   \n\n                                         F1-Score  \nModel                                              \nDecisionTreeClassifier()                 0.766467  \nKNeighborsClassifier(metric='canberra')  0.744444  \nGaussianNB()                             0.761905  ",
      "text/html": "<div>\n<style scoped>\n    .dataframe tbody tr th:only-of-type {\n        vertical-align: middle;\n    }\n\n    .dataframe tbody tr th {\n        vertical-align: top;\n    }\n\n    .dataframe thead th {\n        text-align: right;\n    }\n</style>\n<table border=\"1\" class=\"dataframe\">\n  <thead>\n    <tr style=\"text-align: right;\">\n      <th></th>\n      <th>Accuracy</th>\n      <th>Precision</th>\n      <th>Recall</th>\n      <th>F1-Score</th>\n    </tr>\n    <tr>\n      <th>Model</th>\n      <th></th>\n      <th></th>\n      <th></th>\n      <th></th>\n    </tr>\n  </thead>\n  <tbody>\n    <tr>\n      <th>DecisionTreeClassifier()</th>\n      <td>0.824324</td>\n      <td>0.727273</td>\n      <td>0.810127</td>\n      <td>0.766467</td>\n    </tr>\n    <tr>\n      <th>KNeighborsClassifier(metric='canberra')</th>\n      <td>0.792793</td>\n      <td>0.761364</td>\n      <td>0.728261</td>\n      <td>0.744444</td>\n    </tr>\n    <tr>\n      <th>GaussianNB()</th>\n      <td>0.797297</td>\n      <td>0.818182</td>\n      <td>0.712871</td>\n      <td>0.761905</td>\n    </tr>\n  </tbody>\n</table>\n</div>"
     },
     "execution_count": 9,
     "metadata": {},
     "output_type": "execute_result"
    }
   ],
   "source": [
    "top_features = ['Sex', 'Pclass', 'Fare Group']\n",
    "\n",
    "perf = create_perf_db()\n",
    "for name, model in models.items():\n",
    "    X_train, X_test, y_train, y_test = train_test_split(X[top_features], y, test_size=0.25, random_state=224)\n",
    "    a, p, r, f = evaluate(model, X_train, X_test, y_train, y_test)\n",
    "\n",
    "    row = pd.Series({\n",
    "        'Accuracy': a,\n",
    "        'Precision': p,\n",
    "        'Recall': r,\n",
    "        'F1-Score': f,\n",
    "    }, name=model)\n",
    "    perf = perf.append(row)\n",
    "    # Frickin pd.concat isn't worth a penny -.- Tried so many different things to make it work, but nah...\n",
    "\n",
    "perf"
   ],
   "metadata": {
    "collapsed": false
   }
  },
  {
   "cell_type": "markdown",
   "source": [
    "(c) Compare the classifiers and explain the differences observed;"
   ],
   "metadata": {
    "collapsed": false
   }
  }
 ],
 "metadata": {
  "kernelspec": {
   "display_name": "Python 3",
   "language": "python",
   "name": "python3"
  },
  "language_info": {
   "codemirror_mode": {
    "name": "ipython",
    "version": 2
   },
   "file_extension": ".py",
   "mimetype": "text/x-python",
   "name": "python",
   "nbconvert_exporter": "python",
   "pygments_lexer": "ipython2",
   "version": "2.7.6"
  }
 },
 "nbformat": 4,
 "nbformat_minor": 0
}
