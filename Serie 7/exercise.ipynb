{
 "cells": [
  {
   "cell_type": "markdown",
   "source": [
    "# The Restaurant Decision\n",
    "\n",
    "Problem: Decide whether to wait for a table at a restaurant,\n",
    "based on the following attributes:\n",
    "\n",
    "- Choice: is there an alternative restaurant nearby?\n",
    "- Bar: is there a comfortable bar area to wait in?\n",
    "- Day: is today Friday or Saturday?\n",
    "- Hungry: are we hungry?\n",
    "- Patron: how many people are in the restaurant?\n",
    "- Price: what’s the price range?\n",
    "- Rain: is it raining outside?\n",
    "- Booking: have we made a reservation?\n",
    "- Type: what kind of restaurant is it?\n",
    "- Time: what’s the estimated waiting time?"
   ],
   "metadata": {
    "collapsed": false
   }
  },
  {
   "cell_type": "code",
   "execution_count": 1,
   "outputs": [
    {
     "data": {
      "text/plain": "   choice bar day hungry patron price rain booking     type  time wait\n0       T   F   F      T   some   $$$    F       T   french     0  yes\n1       T   F   F      T   full     $    F       F     thai    40   no\n2       T   T   F      F   some     $    F       F    swiss     0  yes\n3       T   F   T      T   full     $    F       F     thai    20  yes\n4       T   F   T      F   full   $$$    F       T   french    60   no\n5       F   T   F      T   some    $$    T       F  italian     0  yes\n6       F   T   F      F   none     $    T       F    swiss    20   no\n7       F   F   F      T   some    $$    T       T     thai     0  yes\n8       F   T   T      F   full     $    T       F    swiss    60   no\n9       T   T   T      T   full   $$$    F       T  italian    20   no\n10      F   F   F      F   none     $    F       F     thai     0   no\n11      T   T   T      T   full     $    F       F    swiss    40  yes",
      "text/html": "<div>\n<style scoped>\n    .dataframe tbody tr th:only-of-type {\n        vertical-align: middle;\n    }\n\n    .dataframe tbody tr th {\n        vertical-align: top;\n    }\n\n    .dataframe thead th {\n        text-align: right;\n    }\n</style>\n<table border=\"1\" class=\"dataframe\">\n  <thead>\n    <tr style=\"text-align: right;\">\n      <th></th>\n      <th>choice</th>\n      <th>bar</th>\n      <th>day</th>\n      <th>hungry</th>\n      <th>patron</th>\n      <th>price</th>\n      <th>rain</th>\n      <th>booking</th>\n      <th>type</th>\n      <th>time</th>\n      <th>wait</th>\n    </tr>\n  </thead>\n  <tbody>\n    <tr>\n      <th>0</th>\n      <td>T</td>\n      <td>F</td>\n      <td>F</td>\n      <td>T</td>\n      <td>some</td>\n      <td>$$$</td>\n      <td>F</td>\n      <td>T</td>\n      <td>french</td>\n      <td>0</td>\n      <td>yes</td>\n    </tr>\n    <tr>\n      <th>1</th>\n      <td>T</td>\n      <td>F</td>\n      <td>F</td>\n      <td>T</td>\n      <td>full</td>\n      <td>$</td>\n      <td>F</td>\n      <td>F</td>\n      <td>thai</td>\n      <td>40</td>\n      <td>no</td>\n    </tr>\n    <tr>\n      <th>2</th>\n      <td>T</td>\n      <td>T</td>\n      <td>F</td>\n      <td>F</td>\n      <td>some</td>\n      <td>$</td>\n      <td>F</td>\n      <td>F</td>\n      <td>swiss</td>\n      <td>0</td>\n      <td>yes</td>\n    </tr>\n    <tr>\n      <th>3</th>\n      <td>T</td>\n      <td>F</td>\n      <td>T</td>\n      <td>T</td>\n      <td>full</td>\n      <td>$</td>\n      <td>F</td>\n      <td>F</td>\n      <td>thai</td>\n      <td>20</td>\n      <td>yes</td>\n    </tr>\n    <tr>\n      <th>4</th>\n      <td>T</td>\n      <td>F</td>\n      <td>T</td>\n      <td>F</td>\n      <td>full</td>\n      <td>$$$</td>\n      <td>F</td>\n      <td>T</td>\n      <td>french</td>\n      <td>60</td>\n      <td>no</td>\n    </tr>\n    <tr>\n      <th>5</th>\n      <td>F</td>\n      <td>T</td>\n      <td>F</td>\n      <td>T</td>\n      <td>some</td>\n      <td>$$</td>\n      <td>T</td>\n      <td>F</td>\n      <td>italian</td>\n      <td>0</td>\n      <td>yes</td>\n    </tr>\n    <tr>\n      <th>6</th>\n      <td>F</td>\n      <td>T</td>\n      <td>F</td>\n      <td>F</td>\n      <td>none</td>\n      <td>$</td>\n      <td>T</td>\n      <td>F</td>\n      <td>swiss</td>\n      <td>20</td>\n      <td>no</td>\n    </tr>\n    <tr>\n      <th>7</th>\n      <td>F</td>\n      <td>F</td>\n      <td>F</td>\n      <td>T</td>\n      <td>some</td>\n      <td>$$</td>\n      <td>T</td>\n      <td>T</td>\n      <td>thai</td>\n      <td>0</td>\n      <td>yes</td>\n    </tr>\n    <tr>\n      <th>8</th>\n      <td>F</td>\n      <td>T</td>\n      <td>T</td>\n      <td>F</td>\n      <td>full</td>\n      <td>$</td>\n      <td>T</td>\n      <td>F</td>\n      <td>swiss</td>\n      <td>60</td>\n      <td>no</td>\n    </tr>\n    <tr>\n      <th>9</th>\n      <td>T</td>\n      <td>T</td>\n      <td>T</td>\n      <td>T</td>\n      <td>full</td>\n      <td>$$$</td>\n      <td>F</td>\n      <td>T</td>\n      <td>italian</td>\n      <td>20</td>\n      <td>no</td>\n    </tr>\n    <tr>\n      <th>10</th>\n      <td>F</td>\n      <td>F</td>\n      <td>F</td>\n      <td>F</td>\n      <td>none</td>\n      <td>$</td>\n      <td>F</td>\n      <td>F</td>\n      <td>thai</td>\n      <td>0</td>\n      <td>no</td>\n    </tr>\n    <tr>\n      <th>11</th>\n      <td>T</td>\n      <td>T</td>\n      <td>T</td>\n      <td>T</td>\n      <td>full</td>\n      <td>$</td>\n      <td>F</td>\n      <td>F</td>\n      <td>swiss</td>\n      <td>40</td>\n      <td>yes</td>\n    </tr>\n  </tbody>\n</table>\n</div>"
     },
     "metadata": {},
     "output_type": "display_data"
    }
   ],
   "source": [
    "import pandas as pd\n",
    "\n",
    "pd.set_option('display.max_colwidth', None)\n",
    "restaurant = pd.read_csv('../Data/restaurant.csv.zst')\n",
    "display(restaurant)"
   ],
   "metadata": {
    "collapsed": false
   }
  },
  {
   "cell_type": "code",
   "execution_count": 2,
   "outputs": [],
   "source": [
    "from sklearn.model_selection import train_test_split\n",
    "from sklearn import preprocessing\n",
    "\n",
    "x_train = restaurant[['choice', 'bar', 'day', 'hungry', 'patron', 'price', 'rain', 'booking', 'type']]\n",
    "le = preprocessing.LabelEncoder()\n",
    "x_train = pd.DataFrame(columns=x_train.columns, data=le.fit_transform(x_train.values.flatten()).reshape(x_train.shape))\n",
    "x_train['time'] = restaurant['time']"
   ],
   "metadata": {
    "collapsed": false
   }
  },
  {
   "cell_type": "markdown",
   "source": [
    "## Build the co-occurrence matrix."
   ],
   "metadata": {
    "collapsed": false
   }
  },
  {
   "cell_type": "code",
   "execution_count": 3,
   "outputs": [
    {
     "data": {
      "text/plain": "Co-occurence  choice  bar  day  hungry  patron  price  rain  booking  type  \\\nCo-occurence                                                                 \nchoice           157  150  148     155     312     30   141      144   383   \nbar              150  150  144     150     308     27   141      139   378   \nday              148  144  143     147     294     28   136      137   367   \nhungry           155  150  147     157     315     30   143      144   386   \npatron           312  308  294     315     668     60   296      294   789   \nprice             30   27   28      30      60     14    26       31    52   \nrain             141  141  136     143     296     26   136      133   362   \nbooking          144  139  137     144     294     31   133      136   352   \ntype             383  378  367     386     789     52   362      352  1032   \ntime             960  920  980     900    1600    160   860      860  2300   \n\nCo-occurence   time  \nCo-occurence         \nchoice          960  \nbar             920  \nday             980  \nhungry          900  \npatron         1600  \nprice           160  \nrain            860  \nbooking         860  \ntype           2300  \ntime          11600  ",
      "text/html": "<div>\n<style scoped>\n    .dataframe tbody tr th:only-of-type {\n        vertical-align: middle;\n    }\n\n    .dataframe tbody tr th {\n        vertical-align: top;\n    }\n\n    .dataframe thead th {\n        text-align: right;\n    }\n</style>\n<table border=\"1\" class=\"dataframe\">\n  <thead>\n    <tr style=\"text-align: right;\">\n      <th>Co-occurence</th>\n      <th>choice</th>\n      <th>bar</th>\n      <th>day</th>\n      <th>hungry</th>\n      <th>patron</th>\n      <th>price</th>\n      <th>rain</th>\n      <th>booking</th>\n      <th>type</th>\n      <th>time</th>\n    </tr>\n    <tr>\n      <th>Co-occurence</th>\n      <th></th>\n      <th></th>\n      <th></th>\n      <th></th>\n      <th></th>\n      <th></th>\n      <th></th>\n      <th></th>\n      <th></th>\n      <th></th>\n    </tr>\n  </thead>\n  <tbody>\n    <tr>\n      <th>choice</th>\n      <td>157</td>\n      <td>150</td>\n      <td>148</td>\n      <td>155</td>\n      <td>312</td>\n      <td>30</td>\n      <td>141</td>\n      <td>144</td>\n      <td>383</td>\n      <td>960</td>\n    </tr>\n    <tr>\n      <th>bar</th>\n      <td>150</td>\n      <td>150</td>\n      <td>144</td>\n      <td>150</td>\n      <td>308</td>\n      <td>27</td>\n      <td>141</td>\n      <td>139</td>\n      <td>378</td>\n      <td>920</td>\n    </tr>\n    <tr>\n      <th>day</th>\n      <td>148</td>\n      <td>144</td>\n      <td>143</td>\n      <td>147</td>\n      <td>294</td>\n      <td>28</td>\n      <td>136</td>\n      <td>137</td>\n      <td>367</td>\n      <td>980</td>\n    </tr>\n    <tr>\n      <th>hungry</th>\n      <td>155</td>\n      <td>150</td>\n      <td>147</td>\n      <td>157</td>\n      <td>315</td>\n      <td>30</td>\n      <td>143</td>\n      <td>144</td>\n      <td>386</td>\n      <td>900</td>\n    </tr>\n    <tr>\n      <th>patron</th>\n      <td>312</td>\n      <td>308</td>\n      <td>294</td>\n      <td>315</td>\n      <td>668</td>\n      <td>60</td>\n      <td>296</td>\n      <td>294</td>\n      <td>789</td>\n      <td>1600</td>\n    </tr>\n    <tr>\n      <th>price</th>\n      <td>30</td>\n      <td>27</td>\n      <td>28</td>\n      <td>30</td>\n      <td>60</td>\n      <td>14</td>\n      <td>26</td>\n      <td>31</td>\n      <td>52</td>\n      <td>160</td>\n    </tr>\n    <tr>\n      <th>rain</th>\n      <td>141</td>\n      <td>141</td>\n      <td>136</td>\n      <td>143</td>\n      <td>296</td>\n      <td>26</td>\n      <td>136</td>\n      <td>133</td>\n      <td>362</td>\n      <td>860</td>\n    </tr>\n    <tr>\n      <th>booking</th>\n      <td>144</td>\n      <td>139</td>\n      <td>137</td>\n      <td>144</td>\n      <td>294</td>\n      <td>31</td>\n      <td>133</td>\n      <td>136</td>\n      <td>352</td>\n      <td>860</td>\n    </tr>\n    <tr>\n      <th>type</th>\n      <td>383</td>\n      <td>378</td>\n      <td>367</td>\n      <td>386</td>\n      <td>789</td>\n      <td>52</td>\n      <td>362</td>\n      <td>352</td>\n      <td>1032</td>\n      <td>2300</td>\n    </tr>\n    <tr>\n      <th>time</th>\n      <td>960</td>\n      <td>920</td>\n      <td>980</td>\n      <td>900</td>\n      <td>1600</td>\n      <td>160</td>\n      <td>860</td>\n      <td>860</td>\n      <td>2300</td>\n      <td>11600</td>\n    </tr>\n  </tbody>\n</table>\n</div>"
     },
     "execution_count": 3,
     "metadata": {},
     "output_type": "execute_result"
    }
   ],
   "source": [
    "coocc = x_train.T.dot(x_train)\n",
    "coocc.columns.name = \"Co-occurence\"\n",
    "coocc"
   ],
   "metadata": {
    "collapsed": false
   }
  },
  {
   "cell_type": "markdown",
   "source": [
    "## Calculate support, confidence, completeness, lift, and leverage for the following rules. Build the co-occurrence matrix.\n",
    "\n",
    "| Antecedents         | Consequents        |\n",
    "|---------------------|--------------------|\n",
    "| `choice` is `T`     | `bar` is `F`       |\n",
    "| `bar` is `T`        | `day` is `F`       |\n",
    "| `day` is `T`        | `hungry` is `T`    |\n",
    "| `hungry` is `F`     | `patron` is `some` |\n",
    "| `patron` is `full`  | `price` is `$$$`   |\n",
    "| `price` is `$`      | `rain` is `T`      |\n",
    "| `rain` is `F`       | `booking` is `F`   |\n",
    "| `booking` is `T`    | `type` is `Swiss`  |\n",
    "| `type` is `Italian` | `time` is `20`     |\n",
    "| `type` is `Thai`    | `time` is `0`      |"
   ],
   "metadata": {
    "collapsed": false
   }
  },
  {
   "cell_type": "code",
   "execution_count": 4,
   "outputs": [
    {
     "data": {
      "text/plain": "      support            itemsets\n13   0.416667                 (r)\n7    0.416667                 (i)\n0    0.333333                 (a)\n4    0.333333                 (e)\n10   0.333333                 (n)\n..        ...                 ...\n108  0.083333           (o, b, i)\n109  0.083333           (k, b, n)\n110  0.083333           (o, k, b)\n111  0.083333           (o, b, n)\n260  0.083333  (g, n, h, y, u, r)\n\n[261 rows x 2 columns]",
      "text/html": "<div>\n<style scoped>\n    .dataframe tbody tr th:only-of-type {\n        vertical-align: middle;\n    }\n\n    .dataframe tbody tr th {\n        vertical-align: top;\n    }\n\n    .dataframe thead th {\n        text-align: right;\n    }\n</style>\n<table border=\"1\" class=\"dataframe\">\n  <thead>\n    <tr style=\"text-align: right;\">\n      <th></th>\n      <th>support</th>\n      <th>itemsets</th>\n    </tr>\n  </thead>\n  <tbody>\n    <tr>\n      <th>13</th>\n      <td>0.416667</td>\n      <td>(r)</td>\n    </tr>\n    <tr>\n      <th>7</th>\n      <td>0.416667</td>\n      <td>(i)</td>\n    </tr>\n    <tr>\n      <th>0</th>\n      <td>0.333333</td>\n      <td>(a)</td>\n    </tr>\n    <tr>\n      <th>4</th>\n      <td>0.333333</td>\n      <td>(e)</td>\n    </tr>\n    <tr>\n      <th>10</th>\n      <td>0.333333</td>\n      <td>(n)</td>\n    </tr>\n    <tr>\n      <th>...</th>\n      <td>...</td>\n      <td>...</td>\n    </tr>\n    <tr>\n      <th>108</th>\n      <td>0.083333</td>\n      <td>(o, b, i)</td>\n    </tr>\n    <tr>\n      <th>109</th>\n      <td>0.083333</td>\n      <td>(k, b, n)</td>\n    </tr>\n    <tr>\n      <th>110</th>\n      <td>0.083333</td>\n      <td>(o, k, b)</td>\n    </tr>\n    <tr>\n      <th>111</th>\n      <td>0.083333</td>\n      <td>(o, b, n)</td>\n    </tr>\n    <tr>\n      <th>260</th>\n      <td>0.083333</td>\n      <td>(g, n, h, y, u, r)</td>\n    </tr>\n  </tbody>\n</table>\n<p>261 rows × 2 columns</p>\n</div>"
     },
     "execution_count": 4,
     "metadata": {},
     "output_type": "execute_result"
    }
   ],
   "source": [
    "from mlxtend.preprocessing import TransactionEncoder\n",
    "from mlxtend.frequent_patterns import apriori, association_rules\n",
    "\n",
    "te = TransactionEncoder()\n",
    "te_ary = te.fit(x_train).transform(x_train)\n",
    "df_new = pd.DataFrame(te_ary, columns=te.columns_)\n",
    "\n",
    "frequent_itemsets: pd.DataFrame = apriori(df_new, min_support=0.000001, use_colnames=True).sort_values(by='support', ascending=False)\n",
    "frequent_itemsets"
   ],
   "metadata": {
    "collapsed": false
   }
  },
  {
   "cell_type": "code",
   "execution_count": 5,
   "outputs": [
    {
     "data": {
      "text/plain": "     antecedents      consequents  antecedent support  consequent support  \\\n0            (i)              (e)            0.416667            0.333333   \n1            (e)              (i)            0.333333            0.416667   \n2            (n)              (r)            0.333333            0.416667   \n3            (r)              (n)            0.416667            0.333333   \n4            (a)              (r)            0.333333            0.416667   \n...          ...              ...                 ...                 ...   \n2287         (n)  (g, h, y, u, r)            0.333333            0.083333   \n2288         (h)  (g, n, y, u, r)            0.166667            0.083333   \n2289         (y)  (g, n, h, u, r)            0.250000            0.083333   \n2290         (u)  (g, n, h, y, r)            0.083333            0.083333   \n2291         (r)  (n, h, y, u, g)            0.416667            0.083333   \n\n       support  confidence  lift  leverage  conviction  \n0     0.250000    0.600000   1.8  0.111111    1.666667  \n1     0.250000    0.750000   1.8  0.111111    2.333333  \n2     0.250000    0.750000   1.8  0.111111    2.333333  \n3     0.250000    0.600000   1.8  0.111111    1.666667  \n4     0.250000    0.750000   1.8  0.111111    2.333333  \n...        ...         ...   ...       ...         ...  \n2287  0.083333    0.250000   3.0  0.055556    1.222222  \n2288  0.083333    0.500000   6.0  0.069444    1.833333  \n2289  0.083333    0.333333   4.0  0.062500    1.375000  \n2290  0.083333    1.000000  12.0  0.076389         inf  \n2291  0.083333    0.200000   2.4  0.048611    1.145833  \n\n[2292 rows x 9 columns]",
      "text/html": "<div>\n<style scoped>\n    .dataframe tbody tr th:only-of-type {\n        vertical-align: middle;\n    }\n\n    .dataframe tbody tr th {\n        vertical-align: top;\n    }\n\n    .dataframe thead th {\n        text-align: right;\n    }\n</style>\n<table border=\"1\" class=\"dataframe\">\n  <thead>\n    <tr style=\"text-align: right;\">\n      <th></th>\n      <th>antecedents</th>\n      <th>consequents</th>\n      <th>antecedent support</th>\n      <th>consequent support</th>\n      <th>support</th>\n      <th>confidence</th>\n      <th>lift</th>\n      <th>leverage</th>\n      <th>conviction</th>\n    </tr>\n  </thead>\n  <tbody>\n    <tr>\n      <th>0</th>\n      <td>(i)</td>\n      <td>(e)</td>\n      <td>0.416667</td>\n      <td>0.333333</td>\n      <td>0.250000</td>\n      <td>0.600000</td>\n      <td>1.8</td>\n      <td>0.111111</td>\n      <td>1.666667</td>\n    </tr>\n    <tr>\n      <th>1</th>\n      <td>(e)</td>\n      <td>(i)</td>\n      <td>0.333333</td>\n      <td>0.416667</td>\n      <td>0.250000</td>\n      <td>0.750000</td>\n      <td>1.8</td>\n      <td>0.111111</td>\n      <td>2.333333</td>\n    </tr>\n    <tr>\n      <th>2</th>\n      <td>(n)</td>\n      <td>(r)</td>\n      <td>0.333333</td>\n      <td>0.416667</td>\n      <td>0.250000</td>\n      <td>0.750000</td>\n      <td>1.8</td>\n      <td>0.111111</td>\n      <td>2.333333</td>\n    </tr>\n    <tr>\n      <th>3</th>\n      <td>(r)</td>\n      <td>(n)</td>\n      <td>0.416667</td>\n      <td>0.333333</td>\n      <td>0.250000</td>\n      <td>0.600000</td>\n      <td>1.8</td>\n      <td>0.111111</td>\n      <td>1.666667</td>\n    </tr>\n    <tr>\n      <th>4</th>\n      <td>(a)</td>\n      <td>(r)</td>\n      <td>0.333333</td>\n      <td>0.416667</td>\n      <td>0.250000</td>\n      <td>0.750000</td>\n      <td>1.8</td>\n      <td>0.111111</td>\n      <td>2.333333</td>\n    </tr>\n    <tr>\n      <th>...</th>\n      <td>...</td>\n      <td>...</td>\n      <td>...</td>\n      <td>...</td>\n      <td>...</td>\n      <td>...</td>\n      <td>...</td>\n      <td>...</td>\n      <td>...</td>\n    </tr>\n    <tr>\n      <th>2287</th>\n      <td>(n)</td>\n      <td>(g, h, y, u, r)</td>\n      <td>0.333333</td>\n      <td>0.083333</td>\n      <td>0.083333</td>\n      <td>0.250000</td>\n      <td>3.0</td>\n      <td>0.055556</td>\n      <td>1.222222</td>\n    </tr>\n    <tr>\n      <th>2288</th>\n      <td>(h)</td>\n      <td>(g, n, y, u, r)</td>\n      <td>0.166667</td>\n      <td>0.083333</td>\n      <td>0.083333</td>\n      <td>0.500000</td>\n      <td>6.0</td>\n      <td>0.069444</td>\n      <td>1.833333</td>\n    </tr>\n    <tr>\n      <th>2289</th>\n      <td>(y)</td>\n      <td>(g, n, h, u, r)</td>\n      <td>0.250000</td>\n      <td>0.083333</td>\n      <td>0.083333</td>\n      <td>0.333333</td>\n      <td>4.0</td>\n      <td>0.062500</td>\n      <td>1.375000</td>\n    </tr>\n    <tr>\n      <th>2290</th>\n      <td>(u)</td>\n      <td>(g, n, h, y, r)</td>\n      <td>0.083333</td>\n      <td>0.083333</td>\n      <td>0.083333</td>\n      <td>1.000000</td>\n      <td>12.0</td>\n      <td>0.076389</td>\n      <td>inf</td>\n    </tr>\n    <tr>\n      <th>2291</th>\n      <td>(r)</td>\n      <td>(n, h, y, u, g)</td>\n      <td>0.416667</td>\n      <td>0.083333</td>\n      <td>0.083333</td>\n      <td>0.200000</td>\n      <td>2.4</td>\n      <td>0.048611</td>\n      <td>1.145833</td>\n    </tr>\n  </tbody>\n</table>\n<p>2292 rows × 9 columns</p>\n</div>"
     },
     "execution_count": 5,
     "metadata": {},
     "output_type": "execute_result"
    }
   ],
   "source": [
    "association_rules(frequent_itemsets, metric=\"confidence\", min_threshold=0.000001)"
   ],
   "metadata": {
    "collapsed": false
   }
  },
  {
   "cell_type": "markdown",
   "source": [
    "It seems like `mlextend` doesn't easily allow giving custom rules, hence why I opted to basically compute all possible rules above, including the ones given in the exercise."
   ],
   "metadata": {
    "collapsed": false
   }
  },
  {
   "cell_type": "markdown",
   "source": [
    "## Explain these measures.\n",
    "\n",
    "| Measure      | Explanation                                                                                                         |\n",
    "|--------------|---------------------------------------------------------------------------------------------------------------------|\n",
    "| Support      | The percentage of groups that contain all of the items listed in the rule.                                          |\n",
    "| Confidence   | The percentage of consequences given the antecedents.                                                               |\n",
    "| Completeness | The ratio of all transactions with the predicted item covered by a the rule.                                        |\n",
    "| Lift         | The ratio of the confidence of the rule and the expected confidence of the rule.                                    |\n",
    "| Leverage     | The difference of `XX` and `YY` appearing together and their expected value if they were statistically independent. |\n"
   ],
   "metadata": {
    "collapsed": false
   }
  },
  {
   "cell_type": "markdown",
   "source": [
    "## Use the Apriori algorithm to find frequent item sets. We are only interested in item sets having a support value of at least 50%.\n",
    "\n",
    "These are non-existent as can be seen earlier in the sorted `apriori()` computation.\n",
    "Nonetheless, here is an explicit one:"
   ],
   "metadata": {
    "collapsed": false
   }
  },
  {
   "cell_type": "code",
   "execution_count": 6,
   "outputs": [
    {
     "data": {
      "text/plain": "Empty DataFrame\nColumns: [support, itemsets]\nIndex: []",
      "text/html": "<div>\n<style scoped>\n    .dataframe tbody tr th:only-of-type {\n        vertical-align: middle;\n    }\n\n    .dataframe tbody tr th {\n        vertical-align: top;\n    }\n\n    .dataframe thead th {\n        text-align: right;\n    }\n</style>\n<table border=\"1\" class=\"dataframe\">\n  <thead>\n    <tr style=\"text-align: right;\">\n      <th></th>\n      <th>support</th>\n      <th>itemsets</th>\n    </tr>\n  </thead>\n  <tbody>\n  </tbody>\n</table>\n</div>"
     },
     "execution_count": 6,
     "metadata": {},
     "output_type": "execute_result"
    }
   ],
   "source": [
    "apriori(df_new, min_support=0.5, use_colnames=True)"
   ],
   "metadata": {
    "collapsed": false
   }
  }
 ],
 "metadata": {
  "kernelspec": {
   "display_name": "Python 3",
   "language": "python",
   "name": "python3"
  },
  "language_info": {
   "codemirror_mode": {
    "name": "ipython",
    "version": 2
   },
   "file_extension": ".py",
   "mimetype": "text/x-python",
   "name": "python",
   "nbconvert_exporter": "python",
   "pygments_lexer": "ipython2",
   "version": "2.7.6"
  }
 },
 "nbformat": 4,
 "nbformat_minor": 0
}
