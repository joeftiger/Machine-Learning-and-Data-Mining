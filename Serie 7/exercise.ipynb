{
 "cells": [
  {
   "cell_type": "markdown",
   "source": [
    "# The Restaurant Decision\n",
    "\n",
    "Problem: Decide whether to wait for a table at a restaurant,\n",
    "based on the following attributes:\n",
    "\n",
    "- Choice: is there an alternative restaurant nearby?\n",
    "- Bar: is there a comfortable bar area to wait in?\n",
    "- Day: is today Friday or Saturday?\n",
    "- Hungry: are we hungry?\n",
    "- Patron: how many people are in the restaurant?\n",
    "- Price: what’s the price range?\n",
    "- Rain: is it raining outside?\n",
    "- Booking: have we made a reservation?\n",
    "- Type: what kind of restaurant is it?\n",
    "- Time: what’s the estimated waiting time?\n",
    "\n",
    "Build the co-occurrence matrix.\n",
    "Calculate support, confidence, completeness, lift, and leverage for the following rules. Build the co-occurrence matrix."
   ],
   "metadata": {
    "collapsed": false
   }
  },
  {
   "cell_type": "code",
   "execution_count": 1,
   "outputs": [
    {
     "data": {
      "text/plain": "   choice bar day hungry patron price rain booking     type  time wait\n0       T   F   F      T   some   $$$    F       T   french     0  yes\n1       T   F   F      T   full     $    F       F     thai    40   no\n2       T   T   F      F   some     $    F       F    swiss     0  yes\n3       T   F   T      T   full     $    F       F     thai    20  yes\n4       T   F   T      F   full   $$$    F       T   french    60   no\n5       F   T   F      T   some    $$    T       F  italian     0  yes\n6       F   T   F      F   none     $    T       F    swiss    20   no\n7       F   F   F      T   some    $$    T       T     thai     0  yes\n8       F   T   T      F   full     $    T       F    swiss    60   no\n9       T   T   T      T   full   $$$    F       T  italian    20   no\n10      F   F   F      F   none     $    F       F     thai     0   no\n11      T   T   T      T   full     $    F       F    swiss    40  yes",
      "text/html": "<div>\n<style scoped>\n    .dataframe tbody tr th:only-of-type {\n        vertical-align: middle;\n    }\n\n    .dataframe tbody tr th {\n        vertical-align: top;\n    }\n\n    .dataframe thead th {\n        text-align: right;\n    }\n</style>\n<table border=\"1\" class=\"dataframe\">\n  <thead>\n    <tr style=\"text-align: right;\">\n      <th></th>\n      <th>choice</th>\n      <th>bar</th>\n      <th>day</th>\n      <th>hungry</th>\n      <th>patron</th>\n      <th>price</th>\n      <th>rain</th>\n      <th>booking</th>\n      <th>type</th>\n      <th>time</th>\n      <th>wait</th>\n    </tr>\n  </thead>\n  <tbody>\n    <tr>\n      <th>0</th>\n      <td>T</td>\n      <td>F</td>\n      <td>F</td>\n      <td>T</td>\n      <td>some</td>\n      <td>$$$</td>\n      <td>F</td>\n      <td>T</td>\n      <td>french</td>\n      <td>0</td>\n      <td>yes</td>\n    </tr>\n    <tr>\n      <th>1</th>\n      <td>T</td>\n      <td>F</td>\n      <td>F</td>\n      <td>T</td>\n      <td>full</td>\n      <td>$</td>\n      <td>F</td>\n      <td>F</td>\n      <td>thai</td>\n      <td>40</td>\n      <td>no</td>\n    </tr>\n    <tr>\n      <th>2</th>\n      <td>T</td>\n      <td>T</td>\n      <td>F</td>\n      <td>F</td>\n      <td>some</td>\n      <td>$</td>\n      <td>F</td>\n      <td>F</td>\n      <td>swiss</td>\n      <td>0</td>\n      <td>yes</td>\n    </tr>\n    <tr>\n      <th>3</th>\n      <td>T</td>\n      <td>F</td>\n      <td>T</td>\n      <td>T</td>\n      <td>full</td>\n      <td>$</td>\n      <td>F</td>\n      <td>F</td>\n      <td>thai</td>\n      <td>20</td>\n      <td>yes</td>\n    </tr>\n    <tr>\n      <th>4</th>\n      <td>T</td>\n      <td>F</td>\n      <td>T</td>\n      <td>F</td>\n      <td>full</td>\n      <td>$$$</td>\n      <td>F</td>\n      <td>T</td>\n      <td>french</td>\n      <td>60</td>\n      <td>no</td>\n    </tr>\n    <tr>\n      <th>5</th>\n      <td>F</td>\n      <td>T</td>\n      <td>F</td>\n      <td>T</td>\n      <td>some</td>\n      <td>$$</td>\n      <td>T</td>\n      <td>F</td>\n      <td>italian</td>\n      <td>0</td>\n      <td>yes</td>\n    </tr>\n    <tr>\n      <th>6</th>\n      <td>F</td>\n      <td>T</td>\n      <td>F</td>\n      <td>F</td>\n      <td>none</td>\n      <td>$</td>\n      <td>T</td>\n      <td>F</td>\n      <td>swiss</td>\n      <td>20</td>\n      <td>no</td>\n    </tr>\n    <tr>\n      <th>7</th>\n      <td>F</td>\n      <td>F</td>\n      <td>F</td>\n      <td>T</td>\n      <td>some</td>\n      <td>$$</td>\n      <td>T</td>\n      <td>T</td>\n      <td>thai</td>\n      <td>0</td>\n      <td>yes</td>\n    </tr>\n    <tr>\n      <th>8</th>\n      <td>F</td>\n      <td>T</td>\n      <td>T</td>\n      <td>F</td>\n      <td>full</td>\n      <td>$</td>\n      <td>T</td>\n      <td>F</td>\n      <td>swiss</td>\n      <td>60</td>\n      <td>no</td>\n    </tr>\n    <tr>\n      <th>9</th>\n      <td>T</td>\n      <td>T</td>\n      <td>T</td>\n      <td>T</td>\n      <td>full</td>\n      <td>$$$</td>\n      <td>F</td>\n      <td>T</td>\n      <td>italian</td>\n      <td>20</td>\n      <td>no</td>\n    </tr>\n    <tr>\n      <th>10</th>\n      <td>F</td>\n      <td>F</td>\n      <td>F</td>\n      <td>F</td>\n      <td>none</td>\n      <td>$</td>\n      <td>F</td>\n      <td>F</td>\n      <td>thai</td>\n      <td>0</td>\n      <td>no</td>\n    </tr>\n    <tr>\n      <th>11</th>\n      <td>T</td>\n      <td>T</td>\n      <td>T</td>\n      <td>T</td>\n      <td>full</td>\n      <td>$</td>\n      <td>F</td>\n      <td>F</td>\n      <td>swiss</td>\n      <td>40</td>\n      <td>yes</td>\n    </tr>\n  </tbody>\n</table>\n</div>"
     },
     "metadata": {},
     "output_type": "display_data"
    }
   ],
   "source": [
    "import pandas as pd\n",
    "\n",
    "pd.set_option('display.max_colwidth', None)\n",
    "restaurant = pd.read_csv('../Data/restaurant.csv.zst')\n",
    "display(restaurant)"
   ],
   "metadata": {
    "collapsed": false
   }
  },
  {
   "cell_type": "code",
   "execution_count": 2,
   "outputs": [
    {
     "data": {
      "text/plain": "    choice  bar  day  hungry  patron  rain  booking  type  time\n10       0    0    0       0       5     0        0     8     0\n1        1    0    0       1       3     0        0     8    40\n0        1    0    0       1       6     0        1     2     0\n7        0    0    0       1       6     1        1     8     0\n4        1    0    1       0       3     0        1     2    60\n11       1    1    1       1       3     0        0     7    40\n9        1    1    1       1       3     0        1     4    20",
      "text/html": "<div>\n<style scoped>\n    .dataframe tbody tr th:only-of-type {\n        vertical-align: middle;\n    }\n\n    .dataframe tbody tr th {\n        vertical-align: top;\n    }\n\n    .dataframe thead th {\n        text-align: right;\n    }\n</style>\n<table border=\"1\" class=\"dataframe\">\n  <thead>\n    <tr style=\"text-align: right;\">\n      <th></th>\n      <th>choice</th>\n      <th>bar</th>\n      <th>day</th>\n      <th>hungry</th>\n      <th>patron</th>\n      <th>rain</th>\n      <th>booking</th>\n      <th>type</th>\n      <th>time</th>\n    </tr>\n  </thead>\n  <tbody>\n    <tr>\n      <th>10</th>\n      <td>0</td>\n      <td>0</td>\n      <td>0</td>\n      <td>0</td>\n      <td>5</td>\n      <td>0</td>\n      <td>0</td>\n      <td>8</td>\n      <td>0</td>\n    </tr>\n    <tr>\n      <th>1</th>\n      <td>1</td>\n      <td>0</td>\n      <td>0</td>\n      <td>1</td>\n      <td>3</td>\n      <td>0</td>\n      <td>0</td>\n      <td>8</td>\n      <td>40</td>\n    </tr>\n    <tr>\n      <th>0</th>\n      <td>1</td>\n      <td>0</td>\n      <td>0</td>\n      <td>1</td>\n      <td>6</td>\n      <td>0</td>\n      <td>1</td>\n      <td>2</td>\n      <td>0</td>\n    </tr>\n    <tr>\n      <th>7</th>\n      <td>0</td>\n      <td>0</td>\n      <td>0</td>\n      <td>1</td>\n      <td>6</td>\n      <td>1</td>\n      <td>1</td>\n      <td>8</td>\n      <td>0</td>\n    </tr>\n    <tr>\n      <th>4</th>\n      <td>1</td>\n      <td>0</td>\n      <td>1</td>\n      <td>0</td>\n      <td>3</td>\n      <td>0</td>\n      <td>1</td>\n      <td>2</td>\n      <td>60</td>\n    </tr>\n    <tr>\n      <th>11</th>\n      <td>1</td>\n      <td>1</td>\n      <td>1</td>\n      <td>1</td>\n      <td>3</td>\n      <td>0</td>\n      <td>0</td>\n      <td>7</td>\n      <td>40</td>\n    </tr>\n    <tr>\n      <th>9</th>\n      <td>1</td>\n      <td>1</td>\n      <td>1</td>\n      <td>1</td>\n      <td>3</td>\n      <td>0</td>\n      <td>1</td>\n      <td>4</td>\n      <td>20</td>\n    </tr>\n  </tbody>\n</table>\n</div>"
     },
     "metadata": {},
     "output_type": "display_data"
    },
    {
     "name": "stdout",
     "output_type": "stream",
     "text": [
      "y_train = [0 0 1 1 0 1 0]\n",
      "\n"
     ]
    },
    {
     "data": {
      "text/plain": "   choice  bar  day  hungry  patron  rain  booking  type  time\n8       0    1    1       0       3     1        0     7    60\n3       1    0    1       1       3     0        0     8    20\n5       0    1    0       1       6     1        0     4     0\n6       0    1    0       0       5     1        0     7    20\n2       1    1    0       0       6     0        0     7     0",
      "text/html": "<div>\n<style scoped>\n    .dataframe tbody tr th:only-of-type {\n        vertical-align: middle;\n    }\n\n    .dataframe tbody tr th {\n        vertical-align: top;\n    }\n\n    .dataframe thead th {\n        text-align: right;\n    }\n</style>\n<table border=\"1\" class=\"dataframe\">\n  <thead>\n    <tr style=\"text-align: right;\">\n      <th></th>\n      <th>choice</th>\n      <th>bar</th>\n      <th>day</th>\n      <th>hungry</th>\n      <th>patron</th>\n      <th>rain</th>\n      <th>booking</th>\n      <th>type</th>\n      <th>time</th>\n    </tr>\n  </thead>\n  <tbody>\n    <tr>\n      <th>8</th>\n      <td>0</td>\n      <td>1</td>\n      <td>1</td>\n      <td>0</td>\n      <td>3</td>\n      <td>1</td>\n      <td>0</td>\n      <td>7</td>\n      <td>60</td>\n    </tr>\n    <tr>\n      <th>3</th>\n      <td>1</td>\n      <td>0</td>\n      <td>1</td>\n      <td>1</td>\n      <td>3</td>\n      <td>0</td>\n      <td>0</td>\n      <td>8</td>\n      <td>20</td>\n    </tr>\n    <tr>\n      <th>5</th>\n      <td>0</td>\n      <td>1</td>\n      <td>0</td>\n      <td>1</td>\n      <td>6</td>\n      <td>1</td>\n      <td>0</td>\n      <td>4</td>\n      <td>0</td>\n    </tr>\n    <tr>\n      <th>6</th>\n      <td>0</td>\n      <td>1</td>\n      <td>0</td>\n      <td>0</td>\n      <td>5</td>\n      <td>1</td>\n      <td>0</td>\n      <td>7</td>\n      <td>20</td>\n    </tr>\n    <tr>\n      <th>2</th>\n      <td>1</td>\n      <td>1</td>\n      <td>0</td>\n      <td>0</td>\n      <td>6</td>\n      <td>0</td>\n      <td>0</td>\n      <td>7</td>\n      <td>0</td>\n    </tr>\n  </tbody>\n</table>\n</div>"
     },
     "metadata": {},
     "output_type": "display_data"
    },
    {
     "name": "stdout",
     "output_type": "stream",
     "text": [
      "y_test = [0 1 1 0 1]\n",
      "\n"
     ]
    }
   ],
   "source": [
    "from sklearn.model_selection import train_test_split\n",
    "from sklearn import preprocessing\n",
    "\n",
    "x_train = restaurant[['choice', 'bar', 'day', 'hungry', 'patron', 'rain', 'booking', 'type']]\n",
    "le = preprocessing.LabelEncoder()\n",
    "x_train = pd.DataFrame(columns=x_train.columns, data=le.fit_transform(x_train.values.flatten()).reshape(x_train.shape))\n",
    "x_train['time'] = restaurant['time']\n",
    "\n",
    "y = le.fit_transform(restaurant['wait'])\n",
    "\n",
    "Xd_train, Xd_test, y_train, y_test = train_test_split(x_train, y, test_size=0.35)\n",
    "\n",
    "display(Xd_train)\n",
    "print(f'y_train = {y_train}\\n')\n",
    "\n",
    "display(Xd_test)\n",
    "print(f'y_test = {y_test}\\n')"
   ],
   "metadata": {
    "collapsed": false
   }
  }
 ],
 "metadata": {
  "kernelspec": {
   "display_name": "Python 3",
   "language": "python",
   "name": "python3"
  },
  "language_info": {
   "codemirror_mode": {
    "name": "ipython",
    "version": 2
   },
   "file_extension": ".py",
   "mimetype": "text/x-python",
   "name": "python",
   "nbconvert_exporter": "python",
   "pygments_lexer": "ipython2",
   "version": "2.7.6"
  }
 },
 "nbformat": 4,
 "nbformat_minor": 0
}
