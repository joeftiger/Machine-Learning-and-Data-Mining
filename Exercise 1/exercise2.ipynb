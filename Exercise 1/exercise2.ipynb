{
 "cells": [
  {
   "cell_type": "markdown",
   "source": [
    "# Exercise 1\n",
    "Using your select stock / market index and your decision criterion (binary or ternary) on the daily return of the next day or on the trend (daily return after 5/10 days), can you generate a 1R model using as possible predictor the volume, and the moving average (with a period of 5, 10, 20 50 or 200). You can learn on all days except the last 100 (that will be used as the test set)."
   ],
   "metadata": {
    "collapsed": false
   }
  },
  {
   "cell_type": "code",
   "execution_count": 7,
   "outputs": [
    {
     "name": "stdout",
     "output_type": "stream",
     "text": [
      "        Date       Open        High        Low       Close    Volume  \\\n",
      "0 2007-01-03  97.180000   98.400002  96.260002   97.269997   9196800   \n",
      "1 2007-01-04  97.250000   98.790001  96.879997   98.309998  10524500   \n",
      "2 2007-01-05  97.599998   97.949997  96.910004   97.419998   7221300   \n",
      "3 2007-01-08  98.500000   99.500000  98.349998   98.900002  10340000   \n",
      "4 2007-01-09  99.080002  100.330002  99.070000  100.070000  11108200   \n",
      "\n",
      "    Adjusted  \n",
      "0  63.127567  \n",
      "1  63.802544  \n",
      "2  63.224930  \n",
      "3  64.185463  \n",
      "4  64.944771  \n"
     ]
    },
    {
     "data": {
      "text/plain": "                                Date         Open         High          Low  \\\ncount                           3692  3692.000000  3692.000000  3692.000000   \nmean   2014-05-02 11:46:20.931744256   147.198976   148.403180   146.074512   \nmin              2007-01-03 00:00:00    72.739998    76.980003    69.500000   \n25%              2010-08-31 18:00:00   124.189999   125.349998   123.072502   \n50%              2014-05-03 12:00:00   144.750000   145.619995   143.830002   \n75%              2017-12-30 00:00:00   168.847500   170.442501   167.659996   \nmax              2021-08-31 00:00:00   215.380005   215.899994   214.300003   \nstd                              NaN    30.808862    30.780935    30.844083   \n\n             Close        Volume     Adjusted  \ncount  3692.000000  3.692000e+03  3692.000000  \nmean    147.269085  5.576247e+06   113.375997  \nmin      71.739998  1.027500e+06    48.040176  \n25%     124.332496  3.482300e+06    90.296511  \n50%     144.730003  4.653750e+06   120.980629  \n75%     169.169998  6.660725e+06   132.155647  \nmax     215.800003  3.806350e+07   155.979538  \nstd      30.796603  3.229710e+06    25.410689  ",
      "text/html": "<div>\n<style scoped>\n    .dataframe tbody tr th:only-of-type {\n        vertical-align: middle;\n    }\n\n    .dataframe tbody tr th {\n        vertical-align: top;\n    }\n\n    .dataframe thead th {\n        text-align: right;\n    }\n</style>\n<table border=\"1\" class=\"dataframe\">\n  <thead>\n    <tr style=\"text-align: right;\">\n      <th></th>\n      <th>Date</th>\n      <th>Open</th>\n      <th>High</th>\n      <th>Low</th>\n      <th>Close</th>\n      <th>Volume</th>\n      <th>Adjusted</th>\n    </tr>\n  </thead>\n  <tbody>\n    <tr>\n      <th>count</th>\n      <td>3692</td>\n      <td>3692.000000</td>\n      <td>3692.000000</td>\n      <td>3692.000000</td>\n      <td>3692.000000</td>\n      <td>3.692000e+03</td>\n      <td>3692.000000</td>\n    </tr>\n    <tr>\n      <th>mean</th>\n      <td>2014-05-02 11:46:20.931744256</td>\n      <td>147.198976</td>\n      <td>148.403180</td>\n      <td>146.074512</td>\n      <td>147.269085</td>\n      <td>5.576247e+06</td>\n      <td>113.375997</td>\n    </tr>\n    <tr>\n      <th>min</th>\n      <td>2007-01-03 00:00:00</td>\n      <td>72.739998</td>\n      <td>76.980003</td>\n      <td>69.500000</td>\n      <td>71.739998</td>\n      <td>1.027500e+06</td>\n      <td>48.040176</td>\n    </tr>\n    <tr>\n      <th>25%</th>\n      <td>2010-08-31 18:00:00</td>\n      <td>124.189999</td>\n      <td>125.349998</td>\n      <td>123.072502</td>\n      <td>124.332496</td>\n      <td>3.482300e+06</td>\n      <td>90.296511</td>\n    </tr>\n    <tr>\n      <th>50%</th>\n      <td>2014-05-03 12:00:00</td>\n      <td>144.750000</td>\n      <td>145.619995</td>\n      <td>143.830002</td>\n      <td>144.730003</td>\n      <td>4.653750e+06</td>\n      <td>120.980629</td>\n    </tr>\n    <tr>\n      <th>75%</th>\n      <td>2017-12-30 00:00:00</td>\n      <td>168.847500</td>\n      <td>170.442501</td>\n      <td>167.659996</td>\n      <td>169.169998</td>\n      <td>6.660725e+06</td>\n      <td>132.155647</td>\n    </tr>\n    <tr>\n      <th>max</th>\n      <td>2021-08-31 00:00:00</td>\n      <td>215.380005</td>\n      <td>215.899994</td>\n      <td>214.300003</td>\n      <td>215.800003</td>\n      <td>3.806350e+07</td>\n      <td>155.979538</td>\n    </tr>\n    <tr>\n      <th>std</th>\n      <td>NaN</td>\n      <td>30.808862</td>\n      <td>30.780935</td>\n      <td>30.844083</td>\n      <td>30.796603</td>\n      <td>3.229710e+06</td>\n      <td>25.410689</td>\n    </tr>\n  </tbody>\n</table>\n</div>"
     },
     "execution_count": 7,
     "metadata": {},
     "output_type": "execute_result"
    }
   ],
   "source": [
    "import pandas as pd\n",
    "\n",
    "ibm = pd.read_csv('../Data/IBM.txt.zst', delimiter=' ')\n",
    "ibm['Date'] = ibm['Date'].apply(pd.to_datetime)\n",
    "print(ibm.head(5))\n",
    "ibm.describe(include='all', datetime_is_numeric=True)"
   ],
   "metadata": {
    "collapsed": false
   }
  },
  {
   "cell_type": "code",
   "execution_count": 8,
   "outputs": [
    {
     "data": {
      "text/plain": "<Figure size 640x480 with 1 Axes>",
      "image/png": "[encoded data removed]"
     },
     "metadata": {},
     "output_type": "display_data"
    }
   ],
   "source": [
    "import numpy as np\n",
    "import matplotlib.pyplot as plt\n",
    "\n",
    "daily_returns = np.empty(ibm['Close'].shape)\n",
    "daily_returns[0] = float('NaN')\n",
    "daily_returns[1:] = np.ediff1d(ibm['Close']) / ibm['Close'][:-1]\n",
    "ibm.insert(loc=len(ibm.columns), column='Daily Returns', value=daily_returns)\n",
    "\n",
    "num_bins = int(len(daily_returns) / 32)\n",
    "plt.hist(daily_returns, bins=num_bins)\n",
    "plt.show()"
   ],
   "metadata": {
    "collapsed": false
   }
  },
  {
   "cell_type": "code",
   "execution_count": 9,
   "outputs": [
    {
     "name": "stdout",
     "output_type": "stream",
     "text": [
      "        Date       Open        High        Low       Close    Volume  \\\n",
      "0 2007-01-03  97.180000   98.400002  96.260002   97.269997   9196800   \n",
      "1 2007-01-04  97.250000   98.790001  96.879997   98.309998  10524500   \n",
      "2 2007-01-05  97.599998   97.949997  96.910004   97.419998   7221300   \n",
      "3 2007-01-08  98.500000   99.500000  98.349998   98.900002  10340000   \n",
      "4 2007-01-09  99.080002  100.330002  99.070000  100.070000  11108200   \n",
      "\n",
      "    Adjusted  Daily Returns  Binary Decision  Ternary Decision  \n",
      "0  63.127567            NaN              NaN               NaN  \n",
      "1  63.802544       0.010692              1.0               1.0  \n",
      "2  63.224930      -0.009053              0.0              -1.0  \n",
      "3  64.185463       0.015192              1.0               1.0  \n",
      "4  64.944771       0.011830              1.0               1.0  \n"
     ]
    }
   ],
   "source": [
    "binary_decision = (daily_returns > 0).astype(float)\n",
    "binary_decision[0] = float('NaN')\n",
    "ibm.insert(loc=len(ibm.columns), column='Binary Decision', value=binary_decision)\n",
    "\n",
    "CUTOFF = 0.005\n",
    "ternary_decision = np.zeros(daily_returns.shape)\n",
    "ternary_decision[np.where(daily_returns > CUTOFF)] = 1\n",
    "ternary_decision[np.where(daily_returns < CUTOFF)] = -1\n",
    "ternary_decision[0] = float('NaN')\n",
    "ibm.insert(loc=len(ibm.columns), column='Ternary Decision', value=ternary_decision)\n",
    "\n",
    "print(ibm.head(5))"
   ],
   "metadata": {
    "collapsed": false
   }
  },
  {
   "cell_type": "code",
   "execution_count": 10,
   "outputs": [],
   "source": [
    "# TODO: go further"
   ],
   "metadata": {
    "collapsed": false
   }
  }
 ],
 "metadata": {
  "kernelspec": {
   "display_name": "Python 3",
   "language": "python",
   "name": "python3"
  },
  "language_info": {
   "codemirror_mode": {
    "name": "ipython",
    "version": 2
   },
   "file_extension": ".py",
   "mimetype": "text/x-python",
   "name": "python",
   "nbconvert_exporter": "python",
   "pygments_lexer": "ipython2",
   "version": "2.7.6"
  }
 },
 "nbformat": 4,
 "nbformat_minor": 0
}
