{
 "cells": [
  {
   "cell_type": "markdown",
   "source": [
    "# Exercise 1\n",
    "\n",
    "In the folder “Data” you have access to the dataset Titanic.csv presenting information about travellers with their status (survived=1 (yes) or =0 (no)).\n",
    "In addition, you have the information about the class (Pclass), name (Name), gender (Sex),\n",
    "age (Age), sibling or spouse on board (1/0), parents or children aboard (1/0), and fare price (Fare)."
   ],
   "metadata": {
    "collapsed": false
   }
  },
  {
   "cell_type": "code",
   "execution_count": 140,
   "outputs": [
    {
     "name": "stdout",
     "output_type": "stream",
     "text": [
      "                                                    Survived  Pclass     Sex  \\\n",
      "Name                                                                           \n",
      "Mr. Owen Harris Braund                                     0       3    male   \n",
      "Mrs. John Bradley (Florence Briggs Thayer) Cumings         1       1  female   \n",
      "Miss. Laina Heikkinen                                      1       3  female   \n",
      "Mrs. Jacques Heath (Lily May Peel) Futrelle                1       1  female   \n",
      "Mr. William Henry Allen                                    0       3    male   \n",
      "\n",
      "                                                     Age  \\\n",
      "Name                                                       \n",
      "Mr. Owen Harris Braund                              22.0   \n",
      "Mrs. John Bradley (Florence Briggs Thayer) Cumings  38.0   \n",
      "Miss. Laina Heikkinen                               26.0   \n",
      "Mrs. Jacques Heath (Lily May Peel) Futrelle         35.0   \n",
      "Mr. William Henry Allen                             35.0   \n",
      "\n",
      "                                                    Siblings/Spouses Aboard  \\\n",
      "Name                                                                          \n",
      "Mr. Owen Harris Braund                                                    1   \n",
      "Mrs. John Bradley (Florence Briggs Thayer) Cumings                        1   \n",
      "Miss. Laina Heikkinen                                                     0   \n",
      "Mrs. Jacques Heath (Lily May Peel) Futrelle                               1   \n",
      "Mr. William Henry Allen                                                   0   \n",
      "\n",
      "                                                    Parents/Children Aboard  \\\n",
      "Name                                                                          \n",
      "Mr. Owen Harris Braund                                                    0   \n",
      "Mrs. John Bradley (Florence Briggs Thayer) Cumings                        0   \n",
      "Miss. Laina Heikkinen                                                     0   \n",
      "Mrs. Jacques Heath (Lily May Peel) Futrelle                               0   \n",
      "Mr. William Henry Allen                                                   0   \n",
      "\n",
      "                                                       Fare  \n",
      "Name                                                         \n",
      "Mr. Owen Harris Braund                               7.2500  \n",
      "Mrs. John Bradley (Florence Briggs Thayer) Cumings  71.2833  \n",
      "Miss. Laina Heikkinen                                7.9250  \n",
      "Mrs. Jacques Heath (Lily May Peel) Futrelle         53.1000  \n",
      "Mr. William Henry Allen                              8.0500  \n"
     ]
    },
    {
     "data": {
      "text/plain": "          Survived      Pclass   Sex         Age  Siblings/Spouses Aboard  \\\ncount   887.000000  887.000000   887  887.000000               887.000000   \nunique         NaN         NaN     2         NaN                      NaN   \ntop            NaN         NaN  male         NaN                      NaN   \nfreq           NaN         NaN   573         NaN                      NaN   \nmean      0.385569    2.305524   NaN   29.471443                 0.525366   \nstd       0.487004    0.836662   NaN   14.121908                 1.104669   \nmin       0.000000    1.000000   NaN    0.420000                 0.000000   \n25%       0.000000    2.000000   NaN   20.250000                 0.000000   \n50%       0.000000    3.000000   NaN   28.000000                 0.000000   \n75%       1.000000    3.000000   NaN   38.000000                 1.000000   \nmax       1.000000    3.000000   NaN   80.000000                 8.000000   \n\n        Parents/Children Aboard       Fare  \ncount                887.000000  887.00000  \nunique                      NaN        NaN  \ntop                         NaN        NaN  \nfreq                        NaN        NaN  \nmean                   0.383315   32.30542  \nstd                    0.807466   49.78204  \nmin                    0.000000    0.00000  \n25%                    0.000000    7.92500  \n50%                    0.000000   14.45420  \n75%                    0.000000   31.13750  \nmax                    6.000000  512.32920  ",
      "text/html": "<div>\n<style scoped>\n    .dataframe tbody tr th:only-of-type {\n        vertical-align: middle;\n    }\n\n    .dataframe tbody tr th {\n        vertical-align: top;\n    }\n\n    .dataframe thead th {\n        text-align: right;\n    }\n</style>\n<table border=\"1\" class=\"dataframe\">\n  <thead>\n    <tr style=\"text-align: right;\">\n      <th></th>\n      <th>Survived</th>\n      <th>Pclass</th>\n      <th>Sex</th>\n      <th>Age</th>\n      <th>Siblings/Spouses Aboard</th>\n      <th>Parents/Children Aboard</th>\n      <th>Fare</th>\n    </tr>\n  </thead>\n  <tbody>\n    <tr>\n      <th>count</th>\n      <td>887.000000</td>\n      <td>887.000000</td>\n      <td>887</td>\n      <td>887.000000</td>\n      <td>887.000000</td>\n      <td>887.000000</td>\n      <td>887.00000</td>\n    </tr>\n    <tr>\n      <th>unique</th>\n      <td>NaN</td>\n      <td>NaN</td>\n      <td>2</td>\n      <td>NaN</td>\n      <td>NaN</td>\n      <td>NaN</td>\n      <td>NaN</td>\n    </tr>\n    <tr>\n      <th>top</th>\n      <td>NaN</td>\n      <td>NaN</td>\n      <td>male</td>\n      <td>NaN</td>\n      <td>NaN</td>\n      <td>NaN</td>\n      <td>NaN</td>\n    </tr>\n    <tr>\n      <th>freq</th>\n      <td>NaN</td>\n      <td>NaN</td>\n      <td>573</td>\n      <td>NaN</td>\n      <td>NaN</td>\n      <td>NaN</td>\n      <td>NaN</td>\n    </tr>\n    <tr>\n      <th>mean</th>\n      <td>0.385569</td>\n      <td>2.305524</td>\n      <td>NaN</td>\n      <td>29.471443</td>\n      <td>0.525366</td>\n      <td>0.383315</td>\n      <td>32.30542</td>\n    </tr>\n    <tr>\n      <th>std</th>\n      <td>0.487004</td>\n      <td>0.836662</td>\n      <td>NaN</td>\n      <td>14.121908</td>\n      <td>1.104669</td>\n      <td>0.807466</td>\n      <td>49.78204</td>\n    </tr>\n    <tr>\n      <th>min</th>\n      <td>0.000000</td>\n      <td>1.000000</td>\n      <td>NaN</td>\n      <td>0.420000</td>\n      <td>0.000000</td>\n      <td>0.000000</td>\n      <td>0.00000</td>\n    </tr>\n    <tr>\n      <th>25%</th>\n      <td>0.000000</td>\n      <td>2.000000</td>\n      <td>NaN</td>\n      <td>20.250000</td>\n      <td>0.000000</td>\n      <td>0.000000</td>\n      <td>7.92500</td>\n    </tr>\n    <tr>\n      <th>50%</th>\n      <td>0.000000</td>\n      <td>3.000000</td>\n      <td>NaN</td>\n      <td>28.000000</td>\n      <td>0.000000</td>\n      <td>0.000000</td>\n      <td>14.45420</td>\n    </tr>\n    <tr>\n      <th>75%</th>\n      <td>1.000000</td>\n      <td>3.000000</td>\n      <td>NaN</td>\n      <td>38.000000</td>\n      <td>1.000000</td>\n      <td>0.000000</td>\n      <td>31.13750</td>\n    </tr>\n    <tr>\n      <th>max</th>\n      <td>1.000000</td>\n      <td>3.000000</td>\n      <td>NaN</td>\n      <td>80.000000</td>\n      <td>8.000000</td>\n      <td>6.000000</td>\n      <td>512.32920</td>\n    </tr>\n  </tbody>\n</table>\n</div>"
     },
     "execution_count": 140,
     "metadata": {},
     "output_type": "execute_result"
    }
   ],
   "source": [
    "import pandas as pd\n",
    "\n",
    "pd.set_option('display.max_colwidth', None)\n",
    "titanic = pd.read_csv('../Data/titanic.csv.zst', index_col='Name')\n",
    "print(titanic.head(5))\n",
    "titanic.describe(include='all')"
   ],
   "metadata": {
    "collapsed": false
   }
  },
  {
   "cell_type": "code",
   "execution_count": 141,
   "outputs": [],
   "source": [
    "rules = ['Pclass', 'Sex', 'Age', 'Siblings/Spouses Aboard', 'Parents/Children Aboard', 'Fare']"
   ],
   "metadata": {
    "collapsed": false
   }
  },
  {
   "cell_type": "code",
   "execution_count": 142,
   "outputs": [],
   "source": [
    "from typing import Iterable\n",
    "from mlxtend.evaluate import accuracy_score\n",
    "from sklearn.model_selection import train_test_split\n",
    "from mlxtend.classifier import OneRClassifier\n",
    "\n",
    "\n",
    "def train_and_predict(X_idx: Iterable, y_idx: Iterable) -> float:\n",
    "    X = titanic[X_idx]\n",
    "    y = titanic[y_idx]\n",
    "\n",
    "    X_train, X_test, y_train, y_test = train_test_split(X, y, test_size=0.25)\n",
    "\n",
    "    one_r = OneRClassifier()\n",
    "    one_r.fit(X_train.to_numpy(), y_train)\n",
    "\n",
    "    y_pred = one_r.predict(X_test.to_numpy())\n",
    "    accuracy = accuracy_score(y_test, y_pred)\n",
    "\n",
    "    return accuracy"
   ],
   "metadata": {
    "collapsed": false
   }
  },
  {
   "cell_type": "markdown",
   "source": [
    "## (a) What is the best default rule for this dataset? (Default means without any evidence about the person)?\n",
    "\n",
    "The best default rule would be the most frequency count.\n",
    "If we assume the strategy of \"women and children first\" when the Titanic sank, we can see that the most likely properties would be `Sex` or `Parents/Children Aboard`.\n",
    "\n",
    "We test our default rule (`Sex` and `Parents/Children Aboard` vs. `Survived`):"
   ],
   "metadata": {
    "collapsed": false
   }
  },
  {
   "cell_type": "code",
   "execution_count": 143,
   "outputs": [
    {
     "name": "stdout",
     "output_type": "stream",
     "text": [
      "Default rule accuracy: 0.8018018018018018\n"
     ]
    }
   ],
   "source": [
    "default_rule_accuracy = train_and_predict(X_idx=[\"Sex\", \"Parents/Children Aboard\"], y_idx=\"Survived\")\n",
    "\n",
    "print('Default rule accuracy:', default_rule_accuracy)"
   ],
   "metadata": {
    "collapsed": false
   }
  },
  {
   "cell_type": "markdown",
   "source": [
    "## (b) What is the best 1R for this dataset?"
   ],
   "metadata": {
    "collapsed": false
   }
  },
  {
   "cell_type": "code",
   "execution_count": 144,
   "outputs": [
    {
     "name": "stdout",
     "output_type": "stream",
     "text": [
      "                      Rule  Accuracy\n",
      "0                   Pclass  0.671171\n",
      "1                      Sex  0.747748\n",
      "2                      Age  0.590090\n",
      "3  Siblings/Spouses Aboard  0.608108\n",
      "4  Parents/Children Aboard  0.612613\n",
      "5                     Fare  0.653153\n",
      "\n",
      "Best 1R:\n",
      "   Rule  Accuracy\n",
      "1  Sex  0.747748\n"
     ]
    }
   ],
   "source": [
    "all_one_r = pd.DataFrame(\n",
    "    map(lambda rule: [rule, train_and_predict(X_idx=[rule], y_idx=\"Survived\")], rules),\n",
    "    columns=[\"Rule\", \"Accuracy\"],\n",
    ")\n",
    "\n",
    "best_one_r = all_one_r[all_one_r.Accuracy == all_one_r.Accuracy.max()]\n",
    "\n",
    "print(all_one_r)\n",
    "print(\"\\nBest 1R:\\n\", best_one_r)"
   ],
   "metadata": {
    "collapsed": false
   }
  },
  {
   "cell_type": "markdown",
   "source": [
    "We therefore conclude the `Sex` attribute to be the best 1R for the Titanic dataset."
   ],
   "metadata": {
    "collapsed": false
   }
  },
  {
   "cell_type": "markdown",
   "source": [
    "## (c) Can you produce a second rule based on a single attribute with a good effectiveness? You need to split the dataset into two disjoint sample, the training and the test set. For example, used 75% for the training sample, and the remaining 25% for the test set."
   ],
   "metadata": {
    "collapsed": false
   }
  },
  {
   "cell_type": "code",
   "execution_count": 145,
   "outputs": [
    {
     "name": "stdout",
     "output_type": "stream",
     "text": [
      "                                                 Rules  Accuracy\n",
      "0                                        [Pclass, Sex]  0.788288\n",
      "1                                        [Pclass, Age]  0.684685\n",
      "2                    [Pclass, Siblings/Spouses Aboard]  0.680180\n",
      "3                    [Pclass, Parents/Children Aboard]  0.662162\n",
      "4                                       [Pclass, Fare]  0.729730\n",
      "5                                           [Sex, Age]  0.756757\n",
      "6                       [Sex, Siblings/Spouses Aboard]  0.801802\n",
      "7                       [Sex, Parents/Children Aboard]  0.747748\n",
      "8                                          [Sex, Fare]  0.680180\n",
      "9                       [Age, Siblings/Spouses Aboard]  0.576577\n",
      "10                      [Age, Parents/Children Aboard]  0.608108\n",
      "11                                         [Age, Fare]  0.693694\n",
      "12  [Siblings/Spouses Aboard, Parents/Children Aboard]  0.662162\n",
      "13                     [Siblings/Spouses Aboard, Fare]  0.639640\n",
      "14                     [Parents/Children Aboard, Fare]  0.684685\n",
      "\n",
      "Best 2R:\n",
      "                             Rules  Accuracy\n",
      "6  [Sex, Siblings/Spouses Aboard]  0.801802\n"
     ]
    }
   ],
   "source": [
    "rules2 = [[a,b] for a in rules for b in rules if rules.index(a) < rules.index(b)]\n",
    "all_two_r = pd.DataFrame(\n",
    "    map(lambda rule: [rule, train_and_predict(X_idx=rule, y_idx=\"Survived\")], rules2),\n",
    "    columns=[\"Rules\", \"Accuracy\"],\n",
    ")\n",
    "\n",
    "best_two_r = all_two_r[all_two_r.Accuracy == all_two_r.Accuracy.max()]\n",
    "\n",
    "print(all_two_r)\n",
    "print(\"\\nBest 2R:\\n\", best_two_r)"
   ],
   "metadata": {
    "collapsed": false
   }
  },
  {
   "cell_type": "markdown",
   "source": [
    "There is no direct answer as to which two rules would be best.\n",
    "Fact is, that `Sex` is always part of the set, but the other rule seems to not have that big of an impact and changes depending on the random splitting of the dataset into a training/test set.\n",
    "\n",
    "When taking the best out of 100 runs, I get the following result:\n",
    "```\n",
    "Best rule:     ['Sex', 'Parents/Children Aboard']\n",
    "with accuracy: 0.8603603603603603\n",
    "```\n",
    "However, this may also be the result of overfitting to the present dataset."
   ],
   "metadata": {
    "collapsed": false
   }
  },
  {
   "cell_type": "code",
   "execution_count": 145,
   "outputs": [],
   "source": [],
   "metadata": {
    "collapsed": false
   }
  }
 ],
 "metadata": {
  "kernelspec": {
   "display_name": "Python 3",
   "language": "python",
   "name": "python3"
  },
  "language_info": {
   "codemirror_mode": {
    "name": "ipython",
    "version": 2
   },
   "file_extension": ".py",
   "mimetype": "text/x-python",
   "name": "python",
   "nbconvert_exporter": "python",
   "pygments_lexer": "ipython2",
   "version": "2.7.6"
  }
 },
 "nbformat": 4,
 "nbformat_minor": 0
}
