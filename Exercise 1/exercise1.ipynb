{
 "cells": [
  {
   "cell_type": "markdown",
   "source": [
    "# Exercise 1\n",
    "\n",
    "In the folder “Data” you have access to the dataset Titanic.csv presenting information about travellers with their status (survived=1 (yes) or =0 (no)).\n",
    "In addition, you have the information about the class (Pclass), name (Name), gender (Sex),\n",
    "age (Age), sibling or spouse on board (1/0), parents or children aboard (1/0), and fare price (Fare)."
   ],
   "metadata": {
    "collapsed": false
   }
  },
  {
   "cell_type": "code",
   "execution_count": 1,
   "outputs": [
    {
     "data": {
      "text/plain": "                                                    Survived  Pclass     Sex  \\\nName                                                                           \nMr. Owen Harris Braund                                     0       3    male   \nMrs. John Bradley (Florence Briggs Thayer) Cumings         1       1  female   \nMiss. Laina Heikkinen                                      1       3  female   \nMrs. Jacques Heath (Lily May Peel) Futrelle                1       1  female   \nMr. William Henry Allen                                    0       3    male   \n\n                                                     Age  \\\nName                                                       \nMr. Owen Harris Braund                              22.0   \nMrs. John Bradley (Florence Briggs Thayer) Cumings  38.0   \nMiss. Laina Heikkinen                               26.0   \nMrs. Jacques Heath (Lily May Peel) Futrelle         35.0   \nMr. William Henry Allen                             35.0   \n\n                                                    Siblings/Spouses Aboard  \\\nName                                                                          \nMr. Owen Harris Braund                                                    1   \nMrs. John Bradley (Florence Briggs Thayer) Cumings                        1   \nMiss. Laina Heikkinen                                                     0   \nMrs. Jacques Heath (Lily May Peel) Futrelle                               1   \nMr. William Henry Allen                                                   0   \n\n                                                    Parents/Children Aboard  \\\nName                                                                          \nMr. Owen Harris Braund                                                    0   \nMrs. John Bradley (Florence Briggs Thayer) Cumings                        0   \nMiss. Laina Heikkinen                                                     0   \nMrs. Jacques Heath (Lily May Peel) Futrelle                               0   \nMr. William Henry Allen                                                   0   \n\n                                                       Fare  \nName                                                         \nMr. Owen Harris Braund                               7.2500  \nMrs. John Bradley (Florence Briggs Thayer) Cumings  71.2833  \nMiss. Laina Heikkinen                                7.9250  \nMrs. Jacques Heath (Lily May Peel) Futrelle         53.1000  \nMr. William Henry Allen                              8.0500  ",
      "text/html": "<div>\n<style scoped>\n    .dataframe tbody tr th:only-of-type {\n        vertical-align: middle;\n    }\n\n    .dataframe tbody tr th {\n        vertical-align: top;\n    }\n\n    .dataframe thead th {\n        text-align: right;\n    }\n</style>\n<table border=\"1\" class=\"dataframe\">\n  <thead>\n    <tr style=\"text-align: right;\">\n      <th></th>\n      <th>Survived</th>\n      <th>Pclass</th>\n      <th>Sex</th>\n      <th>Age</th>\n      <th>Siblings/Spouses Aboard</th>\n      <th>Parents/Children Aboard</th>\n      <th>Fare</th>\n    </tr>\n    <tr>\n      <th>Name</th>\n      <th></th>\n      <th></th>\n      <th></th>\n      <th></th>\n      <th></th>\n      <th></th>\n      <th></th>\n    </tr>\n  </thead>\n  <tbody>\n    <tr>\n      <th>Mr. Owen Harris Braund</th>\n      <td>0</td>\n      <td>3</td>\n      <td>male</td>\n      <td>22.0</td>\n      <td>1</td>\n      <td>0</td>\n      <td>7.2500</td>\n    </tr>\n    <tr>\n      <th>Mrs. John Bradley (Florence Briggs Thayer) Cumings</th>\n      <td>1</td>\n      <td>1</td>\n      <td>female</td>\n      <td>38.0</td>\n      <td>1</td>\n      <td>0</td>\n      <td>71.2833</td>\n    </tr>\n    <tr>\n      <th>Miss. Laina Heikkinen</th>\n      <td>1</td>\n      <td>3</td>\n      <td>female</td>\n      <td>26.0</td>\n      <td>0</td>\n      <td>0</td>\n      <td>7.9250</td>\n    </tr>\n    <tr>\n      <th>Mrs. Jacques Heath (Lily May Peel) Futrelle</th>\n      <td>1</td>\n      <td>1</td>\n      <td>female</td>\n      <td>35.0</td>\n      <td>1</td>\n      <td>0</td>\n      <td>53.1000</td>\n    </tr>\n    <tr>\n      <th>Mr. William Henry Allen</th>\n      <td>0</td>\n      <td>3</td>\n      <td>male</td>\n      <td>35.0</td>\n      <td>0</td>\n      <td>0</td>\n      <td>8.0500</td>\n    </tr>\n  </tbody>\n</table>\n</div>"
     },
     "execution_count": 1,
     "metadata": {},
     "output_type": "execute_result"
    }
   ],
   "source": [
    "import pandas as pd\n",
    "\n",
    "pd.set_option('display.max_colwidth', None)\n",
    "titanic = pd.read_csv('../Data/titanic.csv.zst', index_col='Name')\n",
    "titanic.head(5)"
   ],
   "metadata": {
    "collapsed": false
   }
  },
  {
   "cell_type": "code",
   "execution_count": 2,
   "outputs": [
    {
     "data": {
      "text/plain": "          Survived      Pclass   Sex         Age  Siblings/Spouses Aboard  \\\ncount   887.000000  887.000000   887  887.000000               887.000000   \nunique         NaN         NaN     2         NaN                      NaN   \ntop            NaN         NaN  male         NaN                      NaN   \nfreq           NaN         NaN   573         NaN                      NaN   \nmean      0.385569    2.305524   NaN   29.471443                 0.525366   \nstd       0.487004    0.836662   NaN   14.121908                 1.104669   \nmin       0.000000    1.000000   NaN    0.420000                 0.000000   \n25%       0.000000    2.000000   NaN   20.250000                 0.000000   \n50%       0.000000    3.000000   NaN   28.000000                 0.000000   \n75%       1.000000    3.000000   NaN   38.000000                 1.000000   \nmax       1.000000    3.000000   NaN   80.000000                 8.000000   \n\n        Parents/Children Aboard       Fare  \ncount                887.000000  887.00000  \nunique                      NaN        NaN  \ntop                         NaN        NaN  \nfreq                        NaN        NaN  \nmean                   0.383315   32.30542  \nstd                    0.807466   49.78204  \nmin                    0.000000    0.00000  \n25%                    0.000000    7.92500  \n50%                    0.000000   14.45420  \n75%                    0.000000   31.13750  \nmax                    6.000000  512.32920  ",
      "text/html": "<div>\n<style scoped>\n    .dataframe tbody tr th:only-of-type {\n        vertical-align: middle;\n    }\n\n    .dataframe tbody tr th {\n        vertical-align: top;\n    }\n\n    .dataframe thead th {\n        text-align: right;\n    }\n</style>\n<table border=\"1\" class=\"dataframe\">\n  <thead>\n    <tr style=\"text-align: right;\">\n      <th></th>\n      <th>Survived</th>\n      <th>Pclass</th>\n      <th>Sex</th>\n      <th>Age</th>\n      <th>Siblings/Spouses Aboard</th>\n      <th>Parents/Children Aboard</th>\n      <th>Fare</th>\n    </tr>\n  </thead>\n  <tbody>\n    <tr>\n      <th>count</th>\n      <td>887.000000</td>\n      <td>887.000000</td>\n      <td>887</td>\n      <td>887.000000</td>\n      <td>887.000000</td>\n      <td>887.000000</td>\n      <td>887.00000</td>\n    </tr>\n    <tr>\n      <th>unique</th>\n      <td>NaN</td>\n      <td>NaN</td>\n      <td>2</td>\n      <td>NaN</td>\n      <td>NaN</td>\n      <td>NaN</td>\n      <td>NaN</td>\n    </tr>\n    <tr>\n      <th>top</th>\n      <td>NaN</td>\n      <td>NaN</td>\n      <td>male</td>\n      <td>NaN</td>\n      <td>NaN</td>\n      <td>NaN</td>\n      <td>NaN</td>\n    </tr>\n    <tr>\n      <th>freq</th>\n      <td>NaN</td>\n      <td>NaN</td>\n      <td>573</td>\n      <td>NaN</td>\n      <td>NaN</td>\n      <td>NaN</td>\n      <td>NaN</td>\n    </tr>\n    <tr>\n      <th>mean</th>\n      <td>0.385569</td>\n      <td>2.305524</td>\n      <td>NaN</td>\n      <td>29.471443</td>\n      <td>0.525366</td>\n      <td>0.383315</td>\n      <td>32.30542</td>\n    </tr>\n    <tr>\n      <th>std</th>\n      <td>0.487004</td>\n      <td>0.836662</td>\n      <td>NaN</td>\n      <td>14.121908</td>\n      <td>1.104669</td>\n      <td>0.807466</td>\n      <td>49.78204</td>\n    </tr>\n    <tr>\n      <th>min</th>\n      <td>0.000000</td>\n      <td>1.000000</td>\n      <td>NaN</td>\n      <td>0.420000</td>\n      <td>0.000000</td>\n      <td>0.000000</td>\n      <td>0.00000</td>\n    </tr>\n    <tr>\n      <th>25%</th>\n      <td>0.000000</td>\n      <td>2.000000</td>\n      <td>NaN</td>\n      <td>20.250000</td>\n      <td>0.000000</td>\n      <td>0.000000</td>\n      <td>7.92500</td>\n    </tr>\n    <tr>\n      <th>50%</th>\n      <td>0.000000</td>\n      <td>3.000000</td>\n      <td>NaN</td>\n      <td>28.000000</td>\n      <td>0.000000</td>\n      <td>0.000000</td>\n      <td>14.45420</td>\n    </tr>\n    <tr>\n      <th>75%</th>\n      <td>1.000000</td>\n      <td>3.000000</td>\n      <td>NaN</td>\n      <td>38.000000</td>\n      <td>1.000000</td>\n      <td>0.000000</td>\n      <td>31.13750</td>\n    </tr>\n    <tr>\n      <th>max</th>\n      <td>1.000000</td>\n      <td>3.000000</td>\n      <td>NaN</td>\n      <td>80.000000</td>\n      <td>8.000000</td>\n      <td>6.000000</td>\n      <td>512.32920</td>\n    </tr>\n  </tbody>\n</table>\n</div>"
     },
     "execution_count": 2,
     "metadata": {},
     "output_type": "execute_result"
    }
   ],
   "source": [
    "titanic.describe(include='all')"
   ],
   "metadata": {
    "collapsed": false
   }
  },
  {
   "cell_type": "code",
   "execution_count": 3,
   "outputs": [],
   "source": [
    "rules = ['Pclass', 'Sex', 'Age', 'Siblings/Spouses Aboard', 'Parents/Children Aboard', 'Fare']"
   ],
   "metadata": {
    "collapsed": false
   }
  },
  {
   "cell_type": "code",
   "execution_count": 4,
   "outputs": [],
   "source": [
    "from typing import Iterable\n",
    "from mlxtend.evaluate import accuracy_score\n",
    "from sklearn.model_selection import train_test_split\n",
    "from mlxtend.classifier import OneRClassifier\n",
    "\n",
    "\n",
    "def train_and_predict(X_idx: Iterable, y_idx: Iterable) -> float:\n",
    "    X = titanic[X_idx]\n",
    "    y = titanic[y_idx]\n",
    "\n",
    "    X_train, X_test, y_train, y_test = train_test_split(X, y, test_size=0.25)\n",
    "\n",
    "    one_r = OneRClassifier()\n",
    "    one_r.fit(X_train.to_numpy(), y_train)\n",
    "\n",
    "    y_pred = one_r.predict(X_test.to_numpy())\n",
    "    accuracy = accuracy_score(y_test, y_pred)\n",
    "\n",
    "    return accuracy"
   ],
   "metadata": {
    "collapsed": false
   }
  },
  {
   "cell_type": "markdown",
   "source": [
    "## (a) What is the best default rule for this dataset? (Default means without any evidence about the person)?\n",
    "\n",
    "The best default rule would be the most frequency count.\n",
    "If we assume the strategy of \"women and children first\" when the Titanic sank, we can see that the most likely properties would be `Sex` or `Parents/Children Aboard`.\n",
    "\n",
    "We test our default rule (`Sex` and `Parents/Children Aboard` vs. `Survived`):"
   ],
   "metadata": {
    "collapsed": false
   }
  },
  {
   "cell_type": "code",
   "execution_count": 5,
   "outputs": [
    {
     "name": "stdout",
     "output_type": "stream",
     "text": [
      "Default rule accuracy: 0.8063063063063063\n"
     ]
    }
   ],
   "source": [
    "default_rule_accuracy = train_and_predict(X_idx=[\"Sex\", \"Parents/Children Aboard\"], y_idx=\"Survived\")\n",
    "\n",
    "print('Default rule accuracy:', default_rule_accuracy)"
   ],
   "metadata": {
    "collapsed": false
   }
  },
  {
   "cell_type": "markdown",
   "source": [
    "## (b) What is the best 1R for this dataset?"
   ],
   "metadata": {
    "collapsed": false
   }
  },
  {
   "cell_type": "code",
   "execution_count": 6,
   "outputs": [
    {
     "data": {
      "text/plain": "                      Rule  Accuracy\n0                   Pclass  0.711712\n1                      Sex  0.770270\n2                      Age  0.513514\n3  Siblings/Spouses Aboard  0.630631\n4  Parents/Children Aboard  0.630631\n5                     Fare  0.693694",
      "text/html": "<div>\n<style scoped>\n    .dataframe tbody tr th:only-of-type {\n        vertical-align: middle;\n    }\n\n    .dataframe tbody tr th {\n        vertical-align: top;\n    }\n\n    .dataframe thead th {\n        text-align: right;\n    }\n</style>\n<table border=\"1\" class=\"dataframe\">\n  <thead>\n    <tr style=\"text-align: right;\">\n      <th></th>\n      <th>Rule</th>\n      <th>Accuracy</th>\n    </tr>\n  </thead>\n  <tbody>\n    <tr>\n      <th>0</th>\n      <td>Pclass</td>\n      <td>0.711712</td>\n    </tr>\n    <tr>\n      <th>1</th>\n      <td>Sex</td>\n      <td>0.770270</td>\n    </tr>\n    <tr>\n      <th>2</th>\n      <td>Age</td>\n      <td>0.513514</td>\n    </tr>\n    <tr>\n      <th>3</th>\n      <td>Siblings/Spouses Aboard</td>\n      <td>0.630631</td>\n    </tr>\n    <tr>\n      <th>4</th>\n      <td>Parents/Children Aboard</td>\n      <td>0.630631</td>\n    </tr>\n    <tr>\n      <th>5</th>\n      <td>Fare</td>\n      <td>0.693694</td>\n    </tr>\n  </tbody>\n</table>\n</div>"
     },
     "execution_count": 6,
     "metadata": {},
     "output_type": "execute_result"
    }
   ],
   "source": [
    "all_one_r = pd.DataFrame(\n",
    "    map(lambda rule: [rule, train_and_predict(X_idx=[rule], y_idx='Survived')], rules),\n",
    "    columns=['Rule', 'Accuracy'],\n",
    ")\n",
    "\n",
    "all_one_r"
   ],
   "metadata": {
    "collapsed": false
   }
  },
  {
   "cell_type": "code",
   "execution_count": 7,
   "outputs": [
    {
     "name": "stdout",
     "output_type": "stream",
     "text": [
      "Best 1R:\n"
     ]
    },
    {
     "data": {
      "text/plain": "  Rule  Accuracy\n1  Sex   0.77027",
      "text/html": "<div>\n<style scoped>\n    .dataframe tbody tr th:only-of-type {\n        vertical-align: middle;\n    }\n\n    .dataframe tbody tr th {\n        vertical-align: top;\n    }\n\n    .dataframe thead th {\n        text-align: right;\n    }\n</style>\n<table border=\"1\" class=\"dataframe\">\n  <thead>\n    <tr style=\"text-align: right;\">\n      <th></th>\n      <th>Rule</th>\n      <th>Accuracy</th>\n    </tr>\n  </thead>\n  <tbody>\n    <tr>\n      <th>1</th>\n      <td>Sex</td>\n      <td>0.77027</td>\n    </tr>\n  </tbody>\n</table>\n</div>"
     },
     "execution_count": 7,
     "metadata": {},
     "output_type": "execute_result"
    }
   ],
   "source": [
    "best_one_r = all_one_r[all_one_r.Accuracy == all_one_r.Accuracy.max()]\n",
    "\n",
    "print('Best 1R:')\n",
    "best_one_r"
   ],
   "metadata": {
    "collapsed": false
   }
  },
  {
   "cell_type": "markdown",
   "source": [
    "We therefore conclude the `Sex` attribute to be the best 1R for the Titanic dataset."
   ],
   "metadata": {
    "collapsed": false
   }
  },
  {
   "cell_type": "markdown",
   "source": [
    "## (c) Can you produce a second rule based on a single attribute with a good effectiveness? You need to split the dataset into two disjoint sample, the training and the test set. For example, used 75% for the training sample, and the remaining 25% for the test set."
   ],
   "metadata": {
    "collapsed": false
   }
  },
  {
   "cell_type": "code",
   "execution_count": 8,
   "outputs": [
    {
     "data": {
      "text/plain": "                                                 Rules  Accuracy\n0                                        [Pclass, Sex]  0.720721\n1                                        [Pclass, Age]  0.626126\n2                    [Pclass, Siblings/Spouses Aboard]  0.702703\n3                    [Pclass, Parents/Children Aboard]  0.716216\n4                                       [Pclass, Fare]  0.653153\n5                                           [Sex, Age]  0.806306\n6                       [Sex, Siblings/Spouses Aboard]  0.743243\n7                       [Sex, Parents/Children Aboard]  0.779279\n8                                          [Sex, Fare]  0.698198\n9                       [Age, Siblings/Spouses Aboard]  0.585586\n10                      [Age, Parents/Children Aboard]  0.612613\n11                                         [Age, Fare]  0.702703\n12  [Siblings/Spouses Aboard, Parents/Children Aboard]  0.612613\n13                     [Siblings/Spouses Aboard, Fare]  0.644144\n14                     [Parents/Children Aboard, Fare]  0.666667",
      "text/html": "<div>\n<style scoped>\n    .dataframe tbody tr th:only-of-type {\n        vertical-align: middle;\n    }\n\n    .dataframe tbody tr th {\n        vertical-align: top;\n    }\n\n    .dataframe thead th {\n        text-align: right;\n    }\n</style>\n<table border=\"1\" class=\"dataframe\">\n  <thead>\n    <tr style=\"text-align: right;\">\n      <th></th>\n      <th>Rules</th>\n      <th>Accuracy</th>\n    </tr>\n  </thead>\n  <tbody>\n    <tr>\n      <th>0</th>\n      <td>[Pclass, Sex]</td>\n      <td>0.720721</td>\n    </tr>\n    <tr>\n      <th>1</th>\n      <td>[Pclass, Age]</td>\n      <td>0.626126</td>\n    </tr>\n    <tr>\n      <th>2</th>\n      <td>[Pclass, Siblings/Spouses Aboard]</td>\n      <td>0.702703</td>\n    </tr>\n    <tr>\n      <th>3</th>\n      <td>[Pclass, Parents/Children Aboard]</td>\n      <td>0.716216</td>\n    </tr>\n    <tr>\n      <th>4</th>\n      <td>[Pclass, Fare]</td>\n      <td>0.653153</td>\n    </tr>\n    <tr>\n      <th>5</th>\n      <td>[Sex, Age]</td>\n      <td>0.806306</td>\n    </tr>\n    <tr>\n      <th>6</th>\n      <td>[Sex, Siblings/Spouses Aboard]</td>\n      <td>0.743243</td>\n    </tr>\n    <tr>\n      <th>7</th>\n      <td>[Sex, Parents/Children Aboard]</td>\n      <td>0.779279</td>\n    </tr>\n    <tr>\n      <th>8</th>\n      <td>[Sex, Fare]</td>\n      <td>0.698198</td>\n    </tr>\n    <tr>\n      <th>9</th>\n      <td>[Age, Siblings/Spouses Aboard]</td>\n      <td>0.585586</td>\n    </tr>\n    <tr>\n      <th>10</th>\n      <td>[Age, Parents/Children Aboard]</td>\n      <td>0.612613</td>\n    </tr>\n    <tr>\n      <th>11</th>\n      <td>[Age, Fare]</td>\n      <td>0.702703</td>\n    </tr>\n    <tr>\n      <th>12</th>\n      <td>[Siblings/Spouses Aboard, Parents/Children Aboard]</td>\n      <td>0.612613</td>\n    </tr>\n    <tr>\n      <th>13</th>\n      <td>[Siblings/Spouses Aboard, Fare]</td>\n      <td>0.644144</td>\n    </tr>\n    <tr>\n      <th>14</th>\n      <td>[Parents/Children Aboard, Fare]</td>\n      <td>0.666667</td>\n    </tr>\n  </tbody>\n</table>\n</div>"
     },
     "execution_count": 8,
     "metadata": {},
     "output_type": "execute_result"
    }
   ],
   "source": [
    "rules2 = [[a,b] for a in rules for b in rules if rules.index(a) < rules.index(b)]\n",
    "all_two_r = pd.DataFrame(\n",
    "    map(lambda rule: [rule, train_and_predict(X_idx=rule, y_idx=\"Survived\")], rules2),\n",
    "    columns=[\"Rules\", \"Accuracy\"],\n",
    ")\n",
    "\n",
    "all_two_r"
   ],
   "metadata": {
    "collapsed": false
   }
  },
  {
   "cell_type": "code",
   "execution_count": 9,
   "outputs": [
    {
     "name": "stdout",
     "output_type": "stream",
     "text": [
      "Best 2R:\n"
     ]
    },
    {
     "data": {
      "text/plain": "        Rules  Accuracy\n5  [Sex, Age]  0.806306",
      "text/html": "<div>\n<style scoped>\n    .dataframe tbody tr th:only-of-type {\n        vertical-align: middle;\n    }\n\n    .dataframe tbody tr th {\n        vertical-align: top;\n    }\n\n    .dataframe thead th {\n        text-align: right;\n    }\n</style>\n<table border=\"1\" class=\"dataframe\">\n  <thead>\n    <tr style=\"text-align: right;\">\n      <th></th>\n      <th>Rules</th>\n      <th>Accuracy</th>\n    </tr>\n  </thead>\n  <tbody>\n    <tr>\n      <th>5</th>\n      <td>[Sex, Age]</td>\n      <td>0.806306</td>\n    </tr>\n  </tbody>\n</table>\n</div>"
     },
     "execution_count": 9,
     "metadata": {},
     "output_type": "execute_result"
    }
   ],
   "source": [
    "best_two_r = all_two_r[all_two_r.Accuracy == all_two_r.Accuracy.max()]\n",
    "\n",
    "print(\"Best 2R:\")\n",
    "best_two_r"
   ],
   "metadata": {
    "collapsed": false
   }
  },
  {
   "cell_type": "markdown",
   "source": [
    "There is no direct answer as to which two rules would be best.\n",
    "Fact is, that `Sex` is always part of the set, but the other rule seems to not have that big of an impact and changes depending on the random splitting of the dataset into a training/test set.\n",
    "\n",
    "When taking the best out of 100 runs, I get the following result:\n",
    "```\n",
    "Best rule:     ['Sex', 'Parents/Children Aboard']\n",
    "with accuracy: 0.8603603603603603\n",
    "```\n",
    "However, this may also be the result of overfitting to the present dataset."
   ],
   "metadata": {
    "collapsed": false
   }
  }
 ],
 "metadata": {
  "kernelspec": {
   "display_name": "Python 3",
   "language": "python",
   "name": "python3"
  },
  "language_info": {
   "codemirror_mode": {
    "name": "ipython",
    "version": 2
   },
   "file_extension": ".py",
   "mimetype": "text/x-python",
   "name": "python",
   "nbconvert_exporter": "python",
   "pygments_lexer": "ipython2",
   "version": "2.7.6"
  }
 },
 "nbformat": 4,
 "nbformat_minor": 0
}
