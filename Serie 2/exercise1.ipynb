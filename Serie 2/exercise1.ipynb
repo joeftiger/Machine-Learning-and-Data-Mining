{
 "cells": [
  {
   "cell_type": "markdown",
   "source": [
    "# Exercise 1\n",
    "\n",
    "In the folder “Data” you have access to the dataset Titanic.csv presenting information about travellers with their status (survived=1 (yes) or =0 (no)).\n",
    "In addition, you have the information about the class (Pclass), name (Name), gender (Sex),\n",
    "age (Age), sibling or spouse on board (1/0), parents or children aboard (1/0), and fare price (Fare)."
   ],
   "metadata": {
    "collapsed": false
   }
  },
  {
   "cell_type": "code",
   "execution_count": 1,
   "outputs": [
    {
     "data": {
      "text/plain": "                                                    Survived  Pclass     Sex  \\\nName                                                                           \nMr. Owen Harris Braund                                     0       3    male   \nMrs. John Bradley (Florence Briggs Thayer) Cumings         1       1  female   \nMiss. Laina Heikkinen                                      1       3  female   \nMrs. Jacques Heath (Lily May Peel) Futrelle                1       1  female   \nMr. William Henry Allen                                    0       3    male   \n\n                                                     Age  \\\nName                                                       \nMr. Owen Harris Braund                              22.0   \nMrs. John Bradley (Florence Briggs Thayer) Cumings  38.0   \nMiss. Laina Heikkinen                               26.0   \nMrs. Jacques Heath (Lily May Peel) Futrelle         35.0   \nMr. William Henry Allen                             35.0   \n\n                                                    Siblings/Spouses Aboard  \\\nName                                                                          \nMr. Owen Harris Braund                                                    1   \nMrs. John Bradley (Florence Briggs Thayer) Cumings                        1   \nMiss. Laina Heikkinen                                                     0   \nMrs. Jacques Heath (Lily May Peel) Futrelle                               1   \nMr. William Henry Allen                                                   0   \n\n                                                    Parents/Children Aboard  \\\nName                                                                          \nMr. Owen Harris Braund                                                    0   \nMrs. John Bradley (Florence Briggs Thayer) Cumings                        0   \nMiss. Laina Heikkinen                                                     0   \nMrs. Jacques Heath (Lily May Peel) Futrelle                               0   \nMr. William Henry Allen                                                   0   \n\n                                                       Fare  \nName                                                         \nMr. Owen Harris Braund                               7.2500  \nMrs. John Bradley (Florence Briggs Thayer) Cumings  71.2833  \nMiss. Laina Heikkinen                                7.9250  \nMrs. Jacques Heath (Lily May Peel) Futrelle         53.1000  \nMr. William Henry Allen                              8.0500  ",
      "text/html": "<div>\n<style scoped>\n    .dataframe tbody tr th:only-of-type {\n        vertical-align: middle;\n    }\n\n    .dataframe tbody tr th {\n        vertical-align: top;\n    }\n\n    .dataframe thead th {\n        text-align: right;\n    }\n</style>\n<table border=\"1\" class=\"dataframe\">\n  <thead>\n    <tr style=\"text-align: right;\">\n      <th></th>\n      <th>Survived</th>\n      <th>Pclass</th>\n      <th>Sex</th>\n      <th>Age</th>\n      <th>Siblings/Spouses Aboard</th>\n      <th>Parents/Children Aboard</th>\n      <th>Fare</th>\n    </tr>\n    <tr>\n      <th>Name</th>\n      <th></th>\n      <th></th>\n      <th></th>\n      <th></th>\n      <th></th>\n      <th></th>\n      <th></th>\n    </tr>\n  </thead>\n  <tbody>\n    <tr>\n      <th>Mr. Owen Harris Braund</th>\n      <td>0</td>\n      <td>3</td>\n      <td>male</td>\n      <td>22.0</td>\n      <td>1</td>\n      <td>0</td>\n      <td>7.2500</td>\n    </tr>\n    <tr>\n      <th>Mrs. John Bradley (Florence Briggs Thayer) Cumings</th>\n      <td>1</td>\n      <td>1</td>\n      <td>female</td>\n      <td>38.0</td>\n      <td>1</td>\n      <td>0</td>\n      <td>71.2833</td>\n    </tr>\n    <tr>\n      <th>Miss. Laina Heikkinen</th>\n      <td>1</td>\n      <td>3</td>\n      <td>female</td>\n      <td>26.0</td>\n      <td>0</td>\n      <td>0</td>\n      <td>7.9250</td>\n    </tr>\n    <tr>\n      <th>Mrs. Jacques Heath (Lily May Peel) Futrelle</th>\n      <td>1</td>\n      <td>1</td>\n      <td>female</td>\n      <td>35.0</td>\n      <td>1</td>\n      <td>0</td>\n      <td>53.1000</td>\n    </tr>\n    <tr>\n      <th>Mr. William Henry Allen</th>\n      <td>0</td>\n      <td>3</td>\n      <td>male</td>\n      <td>35.0</td>\n      <td>0</td>\n      <td>0</td>\n      <td>8.0500</td>\n    </tr>\n  </tbody>\n</table>\n</div>"
     },
     "execution_count": 1,
     "metadata": {},
     "output_type": "execute_result"
    }
   ],
   "source": [
    "import pandas as pd\n",
    "\n",
    "pd.set_option('display.max_colwidth', None)\n",
    "titanic = pd.read_csv('../Data/titanic.csv.zst', index_col='Name')\n",
    "titanic.head(5)"
   ],
   "metadata": {
    "collapsed": false
   }
  },
  {
   "cell_type": "code",
   "execution_count": 2,
   "outputs": [
    {
     "data": {
      "text/plain": "          Survived      Pclass   Sex         Age  Siblings/Spouses Aboard  \\\ncount   887.000000  887.000000   887  887.000000               887.000000   \nunique         NaN         NaN     2         NaN                      NaN   \ntop            NaN         NaN  male         NaN                      NaN   \nfreq           NaN         NaN   573         NaN                      NaN   \nmean      0.385569    2.305524   NaN   29.471443                 0.525366   \nstd       0.487004    0.836662   NaN   14.121908                 1.104669   \nmin       0.000000    1.000000   NaN    0.420000                 0.000000   \n25%       0.000000    2.000000   NaN   20.250000                 0.000000   \n50%       0.000000    3.000000   NaN   28.000000                 0.000000   \n75%       1.000000    3.000000   NaN   38.000000                 1.000000   \nmax       1.000000    3.000000   NaN   80.000000                 8.000000   \n\n        Parents/Children Aboard       Fare  \ncount                887.000000  887.00000  \nunique                      NaN        NaN  \ntop                         NaN        NaN  \nfreq                        NaN        NaN  \nmean                   0.383315   32.30542  \nstd                    0.807466   49.78204  \nmin                    0.000000    0.00000  \n25%                    0.000000    7.92500  \n50%                    0.000000   14.45420  \n75%                    0.000000   31.13750  \nmax                    6.000000  512.32920  ",
      "text/html": "<div>\n<style scoped>\n    .dataframe tbody tr th:only-of-type {\n        vertical-align: middle;\n    }\n\n    .dataframe tbody tr th {\n        vertical-align: top;\n    }\n\n    .dataframe thead th {\n        text-align: right;\n    }\n</style>\n<table border=\"1\" class=\"dataframe\">\n  <thead>\n    <tr style=\"text-align: right;\">\n      <th></th>\n      <th>Survived</th>\n      <th>Pclass</th>\n      <th>Sex</th>\n      <th>Age</th>\n      <th>Siblings/Spouses Aboard</th>\n      <th>Parents/Children Aboard</th>\n      <th>Fare</th>\n    </tr>\n  </thead>\n  <tbody>\n    <tr>\n      <th>count</th>\n      <td>887.000000</td>\n      <td>887.000000</td>\n      <td>887</td>\n      <td>887.000000</td>\n      <td>887.000000</td>\n      <td>887.000000</td>\n      <td>887.00000</td>\n    </tr>\n    <tr>\n      <th>unique</th>\n      <td>NaN</td>\n      <td>NaN</td>\n      <td>2</td>\n      <td>NaN</td>\n      <td>NaN</td>\n      <td>NaN</td>\n      <td>NaN</td>\n    </tr>\n    <tr>\n      <th>top</th>\n      <td>NaN</td>\n      <td>NaN</td>\n      <td>male</td>\n      <td>NaN</td>\n      <td>NaN</td>\n      <td>NaN</td>\n      <td>NaN</td>\n    </tr>\n    <tr>\n      <th>freq</th>\n      <td>NaN</td>\n      <td>NaN</td>\n      <td>573</td>\n      <td>NaN</td>\n      <td>NaN</td>\n      <td>NaN</td>\n      <td>NaN</td>\n    </tr>\n    <tr>\n      <th>mean</th>\n      <td>0.385569</td>\n      <td>2.305524</td>\n      <td>NaN</td>\n      <td>29.471443</td>\n      <td>0.525366</td>\n      <td>0.383315</td>\n      <td>32.30542</td>\n    </tr>\n    <tr>\n      <th>std</th>\n      <td>0.487004</td>\n      <td>0.836662</td>\n      <td>NaN</td>\n      <td>14.121908</td>\n      <td>1.104669</td>\n      <td>0.807466</td>\n      <td>49.78204</td>\n    </tr>\n    <tr>\n      <th>min</th>\n      <td>0.000000</td>\n      <td>1.000000</td>\n      <td>NaN</td>\n      <td>0.420000</td>\n      <td>0.000000</td>\n      <td>0.000000</td>\n      <td>0.00000</td>\n    </tr>\n    <tr>\n      <th>25%</th>\n      <td>0.000000</td>\n      <td>2.000000</td>\n      <td>NaN</td>\n      <td>20.250000</td>\n      <td>0.000000</td>\n      <td>0.000000</td>\n      <td>7.92500</td>\n    </tr>\n    <tr>\n      <th>50%</th>\n      <td>0.000000</td>\n      <td>3.000000</td>\n      <td>NaN</td>\n      <td>28.000000</td>\n      <td>0.000000</td>\n      <td>0.000000</td>\n      <td>14.45420</td>\n    </tr>\n    <tr>\n      <th>75%</th>\n      <td>1.000000</td>\n      <td>3.000000</td>\n      <td>NaN</td>\n      <td>38.000000</td>\n      <td>1.000000</td>\n      <td>0.000000</td>\n      <td>31.13750</td>\n    </tr>\n    <tr>\n      <th>max</th>\n      <td>1.000000</td>\n      <td>3.000000</td>\n      <td>NaN</td>\n      <td>80.000000</td>\n      <td>8.000000</td>\n      <td>6.000000</td>\n      <td>512.32920</td>\n    </tr>\n  </tbody>\n</table>\n</div>"
     },
     "execution_count": 2,
     "metadata": {},
     "output_type": "execute_result"
    }
   ],
   "source": [
    "titanic.describe(include='all')"
   ],
   "metadata": {
    "collapsed": false
   }
  },
  {
   "cell_type": "markdown",
   "source": [
    "We binarize the gender to make it easier to work with."
   ],
   "metadata": {
    "collapsed": false
   }
  },
  {
   "cell_type": "code",
   "execution_count": 3,
   "outputs": [
    {
     "data": {
      "text/plain": "                                                    Survived  Pclass     Sex  \\\nName                                                                           \nMr. Owen Harris Braund                                     0       3    male   \nMrs. John Bradley (Florence Briggs Thayer) Cumings         1       1  female   \nMiss. Laina Heikkinen                                      1       3  female   \nMrs. Jacques Heath (Lily May Peel) Futrelle                1       1  female   \nMr. William Henry Allen                                    0       3    male   \n\n                                                    Binary Gender   Age  \\\nName                                                                      \nMr. Owen Harris Braund                                          1  22.0   \nMrs. John Bradley (Florence Briggs Thayer) Cumings              0  38.0   \nMiss. Laina Heikkinen                                           0  26.0   \nMrs. Jacques Heath (Lily May Peel) Futrelle                     0  35.0   \nMr. William Henry Allen                                         1  35.0   \n\n                                                    Siblings/Spouses Aboard  \\\nName                                                                          \nMr. Owen Harris Braund                                                    1   \nMrs. John Bradley (Florence Briggs Thayer) Cumings                        1   \nMiss. Laina Heikkinen                                                     0   \nMrs. Jacques Heath (Lily May Peel) Futrelle                               1   \nMr. William Henry Allen                                                   0   \n\n                                                    Parents/Children Aboard  \\\nName                                                                          \nMr. Owen Harris Braund                                                    0   \nMrs. John Bradley (Florence Briggs Thayer) Cumings                        0   \nMiss. Laina Heikkinen                                                     0   \nMrs. Jacques Heath (Lily May Peel) Futrelle                               0   \nMr. William Henry Allen                                                   0   \n\n                                                       Fare  \nName                                                         \nMr. Owen Harris Braund                               7.2500  \nMrs. John Bradley (Florence Briggs Thayer) Cumings  71.2833  \nMiss. Laina Heikkinen                                7.9250  \nMrs. Jacques Heath (Lily May Peel) Futrelle         53.1000  \nMr. William Henry Allen                              8.0500  ",
      "text/html": "<div>\n<style scoped>\n    .dataframe tbody tr th:only-of-type {\n        vertical-align: middle;\n    }\n\n    .dataframe tbody tr th {\n        vertical-align: top;\n    }\n\n    .dataframe thead th {\n        text-align: right;\n    }\n</style>\n<table border=\"1\" class=\"dataframe\">\n  <thead>\n    <tr style=\"text-align: right;\">\n      <th></th>\n      <th>Survived</th>\n      <th>Pclass</th>\n      <th>Sex</th>\n      <th>Binary Gender</th>\n      <th>Age</th>\n      <th>Siblings/Spouses Aboard</th>\n      <th>Parents/Children Aboard</th>\n      <th>Fare</th>\n    </tr>\n    <tr>\n      <th>Name</th>\n      <th></th>\n      <th></th>\n      <th></th>\n      <th></th>\n      <th></th>\n      <th></th>\n      <th></th>\n      <th></th>\n    </tr>\n  </thead>\n  <tbody>\n    <tr>\n      <th>Mr. Owen Harris Braund</th>\n      <td>0</td>\n      <td>3</td>\n      <td>male</td>\n      <td>1</td>\n      <td>22.0</td>\n      <td>1</td>\n      <td>0</td>\n      <td>7.2500</td>\n    </tr>\n    <tr>\n      <th>Mrs. John Bradley (Florence Briggs Thayer) Cumings</th>\n      <td>1</td>\n      <td>1</td>\n      <td>female</td>\n      <td>0</td>\n      <td>38.0</td>\n      <td>1</td>\n      <td>0</td>\n      <td>71.2833</td>\n    </tr>\n    <tr>\n      <th>Miss. Laina Heikkinen</th>\n      <td>1</td>\n      <td>3</td>\n      <td>female</td>\n      <td>0</td>\n      <td>26.0</td>\n      <td>0</td>\n      <td>0</td>\n      <td>7.9250</td>\n    </tr>\n    <tr>\n      <th>Mrs. Jacques Heath (Lily May Peel) Futrelle</th>\n      <td>1</td>\n      <td>1</td>\n      <td>female</td>\n      <td>0</td>\n      <td>35.0</td>\n      <td>1</td>\n      <td>0</td>\n      <td>53.1000</td>\n    </tr>\n    <tr>\n      <th>Mr. William Henry Allen</th>\n      <td>0</td>\n      <td>3</td>\n      <td>male</td>\n      <td>1</td>\n      <td>35.0</td>\n      <td>0</td>\n      <td>0</td>\n      <td>8.0500</td>\n    </tr>\n  </tbody>\n</table>\n</div>"
     },
     "execution_count": 3,
     "metadata": {},
     "output_type": "execute_result"
    }
   ],
   "source": [
    "titanic.insert(\n",
    "    loc=titanic.columns.get_loc('Sex') + 1,\n",
    "    column='Binary Gender',\n",
    "    value=titanic['Sex'].map({'female': 0, 'male': 1})\n",
    ")\n",
    "titanic.head(5)"
   ],
   "metadata": {
    "collapsed": false
   }
  },
  {
   "cell_type": "markdown",
   "source": [
    "## (a) In the correlation visualization, select the two features that have the most significant correlation to the target feature, Survived."
   ],
   "metadata": {
    "collapsed": false
   }
  },
  {
   "cell_type": "code",
   "execution_count": 4,
   "outputs": [],
   "source": [
    "features = [c for c in titanic.columns if c != 'Name' and c != 'Sex' and c != 'Survived']\n",
    "X = titanic[features]\n",
    "y = titanic['Survived']"
   ],
   "metadata": {
    "collapsed": false
   }
  },
  {
   "cell_type": "code",
   "execution_count": 5,
   "outputs": [
    {
     "name": "stdout",
     "output_type": "stream",
     "text": [
      "f_classif :\n",
      "         Feature       Score\n",
      "1  Binary Gender  225.705798\n",
      "0         Pclass   73.585815\n",
      "\n",
      "f_regression :\n",
      "         Feature       Score\n",
      "1  Binary Gender  225.705798\n",
      "0         Pclass   73.585815\n",
      "\n",
      "chi2 :\n",
      "         Feature        Score\n",
      "5           Fare  2788.932599\n",
      "1  Binary Gender    58.159436\n",
      "\n",
      "Most correlating pair of features:\n",
      "[['Binary Gender', 'Pclass'], ['Fare', 'Binary Gender']]\n"
     ]
    }
   ],
   "source": [
    "from sklearn.feature_selection import SelectKBest, f_classif, f_regression, chi2\n",
    "from sklearn.model_selection import train_test_split\n",
    "\n",
    "score_funcs = [f_classif, f_regression, chi2]\n",
    "\n",
    "X_train, X_test, y_train, y_test = train_test_split(X, y, test_size=0.25)\n",
    "\n",
    "ms_features = []\n",
    "for f in score_funcs:\n",
    "    #feature_scores = pd.concat({'Feature': columns, 'Score': scores}, axis=1) score_funcs:\n",
    "    print(f.__name__, ':')\n",
    "    best_features = SelectKBest(score_func=f, k=2)\n",
    "    fit = best_features.fit(X_train, y_train)\n",
    "    scores = pd.DataFrame(fit.scores_)\n",
    "    columns = pd.DataFrame(X_train.columns)\n",
    "\n",
    "    feature_scores = pd.concat([columns, scores], axis=1)\n",
    "    feature_scores.columns = ['Feature', 'Score']\n",
    "\n",
    "    best_2 = feature_scores.nlargest(2, 'Score')\n",
    "    print(best_2)\n",
    "    print('')\n",
    "\n",
    "    best_2_features = [a for a in best_2['Feature']]\n",
    "    if best_2_features not in ms_features:\n",
    "        ms_features.append(best_2_features)\n",
    "\n",
    "print('Most correlating pair of features:')\n",
    "print(ms_features)"
   ],
   "metadata": {
    "collapsed": false
   }
  },
  {
   "cell_type": "markdown",
   "source": [
    "## (b) Using Naive Bayes classifier and the most two significant features, predict the Survival of the travellers."
   ],
   "metadata": {
    "collapsed": false
   }
  },
  {
   "cell_type": "code",
   "execution_count": 6,
   "outputs": [],
   "source": [
    "from sklearn.metrics import accuracy_score\n",
    "from sklearn.naive_bayes import GaussianNB\n",
    "from typing import Iterable\n",
    "\n",
    "\n",
    "def bayes_accuracy(X_idx: Iterable[str]):\n",
    "    X = titanic[X_idx]\n",
    "    y = titanic['Survived']\n",
    "\n",
    "    X_train, X_test, y_train, y_test = train_test_split(X, y, test_size=0.25)\n",
    "\n",
    "    clf = GaussianNB()\n",
    "    clf.fit(X_train, y_train)\n",
    "\n",
    "    y_pred = clf.predict(X_test)\n",
    "    accuracy = accuracy_score(y_test, y_pred)\n",
    "\n",
    "    return accuracy"
   ],
   "metadata": {
    "collapsed": false
   }
  },
  {
   "cell_type": "code",
   "execution_count": 7,
   "outputs": [
    {
     "name": "stdout",
     "output_type": "stream",
     "text": [
      "Accuracy of the most correlated features:\n"
     ]
    },
    {
     "data": {
      "text/plain": "                  Features  Accuracy\n0  [Binary Gender, Pclass]  0.783784\n1    [Fare, Binary Gender]  0.756757",
      "text/html": "<div>\n<style scoped>\n    .dataframe tbody tr th:only-of-type {\n        vertical-align: middle;\n    }\n\n    .dataframe tbody tr th {\n        vertical-align: top;\n    }\n\n    .dataframe thead th {\n        text-align: right;\n    }\n</style>\n<table border=\"1\" class=\"dataframe\">\n  <thead>\n    <tr style=\"text-align: right;\">\n      <th></th>\n      <th>Features</th>\n      <th>Accuracy</th>\n    </tr>\n  </thead>\n  <tbody>\n    <tr>\n      <th>0</th>\n      <td>[Binary Gender, Pclass]</td>\n      <td>0.783784</td>\n    </tr>\n    <tr>\n      <th>1</th>\n      <td>[Fare, Binary Gender]</td>\n      <td>0.756757</td>\n    </tr>\n  </tbody>\n</table>\n</div>"
     },
     "execution_count": 7,
     "metadata": {},
     "output_type": "execute_result"
    }
   ],
   "source": [
    "ms_accuracies = pd.DataFrame(\n",
    "    data=map(lambda fest: [fest, bayes_accuracy(X_idx=fest)], ms_features),\n",
    "    columns=['Features', 'Accuracy'],\n",
    ")\n",
    "\n",
    "print('Accuracy of the most correlated features:')\n",
    "ms_accuracies"
   ],
   "metadata": {
    "collapsed": false
   }
  },
  {
   "cell_type": "markdown",
   "source": [
    "## (c) Compare the performance of your model when using all the attributes of the travellers."
   ],
   "metadata": {
    "collapsed": false
   }
  },
  {
   "cell_type": "code",
   "execution_count": 8,
   "outputs": [
    {
     "name": "stdout",
     "output_type": "stream",
     "text": [
      "Accuracy of using all features:\n"
     ]
    },
    {
     "data": {
      "text/plain": "  Features  Accuracy\n0      All  0.824324",
      "text/html": "<div>\n<style scoped>\n    .dataframe tbody tr th:only-of-type {\n        vertical-align: middle;\n    }\n\n    .dataframe tbody tr th {\n        vertical-align: top;\n    }\n\n    .dataframe thead th {\n        text-align: right;\n    }\n</style>\n<table border=\"1\" class=\"dataframe\">\n  <thead>\n    <tr style=\"text-align: right;\">\n      <th></th>\n      <th>Features</th>\n      <th>Accuracy</th>\n    </tr>\n  </thead>\n  <tbody>\n    <tr>\n      <th>0</th>\n      <td>All</td>\n      <td>0.824324</td>\n    </tr>\n  </tbody>\n</table>\n</div>"
     },
     "execution_count": 8,
     "metadata": {},
     "output_type": "execute_result"
    }
   ],
   "source": [
    "all_accuracies = pd.DataFrame(\n",
    "    data=[['All', bayes_accuracy(X_idx=features)]],\n",
    "    columns=['Features', 'Accuracy'],\n",
    ")\n",
    "\n",
    "print('Accuracy of using all features:')\n",
    "all_accuracies"
   ],
   "metadata": {
    "collapsed": false
   }
  }
 ],
 "metadata": {
  "kernelspec": {
   "display_name": "Python 3",
   "language": "python",
   "name": "python3"
  },
  "language_info": {
   "codemirror_mode": {
    "name": "ipython",
    "version": 2
   },
   "file_extension": ".py",
   "mimetype": "text/x-python",
   "name": "python",
   "nbconvert_exporter": "python",
   "pygments_lexer": "ipython2",
   "version": "2.7.6"
  }
 },
 "nbformat": 4,
 "nbformat_minor": 0
}
