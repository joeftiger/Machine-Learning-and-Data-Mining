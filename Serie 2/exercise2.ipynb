{
 "cells": [
  {
   "cell_type": "markdown",
   "source": [
    "# Exercise 2\n",
    "Using your select stock / market index and your decision criterion (binary or ternary) on the daily return of the next day or on the trend (daily return after 5/10 days), can you generate a correlation visualization of volume, and the moving average (with a period of 5, 10, 20, 50 or 200)."
   ],
   "metadata": {
    "collapsed": false
   }
  },
  {
   "cell_type": "code",
   "execution_count": 1,
   "outputs": [
    {
     "data": {
      "text/plain": "                 Open        High        Low       Close    Volume   Adjusted\nDate                                                                         \n2007-01-03  97.180000   98.400002  96.260002   97.269997   9196800  63.127567\n2007-01-04  97.250000   98.790001  96.879997   98.309998  10524500  63.802544\n2007-01-05  97.599998   97.949997  96.910004   97.419998   7221300  63.224930\n2007-01-08  98.500000   99.500000  98.349998   98.900002  10340000  64.185463\n2007-01-09  99.080002  100.330002  99.070000  100.070000  11108200  64.944771",
      "text/html": "<div>\n<style scoped>\n    .dataframe tbody tr th:only-of-type {\n        vertical-align: middle;\n    }\n\n    .dataframe tbody tr th {\n        vertical-align: top;\n    }\n\n    .dataframe thead th {\n        text-align: right;\n    }\n</style>\n<table border=\"1\" class=\"dataframe\">\n  <thead>\n    <tr style=\"text-align: right;\">\n      <th></th>\n      <th>Open</th>\n      <th>High</th>\n      <th>Low</th>\n      <th>Close</th>\n      <th>Volume</th>\n      <th>Adjusted</th>\n    </tr>\n    <tr>\n      <th>Date</th>\n      <th></th>\n      <th></th>\n      <th></th>\n      <th></th>\n      <th></th>\n      <th></th>\n    </tr>\n  </thead>\n  <tbody>\n    <tr>\n      <th>2007-01-03</th>\n      <td>97.180000</td>\n      <td>98.400002</td>\n      <td>96.260002</td>\n      <td>97.269997</td>\n      <td>9196800</td>\n      <td>63.127567</td>\n    </tr>\n    <tr>\n      <th>2007-01-04</th>\n      <td>97.250000</td>\n      <td>98.790001</td>\n      <td>96.879997</td>\n      <td>98.309998</td>\n      <td>10524500</td>\n      <td>63.802544</td>\n    </tr>\n    <tr>\n      <th>2007-01-05</th>\n      <td>97.599998</td>\n      <td>97.949997</td>\n      <td>96.910004</td>\n      <td>97.419998</td>\n      <td>7221300</td>\n      <td>63.224930</td>\n    </tr>\n    <tr>\n      <th>2007-01-08</th>\n      <td>98.500000</td>\n      <td>99.500000</td>\n      <td>98.349998</td>\n      <td>98.900002</td>\n      <td>10340000</td>\n      <td>64.185463</td>\n    </tr>\n    <tr>\n      <th>2007-01-09</th>\n      <td>99.080002</td>\n      <td>100.330002</td>\n      <td>99.070000</td>\n      <td>100.070000</td>\n      <td>11108200</td>\n      <td>64.944771</td>\n    </tr>\n  </tbody>\n</table>\n</div>"
     },
     "execution_count": 1,
     "metadata": {},
     "output_type": "execute_result"
    }
   ],
   "source": [
    "import pandas as pd\n",
    "\n",
    "pd.set_option('display.max_colwidth', None)\n",
    "IBM = pd.read_csv('../Data/IBM.txt.zst', delimiter=' ', index_col='Date')\n",
    "IBM.head(5)"
   ],
   "metadata": {
    "collapsed": false
   }
  },
  {
   "cell_type": "code",
   "execution_count": 2,
   "outputs": [
    {
     "data": {
      "text/plain": "              Open         High          Low        Close        Volume  \\\ncount  3692.000000  3692.000000  3692.000000  3692.000000  3.692000e+03   \nmean    147.198976   148.403180   146.074512   147.269085  5.576247e+06   \nstd      30.808862    30.780935    30.844083    30.796603  3.229710e+06   \nmin      72.739998    76.980003    69.500000    71.739998  1.027500e+06   \n25%     124.189999   125.349998   123.072502   124.332496  3.482300e+06   \n50%     144.750000   145.619995   143.830002   144.730003  4.653750e+06   \n75%     168.847500   170.442501   167.659996   169.169998  6.660725e+06   \nmax     215.380005   215.899994   214.300003   215.800003  3.806350e+07   \n\n          Adjusted  \ncount  3692.000000  \nmean    113.375997  \nstd      25.410689  \nmin      48.040176  \n25%      90.296511  \n50%     120.980629  \n75%     132.155647  \nmax     155.979538  ",
      "text/html": "<div>\n<style scoped>\n    .dataframe tbody tr th:only-of-type {\n        vertical-align: middle;\n    }\n\n    .dataframe tbody tr th {\n        vertical-align: top;\n    }\n\n    .dataframe thead th {\n        text-align: right;\n    }\n</style>\n<table border=\"1\" class=\"dataframe\">\n  <thead>\n    <tr style=\"text-align: right;\">\n      <th></th>\n      <th>Open</th>\n      <th>High</th>\n      <th>Low</th>\n      <th>Close</th>\n      <th>Volume</th>\n      <th>Adjusted</th>\n    </tr>\n  </thead>\n  <tbody>\n    <tr>\n      <th>count</th>\n      <td>3692.000000</td>\n      <td>3692.000000</td>\n      <td>3692.000000</td>\n      <td>3692.000000</td>\n      <td>3.692000e+03</td>\n      <td>3692.000000</td>\n    </tr>\n    <tr>\n      <th>mean</th>\n      <td>147.198976</td>\n      <td>148.403180</td>\n      <td>146.074512</td>\n      <td>147.269085</td>\n      <td>5.576247e+06</td>\n      <td>113.375997</td>\n    </tr>\n    <tr>\n      <th>std</th>\n      <td>30.808862</td>\n      <td>30.780935</td>\n      <td>30.844083</td>\n      <td>30.796603</td>\n      <td>3.229710e+06</td>\n      <td>25.410689</td>\n    </tr>\n    <tr>\n      <th>min</th>\n      <td>72.739998</td>\n      <td>76.980003</td>\n      <td>69.500000</td>\n      <td>71.739998</td>\n      <td>1.027500e+06</td>\n      <td>48.040176</td>\n    </tr>\n    <tr>\n      <th>25%</th>\n      <td>124.189999</td>\n      <td>125.349998</td>\n      <td>123.072502</td>\n      <td>124.332496</td>\n      <td>3.482300e+06</td>\n      <td>90.296511</td>\n    </tr>\n    <tr>\n      <th>50%</th>\n      <td>144.750000</td>\n      <td>145.619995</td>\n      <td>143.830002</td>\n      <td>144.730003</td>\n      <td>4.653750e+06</td>\n      <td>120.980629</td>\n    </tr>\n    <tr>\n      <th>75%</th>\n      <td>168.847500</td>\n      <td>170.442501</td>\n      <td>167.659996</td>\n      <td>169.169998</td>\n      <td>6.660725e+06</td>\n      <td>132.155647</td>\n    </tr>\n    <tr>\n      <th>max</th>\n      <td>215.380005</td>\n      <td>215.899994</td>\n      <td>214.300003</td>\n      <td>215.800003</td>\n      <td>3.806350e+07</td>\n      <td>155.979538</td>\n    </tr>\n  </tbody>\n</table>\n</div>"
     },
     "execution_count": 2,
     "metadata": {},
     "output_type": "execute_result"
    }
   ],
   "source": [
    "IBM.describe(include='all', datetime_is_numeric=True)"
   ],
   "metadata": {
    "collapsed": false
   }
  },
  {
   "cell_type": "markdown",
   "source": [
    "First we compute the `Daily Returns` as according to the formular:\n",
    "$r_{t+1} = \\frac{p_{t+1} - p_t}{p_t}$"
   ],
   "metadata": {
    "collapsed": false
   }
  },
  {
   "cell_type": "code",
   "execution_count": null,
   "outputs": [],
   "source": [
    "import numpy as np\n",
    "import matplotlib.pyplot as plt\n",
    "\n",
    "daily_returns = np.empty(IBM['Close'].shape)\n",
    "daily_returns[0] = float('NaN')\n",
    "daily_returns[1:] = np.ediff1d(IBM['Close']) / IBM['Close'][:-1]\n",
    "IBM['Daily Returns'] = daily_returns\n",
    "\n",
    "num_bins = int(len(daily_returns) / 32)\n",
    "plt.hist(daily_returns, bins=num_bins)\n",
    "plt.show()"
   ],
   "metadata": {
    "collapsed": false,
    "pycharm": {
     "is_executing": true
    }
   }
  },
  {
   "cell_type": "markdown",
   "source": [
    "Next we compute the `Binary Decision` (up/down) and the `Ternary decision` (up/flat/down)."
   ],
   "metadata": {
    "collapsed": false
   }
  },
  {
   "cell_type": "code",
   "execution_count": null,
   "outputs": [],
   "source": [
    "binary_decision = (daily_returns > 0).astype(int)\n",
    "IBM['Binary Decision'] = binary_decision\n",
    "\n",
    "CUTOFF = 0.005\n",
    "ternary_decision = np.full(shape=daily_returns.shape, fill_value=1)\n",
    "ternary_decision[np.where(daily_returns > CUTOFF)] = 2\n",
    "ternary_decision[np.where(daily_returns < CUTOFF)] = 0\n",
    "IBM['Ternary Decision'] = ternary_decision"
   ],
   "metadata": {
    "collapsed": false,
    "pycharm": {
     "is_executing": true
    }
   }
  },
  {
   "cell_type": "markdown",
   "source": [
    "And we compute the simple moving average (SMA)."
   ],
   "metadata": {
    "collapsed": false
   }
  },
  {
   "cell_type": "code",
   "execution_count": null,
   "outputs": [],
   "source": [
    "sma_features = []\n",
    "for period in [5, 10, 20, 50, 200]:\n",
    "    label = 'SMA-{}'.format(period)\n",
    "    sma_features.append(label)\n",
    "\n",
    "    IBM[label] = IBM['Close'].rolling(period).mean()\n",
    "    IBM[['Close', label]].plot(label=label, figsize=(9, 3), xlabel='days', ylabel='price')"
   ],
   "metadata": {
    "collapsed": false,
    "pycharm": {
     "is_executing": true
    }
   }
  },
  {
   "cell_type": "markdown",
   "source": [
    "We replace all `NaN` with `0`."
   ],
   "metadata": {
    "collapsed": false
   }
  },
  {
   "cell_type": "code",
   "execution_count": null,
   "outputs": [],
   "source": [
    "IBM.fillna(0, inplace=True)\n",
    "IBM.tail(5)"
   ],
   "metadata": {
    "collapsed": false,
    "pycharm": {
     "is_executing": true
    }
   }
  },
  {
   "cell_type": "markdown",
   "source": [
    "## (a) Select the two features that have the most significant correlation to the target feature, daily return.\n",
    "We use the `Ternary Decision`."
   ],
   "metadata": {
    "collapsed": false
   }
  },
  {
   "cell_type": "code",
   "execution_count": null,
   "outputs": [],
   "source": [
    "all_features = ['Ternary Decision', 'Volume'] + sma_features\n",
    "correlation = IBM[all_features].corr()['Ternary Decision'].abs().sort_values(ascending=False)\n",
    "del correlation['Ternary Decision']\n",
    "correlation"
   ],
   "metadata": {
    "collapsed": false,
    "pycharm": {
     "is_executing": true
    }
   }
  },
  {
   "cell_type": "markdown",
   "source": [
    "The two most correlating features are:"
   ],
   "metadata": {
    "collapsed": false
   }
  },
  {
   "cell_type": "code",
   "execution_count": null,
   "outputs": [],
   "source": [
    "ms_features = list(correlation.index[0:2])\n",
    "ms_features"
   ],
   "metadata": {
    "collapsed": false,
    "pycharm": {
     "is_executing": true
    }
   }
  },
  {
   "cell_type": "markdown",
   "source": [
    "## (b) Using Naive Bayes classifier and the most two significant features predict daily return.\n",
    "You can learn on all days except the last 100 (that will be used as the test set)."
   ],
   "metadata": {
    "collapsed": false
   }
  },
  {
   "cell_type": "code",
   "execution_count": null,
   "outputs": [],
   "source": [
    "from sklearn.metrics import accuracy_score\n",
    "from sklearn.model_selection import train_test_split\n",
    "from sklearn.naive_bayes import GaussianNB\n",
    "\n",
    "\n",
    "def bayes_accuracy(X_idx):\n",
    "    X = IBM[X_idx]\n",
    "    y = IBM['Ternary Decision']\n",
    "\n",
    "    X_train, X_test, y_train, y_test = train_test_split(X, y, test_size=100 / IBM.shape[0], random_state=224)\n",
    "\n",
    "    clf = GaussianNB()\n",
    "    clf.fit(X_train, y_train)\n",
    "\n",
    "    y_pred = clf.predict(X_test)\n",
    "    accuracy = accuracy_score(y_test, y_pred)\n",
    "\n",
    "    return accuracy"
   ],
   "metadata": {
    "collapsed": false,
    "pycharm": {
     "is_executing": true
    }
   }
  },
  {
   "cell_type": "code",
   "execution_count": null,
   "outputs": [],
   "source": [
    "ms_accuracies = pd.DataFrame(\n",
    "    data=[[ms_features, bayes_accuracy(ms_features)]],\n",
    "    columns=['Features', 'Accuracy'],\n",
    ")\n",
    "\n",
    "print('Accuracy of the most correlating features:')\n",
    "ms_accuracies"
   ],
   "metadata": {
    "collapsed": false,
    "pycharm": {
     "is_executing": true
    }
   }
  },
  {
   "cell_type": "code",
   "execution_count": null,
   "outputs": [],
   "source": [
    "all_accuracies = pd.DataFrame(\n",
    "    data=[['All', bayes_accuracy(X_idx=all_features)]],\n",
    "    columns=['Features', 'Accuracy'],\n",
    ")\n",
    "\n",
    "print('Accuracy of using all features:')\n",
    "all_accuracies"
   ],
   "metadata": {
    "collapsed": false,
    "pycharm": {
     "is_executing": true
    }
   }
  }
 ],
 "metadata": {
  "kernelspec": {
   "display_name": "Python 3",
   "language": "python",
   "name": "python3"
  },
  "language_info": {
   "codemirror_mode": {
    "name": "ipython",
    "version": 2
   },
   "file_extension": ".py",
   "mimetype": "text/x-python",
   "name": "python",
   "nbconvert_exporter": "python",
   "pygments_lexer": "ipython2",
   "version": "2.7.6"
  }
 },
 "nbformat": 4,
 "nbformat_minor": 0
}
