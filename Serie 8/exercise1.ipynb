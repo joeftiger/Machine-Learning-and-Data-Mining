{
 "cells": [
  {
   "cell_type": "markdown",
   "source": [
    "# Exercise 1\n",
    "\n",
    "Take the `titanic` dataset and use all attributes to predict the class `Survived` (convert age and fare into classes ; exclude names from the attribute list)\n",
    "Build a Support vector machines (SVM) model with:\n",
    "1. Linear kernel\n",
    "2. Polynomial kernel\n",
    "3. radial basis function (RBF) kernel\n",
    "4. sigmoid kernel"
   ],
   "metadata": {
    "collapsed": false
   }
  },
  {
   "cell_type": "code",
   "execution_count": 1,
   "outputs": [
    {
     "data": {
      "text/plain": "                                                    Survived  Pclass     Sex  \\\nName                                                                           \nMr. Owen Harris Braund                                     0       3    male   \nMrs. John Bradley (Florence Briggs Thayer) Cumings         1       1  female   \nMiss. Laina Heikkinen                                      1       3  female   \nMrs. Jacques Heath (Lily May Peel) Futrelle                1       1  female   \nMr. William Henry Allen                                    0       3    male   \n\n                                                     Age  \\\nName                                                       \nMr. Owen Harris Braund                              22.0   \nMrs. John Bradley (Florence Briggs Thayer) Cumings  38.0   \nMiss. Laina Heikkinen                               26.0   \nMrs. Jacques Heath (Lily May Peel) Futrelle         35.0   \nMr. William Henry Allen                             35.0   \n\n                                                    Siblings/Spouses Aboard  \\\nName                                                                          \nMr. Owen Harris Braund                                                    1   \nMrs. John Bradley (Florence Briggs Thayer) Cumings                        1   \nMiss. Laina Heikkinen                                                     0   \nMrs. Jacques Heath (Lily May Peel) Futrelle                               1   \nMr. William Henry Allen                                                   0   \n\n                                                    Parents/Children Aboard  \\\nName                                                                          \nMr. Owen Harris Braund                                                    0   \nMrs. John Bradley (Florence Briggs Thayer) Cumings                        0   \nMiss. Laina Heikkinen                                                     0   \nMrs. Jacques Heath (Lily May Peel) Futrelle                               0   \nMr. William Henry Allen                                                   0   \n\n                                                       Fare      Age Group  \\\nName                                                                         \nMr. Owen Harris Braund                               7.2500  (20.25, 28.0]   \nMrs. John Bradley (Florence Briggs Thayer) Cumings  71.2833   (28.0, 38.0]   \nMiss. Laina Heikkinen                                7.9250  (20.25, 28.0]   \nMrs. Jacques Heath (Lily May Peel) Futrelle         53.1000   (28.0, 38.0]   \nMr. William Henry Allen                              8.0500   (28.0, 38.0]   \n\n                                                           Fare Group  \nName                                                                   \nMr. Owen Harris Braund                                (-0.001, 7.925]  \nMrs. John Bradley (Florence Briggs Thayer) Cumings  (31.138, 512.329]  \nMiss. Laina Heikkinen                                 (-0.001, 7.925]  \nMrs. Jacques Heath (Lily May Peel) Futrelle         (31.138, 512.329]  \nMr. William Henry Allen                               (7.925, 14.454]  ",
      "text/html": "<div>\n<style scoped>\n    .dataframe tbody tr th:only-of-type {\n        vertical-align: middle;\n    }\n\n    .dataframe tbody tr th {\n        vertical-align: top;\n    }\n\n    .dataframe thead th {\n        text-align: right;\n    }\n</style>\n<table border=\"1\" class=\"dataframe\">\n  <thead>\n    <tr style=\"text-align: right;\">\n      <th></th>\n      <th>Survived</th>\n      <th>Pclass</th>\n      <th>Sex</th>\n      <th>Age</th>\n      <th>Siblings/Spouses Aboard</th>\n      <th>Parents/Children Aboard</th>\n      <th>Fare</th>\n      <th>Age Group</th>\n      <th>Fare Group</th>\n    </tr>\n    <tr>\n      <th>Name</th>\n      <th></th>\n      <th></th>\n      <th></th>\n      <th></th>\n      <th></th>\n      <th></th>\n      <th></th>\n      <th></th>\n      <th></th>\n    </tr>\n  </thead>\n  <tbody>\n    <tr>\n      <th>Mr. Owen Harris Braund</th>\n      <td>0</td>\n      <td>3</td>\n      <td>male</td>\n      <td>22.0</td>\n      <td>1</td>\n      <td>0</td>\n      <td>7.2500</td>\n      <td>(20.25, 28.0]</td>\n      <td>(-0.001, 7.925]</td>\n    </tr>\n    <tr>\n      <th>Mrs. John Bradley (Florence Briggs Thayer) Cumings</th>\n      <td>1</td>\n      <td>1</td>\n      <td>female</td>\n      <td>38.0</td>\n      <td>1</td>\n      <td>0</td>\n      <td>71.2833</td>\n      <td>(28.0, 38.0]</td>\n      <td>(31.138, 512.329]</td>\n    </tr>\n    <tr>\n      <th>Miss. Laina Heikkinen</th>\n      <td>1</td>\n      <td>3</td>\n      <td>female</td>\n      <td>26.0</td>\n      <td>0</td>\n      <td>0</td>\n      <td>7.9250</td>\n      <td>(20.25, 28.0]</td>\n      <td>(-0.001, 7.925]</td>\n    </tr>\n    <tr>\n      <th>Mrs. Jacques Heath (Lily May Peel) Futrelle</th>\n      <td>1</td>\n      <td>1</td>\n      <td>female</td>\n      <td>35.0</td>\n      <td>1</td>\n      <td>0</td>\n      <td>53.1000</td>\n      <td>(28.0, 38.0]</td>\n      <td>(31.138, 512.329]</td>\n    </tr>\n    <tr>\n      <th>Mr. William Henry Allen</th>\n      <td>0</td>\n      <td>3</td>\n      <td>male</td>\n      <td>35.0</td>\n      <td>0</td>\n      <td>0</td>\n      <td>8.0500</td>\n      <td>(28.0, 38.0]</td>\n      <td>(7.925, 14.454]</td>\n    </tr>\n  </tbody>\n</table>\n</div>"
     },
     "execution_count": 1,
     "metadata": {},
     "output_type": "execute_result"
    }
   ],
   "source": [
    "import pandas as pd\n",
    "\n",
    "pd.set_option('display.max_colwidth', None)\n",
    "titanic = pd.read_csv('../Data/titanic.csv.zst', index_col='Name')\n",
    "\n",
    "titanic['Age Group'] = pd.qcut(x=titanic['Age'], q=4)\n",
    "titanic['Fare Group'] = pd.qcut(x=titanic['Fare'], q=4)\n",
    "\n",
    "titanic.head(5)"
   ],
   "metadata": {
    "collapsed": false
   }
  },
  {
   "cell_type": "code",
   "execution_count": 2,
   "outputs": [
    {
     "data": {
      "text/plain": "          Survived      Pclass   Sex         Age  Siblings/Spouses Aboard  \\\ncount   887.000000  887.000000   887  887.000000               887.000000   \nunique         NaN         NaN     2         NaN                      NaN   \ntop            NaN         NaN  male         NaN                      NaN   \nfreq           NaN         NaN   573         NaN                      NaN   \nmean      0.385569    2.305524   NaN   29.471443                 0.525366   \nstd       0.487004    0.836662   NaN   14.121908                 1.104669   \nmin       0.000000    1.000000   NaN    0.420000                 0.000000   \n25%       0.000000    2.000000   NaN   20.250000                 0.000000   \n50%       0.000000    3.000000   NaN   28.000000                 0.000000   \n75%       1.000000    3.000000   NaN   38.000000                 1.000000   \nmax       1.000000    3.000000   NaN   80.000000                 8.000000   \n\n        Parents/Children Aboard       Fare      Age Group       Fare Group  \ncount                887.000000  887.00000            887              887  \nunique                      NaN        NaN              4                4  \ntop                         NaN        NaN  (20.25, 28.0]  (-0.001, 7.925]  \nfreq                        NaN        NaN            243              238  \nmean                   0.383315   32.30542            NaN              NaN  \nstd                    0.807466   49.78204            NaN              NaN  \nmin                    0.000000    0.00000            NaN              NaN  \n25%                    0.000000    7.92500            NaN              NaN  \n50%                    0.000000   14.45420            NaN              NaN  \n75%                    0.000000   31.13750            NaN              NaN  \nmax                    6.000000  512.32920            NaN              NaN  ",
      "text/html": "<div>\n<style scoped>\n    .dataframe tbody tr th:only-of-type {\n        vertical-align: middle;\n    }\n\n    .dataframe tbody tr th {\n        vertical-align: top;\n    }\n\n    .dataframe thead th {\n        text-align: right;\n    }\n</style>\n<table border=\"1\" class=\"dataframe\">\n  <thead>\n    <tr style=\"text-align: right;\">\n      <th></th>\n      <th>Survived</th>\n      <th>Pclass</th>\n      <th>Sex</th>\n      <th>Age</th>\n      <th>Siblings/Spouses Aboard</th>\n      <th>Parents/Children Aboard</th>\n      <th>Fare</th>\n      <th>Age Group</th>\n      <th>Fare Group</th>\n    </tr>\n  </thead>\n  <tbody>\n    <tr>\n      <th>count</th>\n      <td>887.000000</td>\n      <td>887.000000</td>\n      <td>887</td>\n      <td>887.000000</td>\n      <td>887.000000</td>\n      <td>887.000000</td>\n      <td>887.00000</td>\n      <td>887</td>\n      <td>887</td>\n    </tr>\n    <tr>\n      <th>unique</th>\n      <td>NaN</td>\n      <td>NaN</td>\n      <td>2</td>\n      <td>NaN</td>\n      <td>NaN</td>\n      <td>NaN</td>\n      <td>NaN</td>\n      <td>4</td>\n      <td>4</td>\n    </tr>\n    <tr>\n      <th>top</th>\n      <td>NaN</td>\n      <td>NaN</td>\n      <td>male</td>\n      <td>NaN</td>\n      <td>NaN</td>\n      <td>NaN</td>\n      <td>NaN</td>\n      <td>(20.25, 28.0]</td>\n      <td>(-0.001, 7.925]</td>\n    </tr>\n    <tr>\n      <th>freq</th>\n      <td>NaN</td>\n      <td>NaN</td>\n      <td>573</td>\n      <td>NaN</td>\n      <td>NaN</td>\n      <td>NaN</td>\n      <td>NaN</td>\n      <td>243</td>\n      <td>238</td>\n    </tr>\n    <tr>\n      <th>mean</th>\n      <td>0.385569</td>\n      <td>2.305524</td>\n      <td>NaN</td>\n      <td>29.471443</td>\n      <td>0.525366</td>\n      <td>0.383315</td>\n      <td>32.30542</td>\n      <td>NaN</td>\n      <td>NaN</td>\n    </tr>\n    <tr>\n      <th>std</th>\n      <td>0.487004</td>\n      <td>0.836662</td>\n      <td>NaN</td>\n      <td>14.121908</td>\n      <td>1.104669</td>\n      <td>0.807466</td>\n      <td>49.78204</td>\n      <td>NaN</td>\n      <td>NaN</td>\n    </tr>\n    <tr>\n      <th>min</th>\n      <td>0.000000</td>\n      <td>1.000000</td>\n      <td>NaN</td>\n      <td>0.420000</td>\n      <td>0.000000</td>\n      <td>0.000000</td>\n      <td>0.00000</td>\n      <td>NaN</td>\n      <td>NaN</td>\n    </tr>\n    <tr>\n      <th>25%</th>\n      <td>0.000000</td>\n      <td>2.000000</td>\n      <td>NaN</td>\n      <td>20.250000</td>\n      <td>0.000000</td>\n      <td>0.000000</td>\n      <td>7.92500</td>\n      <td>NaN</td>\n      <td>NaN</td>\n    </tr>\n    <tr>\n      <th>50%</th>\n      <td>0.000000</td>\n      <td>3.000000</td>\n      <td>NaN</td>\n      <td>28.000000</td>\n      <td>0.000000</td>\n      <td>0.000000</td>\n      <td>14.45420</td>\n      <td>NaN</td>\n      <td>NaN</td>\n    </tr>\n    <tr>\n      <th>75%</th>\n      <td>1.000000</td>\n      <td>3.000000</td>\n      <td>NaN</td>\n      <td>38.000000</td>\n      <td>1.000000</td>\n      <td>0.000000</td>\n      <td>31.13750</td>\n      <td>NaN</td>\n      <td>NaN</td>\n    </tr>\n    <tr>\n      <th>max</th>\n      <td>1.000000</td>\n      <td>3.000000</td>\n      <td>NaN</td>\n      <td>80.000000</td>\n      <td>8.000000</td>\n      <td>6.000000</td>\n      <td>512.32920</td>\n      <td>NaN</td>\n      <td>NaN</td>\n    </tr>\n  </tbody>\n</table>\n</div>"
     },
     "execution_count": 2,
     "metadata": {},
     "output_type": "execute_result"
    }
   ],
   "source": [
    "titanic.describe(include='all')"
   ],
   "metadata": {
    "collapsed": false
   }
  },
  {
   "cell_type": "code",
   "execution_count": 3,
   "outputs": [
    {
     "data": {
      "text/plain": "                                                    Survived  Pclass  Sex  \\\nName                                                                        \nMr. Owen Harris Braund                                     0       3    1   \nMrs. John Bradley (Florence Briggs Thayer) Cumings         1       1    0   \nMiss. Laina Heikkinen                                      1       3    0   \nMrs. Jacques Heath (Lily May Peel) Futrelle                1       1    0   \nMr. William Henry Allen                                    0       3    1   \n\n                                                     Age  \\\nName                                                       \nMr. Owen Harris Braund                              22.0   \nMrs. John Bradley (Florence Briggs Thayer) Cumings  38.0   \nMiss. Laina Heikkinen                               26.0   \nMrs. Jacques Heath (Lily May Peel) Futrelle         35.0   \nMr. William Henry Allen                             35.0   \n\n                                                    Siblings/Spouses Aboard  \\\nName                                                                          \nMr. Owen Harris Braund                                                    1   \nMrs. John Bradley (Florence Briggs Thayer) Cumings                        1   \nMiss. Laina Heikkinen                                                     0   \nMrs. Jacques Heath (Lily May Peel) Futrelle                               1   \nMr. William Henry Allen                                                   0   \n\n                                                    Parents/Children Aboard  \\\nName                                                                          \nMr. Owen Harris Braund                                                    0   \nMrs. John Bradley (Florence Briggs Thayer) Cumings                        0   \nMiss. Laina Heikkinen                                                     0   \nMrs. Jacques Heath (Lily May Peel) Futrelle                               0   \nMr. William Henry Allen                                                   0   \n\n                                                       Fare  Age Group  \\\nName                                                                     \nMr. Owen Harris Braund                               7.2500          1   \nMrs. John Bradley (Florence Briggs Thayer) Cumings  71.2833          2   \nMiss. Laina Heikkinen                                7.9250          1   \nMrs. Jacques Heath (Lily May Peel) Futrelle         53.1000          2   \nMr. William Henry Allen                              8.0500          2   \n\n                                                    Fare Group  \nName                                                            \nMr. Owen Harris Braund                                       0  \nMrs. John Bradley (Florence Briggs Thayer) Cumings           3  \nMiss. Laina Heikkinen                                        0  \nMrs. Jacques Heath (Lily May Peel) Futrelle                  3  \nMr. William Henry Allen                                      1  ",
      "text/html": "<div>\n<style scoped>\n    .dataframe tbody tr th:only-of-type {\n        vertical-align: middle;\n    }\n\n    .dataframe tbody tr th {\n        vertical-align: top;\n    }\n\n    .dataframe thead th {\n        text-align: right;\n    }\n</style>\n<table border=\"1\" class=\"dataframe\">\n  <thead>\n    <tr style=\"text-align: right;\">\n      <th></th>\n      <th>Survived</th>\n      <th>Pclass</th>\n      <th>Sex</th>\n      <th>Age</th>\n      <th>Siblings/Spouses Aboard</th>\n      <th>Parents/Children Aboard</th>\n      <th>Fare</th>\n      <th>Age Group</th>\n      <th>Fare Group</th>\n    </tr>\n    <tr>\n      <th>Name</th>\n      <th></th>\n      <th></th>\n      <th></th>\n      <th></th>\n      <th></th>\n      <th></th>\n      <th></th>\n      <th></th>\n      <th></th>\n    </tr>\n  </thead>\n  <tbody>\n    <tr>\n      <th>Mr. Owen Harris Braund</th>\n      <td>0</td>\n      <td>3</td>\n      <td>1</td>\n      <td>22.0</td>\n      <td>1</td>\n      <td>0</td>\n      <td>7.2500</td>\n      <td>1</td>\n      <td>0</td>\n    </tr>\n    <tr>\n      <th>Mrs. John Bradley (Florence Briggs Thayer) Cumings</th>\n      <td>1</td>\n      <td>1</td>\n      <td>0</td>\n      <td>38.0</td>\n      <td>1</td>\n      <td>0</td>\n      <td>71.2833</td>\n      <td>2</td>\n      <td>3</td>\n    </tr>\n    <tr>\n      <th>Miss. Laina Heikkinen</th>\n      <td>1</td>\n      <td>3</td>\n      <td>0</td>\n      <td>26.0</td>\n      <td>0</td>\n      <td>0</td>\n      <td>7.9250</td>\n      <td>1</td>\n      <td>0</td>\n    </tr>\n    <tr>\n      <th>Mrs. Jacques Heath (Lily May Peel) Futrelle</th>\n      <td>1</td>\n      <td>1</td>\n      <td>0</td>\n      <td>35.0</td>\n      <td>1</td>\n      <td>0</td>\n      <td>53.1000</td>\n      <td>2</td>\n      <td>3</td>\n    </tr>\n    <tr>\n      <th>Mr. William Henry Allen</th>\n      <td>0</td>\n      <td>3</td>\n      <td>1</td>\n      <td>35.0</td>\n      <td>0</td>\n      <td>0</td>\n      <td>8.0500</td>\n      <td>2</td>\n      <td>1</td>\n    </tr>\n  </tbody>\n</table>\n</div>"
     },
     "execution_count": 3,
     "metadata": {},
     "output_type": "execute_result"
    }
   ],
   "source": [
    "from sklearn import preprocessing\n",
    "\n",
    "for col in ['Sex', 'Age Group', 'Fare Group']:\n",
    "    le = preprocessing.LabelEncoder()\n",
    "    titanic[col] = le.fit_transform(titanic[col])\n",
    "\n",
    "titanic.head(5)"
   ],
   "metadata": {
    "collapsed": false
   }
  },
  {
   "cell_type": "markdown",
   "source": [
    "Some preliminary definitions to use later."
   ],
   "metadata": {
    "collapsed": false
   }
  },
  {
   "cell_type": "code",
   "execution_count": 4,
   "outputs": [],
   "source": [
    "all_features = ['Pclass', 'Sex', 'Siblings/Spouses Aboard', 'Parents/Children Aboard', 'Age Group', 'Fare Group']"
   ],
   "metadata": {
    "collapsed": false
   }
  },
  {
   "cell_type": "code",
   "execution_count": 5,
   "outputs": [],
   "source": [
    "import numpy as np\n",
    "from sklearn.svm import SVC\n",
    "from util import kfold_eval\n",
    "\n",
    "\n",
    "def svm_performance(kernel: str = 'linear', degree: int = 3, k: int = 5) -> (np.array, np.array, np.array, np.array):\n",
    "    \"\"\"\n",
    "    Performs a k-fold cross-validation on an SVM with the specified kernel.\n",
    "\n",
    "    :param kernel: The model to evaluate\n",
    "    :param degree: The degree for the polynomial kernel. Is ignored by all other kernels.\n",
    "    :param k: how many folds to perform\n",
    "\n",
    "    :return: accuracy, precision, recall, f1\n",
    "    \"\"\"\n",
    "    X = titanic[all_features]\n",
    "    y = titanic['Survived']\n",
    "\n",
    "    svm = SVC(kernel=kernel, degree=degree)\n",
    "    return kfold_eval(model=svm, X=X, y=y, k=k)"
   ],
   "metadata": {
    "collapsed": false
   }
  },
  {
   "cell_type": "markdown",
   "source": [
    "## Show the Comparison of the Performance of the Kernels"
   ],
   "metadata": {
    "collapsed": false
   }
  },
  {
   "cell_type": "code",
   "execution_count": null,
   "outputs": [
    {
     "name": "stdout",
     "output_type": "stream",
     "text": [
      "Linear SVM Kernel:\n"
     ]
    },
    {
     "data": {
      "text/plain": "      Accuracy  Precision    Recall  F1-Score\nFold                                         \n1     0.814607   0.745763  0.709677  0.727273\n2     0.792135   0.721519  0.791667  0.754967\n3     0.785311   0.700000  0.742424  0.720588\n4     0.734463   0.563380  0.714286  0.629921\n5     0.802260   0.682540  0.741379  0.710744",
      "text/html": "<div>\n<style scoped>\n    .dataframe tbody tr th:only-of-type {\n        vertical-align: middle;\n    }\n\n    .dataframe tbody tr th {\n        vertical-align: top;\n    }\n\n    .dataframe thead th {\n        text-align: right;\n    }\n</style>\n<table border=\"1\" class=\"dataframe\">\n  <thead>\n    <tr style=\"text-align: right;\">\n      <th></th>\n      <th>Accuracy</th>\n      <th>Precision</th>\n      <th>Recall</th>\n      <th>F1-Score</th>\n    </tr>\n    <tr>\n      <th>Fold</th>\n      <th></th>\n      <th></th>\n      <th></th>\n      <th></th>\n    </tr>\n  </thead>\n  <tbody>\n    <tr>\n      <th>1</th>\n      <td>0.814607</td>\n      <td>0.745763</td>\n      <td>0.709677</td>\n      <td>0.727273</td>\n    </tr>\n    <tr>\n      <th>2</th>\n      <td>0.792135</td>\n      <td>0.721519</td>\n      <td>0.791667</td>\n      <td>0.754967</td>\n    </tr>\n    <tr>\n      <th>3</th>\n      <td>0.785311</td>\n      <td>0.700000</td>\n      <td>0.742424</td>\n      <td>0.720588</td>\n    </tr>\n    <tr>\n      <th>4</th>\n      <td>0.734463</td>\n      <td>0.563380</td>\n      <td>0.714286</td>\n      <td>0.629921</td>\n    </tr>\n    <tr>\n      <th>5</th>\n      <td>0.802260</td>\n      <td>0.682540</td>\n      <td>0.741379</td>\n      <td>0.710744</td>\n    </tr>\n  </tbody>\n</table>\n</div>"
     },
     "metadata": {},
     "output_type": "display_data"
    },
    {
     "name": "stdout",
     "output_type": "stream",
     "text": [
      "Poly SVM Kernel:\n"
     ]
    },
    {
     "data": {
      "text/plain": "      Accuracy  Precision    Recall  F1-Score\nFold                                         \n1     0.831461   0.779661  0.730159  0.754098\n2     0.808989   0.721519  0.826087  0.770270\n3     0.790960   0.700000  0.753846  0.725926\n4     0.768362   0.577465  0.788462  0.666667\n5     0.836158   0.746032  0.783333  0.764228",
      "text/html": "<div>\n<style scoped>\n    .dataframe tbody tr th:only-of-type {\n        vertical-align: middle;\n    }\n\n    .dataframe tbody tr th {\n        vertical-align: top;\n    }\n\n    .dataframe thead th {\n        text-align: right;\n    }\n</style>\n<table border=\"1\" class=\"dataframe\">\n  <thead>\n    <tr style=\"text-align: right;\">\n      <th></th>\n      <th>Accuracy</th>\n      <th>Precision</th>\n      <th>Recall</th>\n      <th>F1-Score</th>\n    </tr>\n    <tr>\n      <th>Fold</th>\n      <th></th>\n      <th></th>\n      <th></th>\n      <th></th>\n    </tr>\n  </thead>\n  <tbody>\n    <tr>\n      <th>1</th>\n      <td>0.831461</td>\n      <td>0.779661</td>\n      <td>0.730159</td>\n      <td>0.754098</td>\n    </tr>\n    <tr>\n      <th>2</th>\n      <td>0.808989</td>\n      <td>0.721519</td>\n      <td>0.826087</td>\n      <td>0.770270</td>\n    </tr>\n    <tr>\n      <th>3</th>\n      <td>0.790960</td>\n      <td>0.700000</td>\n      <td>0.753846</td>\n      <td>0.725926</td>\n    </tr>\n    <tr>\n      <th>4</th>\n      <td>0.768362</td>\n      <td>0.577465</td>\n      <td>0.788462</td>\n      <td>0.666667</td>\n    </tr>\n    <tr>\n      <th>5</th>\n      <td>0.836158</td>\n      <td>0.746032</td>\n      <td>0.783333</td>\n      <td>0.764228</td>\n    </tr>\n  </tbody>\n</table>\n</div>"
     },
     "metadata": {},
     "output_type": "display_data"
    },
    {
     "name": "stdout",
     "output_type": "stream",
     "text": [
      "Rbf SVM Kernel:\n"
     ]
    },
    {
     "data": {
      "text/plain": "      Accuracy  Precision    Recall  F1-Score\nFold                                         \n1     0.820225   0.762712  0.714286  0.737705\n2     0.814607   0.734177  0.828571  0.778523\n3     0.819209   0.728571  0.796875  0.761194\n4     0.785311   0.577465  0.836735  0.683333\n5     0.853107   0.746032  0.824561  0.783333",
      "text/html": "<div>\n<style scoped>\n    .dataframe tbody tr th:only-of-type {\n        vertical-align: middle;\n    }\n\n    .dataframe tbody tr th {\n        vertical-align: top;\n    }\n\n    .dataframe thead th {\n        text-align: right;\n    }\n</style>\n<table border=\"1\" class=\"dataframe\">\n  <thead>\n    <tr style=\"text-align: right;\">\n      <th></th>\n      <th>Accuracy</th>\n      <th>Precision</th>\n      <th>Recall</th>\n      <th>F1-Score</th>\n    </tr>\n    <tr>\n      <th>Fold</th>\n      <th></th>\n      <th></th>\n      <th></th>\n      <th></th>\n    </tr>\n  </thead>\n  <tbody>\n    <tr>\n      <th>1</th>\n      <td>0.820225</td>\n      <td>0.762712</td>\n      <td>0.714286</td>\n      <td>0.737705</td>\n    </tr>\n    <tr>\n      <th>2</th>\n      <td>0.814607</td>\n      <td>0.734177</td>\n      <td>0.828571</td>\n      <td>0.778523</td>\n    </tr>\n    <tr>\n      <th>3</th>\n      <td>0.819209</td>\n      <td>0.728571</td>\n      <td>0.796875</td>\n      <td>0.761194</td>\n    </tr>\n    <tr>\n      <th>4</th>\n      <td>0.785311</td>\n      <td>0.577465</td>\n      <td>0.836735</td>\n      <td>0.683333</td>\n    </tr>\n    <tr>\n      <th>5</th>\n      <td>0.853107</td>\n      <td>0.746032</td>\n      <td>0.824561</td>\n      <td>0.783333</td>\n    </tr>\n  </tbody>\n</table>\n</div>"
     },
     "metadata": {},
     "output_type": "display_data"
    },
    {
     "name": "stdout",
     "output_type": "stream",
     "text": [
      "Sigmoid SVM Kernel:\n"
     ]
    }
   ],
   "source": [
    "kernels = {\n",
    "    'Linear SVM Kernel': 'linear',\n",
    "    'Poly SVM Kernel': 'poly',\n",
    "    'Rbf SVM Kernel': 'rbf',\n",
    "    'Sigmoid SVM Kernel': 'sigmoid'\n",
    "}\n",
    "\n",
    "for name, kernel in kernels.items():\n",
    "    print(f'{name}:')\n",
    "    a, p, r, f = svm_performance(kernel, k=5)\n",
    "    data = {\n",
    "        'Fold': range(1, 6),\n",
    "        'Accuracy': a,\n",
    "        'Precision': p,\n",
    "        'Recall': r,\n",
    "        'F1-Score': f,\n",
    "    }\n",
    "\n",
    "    scores = pd.DataFrame(data).set_index('Fold')\n",
    "    display(scores)"
   ],
   "metadata": {
    "collapsed": false,
    "pycharm": {
     "is_executing": true
    }
   }
  },
  {
   "cell_type": "markdown",
   "source": [
    "## Results\n",
    "The RBF kernel performs the best with good stability."
   ],
   "metadata": {
    "collapsed": false
   }
  }
 ],
 "metadata": {
  "kernelspec": {
   "display_name": "Python 3",
   "language": "python",
   "name": "python3"
  },
  "language_info": {
   "codemirror_mode": {
    "name": "ipython",
    "version": 2
   },
   "file_extension": ".py",
   "mimetype": "text/x-python",
   "name": "python",
   "nbconvert_exporter": "python",
   "pygments_lexer": "ipython2",
   "version": "2.7.6"
  }
 },
 "nbformat": 4,
 "nbformat_minor": 0
}
