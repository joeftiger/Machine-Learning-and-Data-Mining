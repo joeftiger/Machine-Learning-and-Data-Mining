{
 "cells": [
  {
   "cell_type": "markdown",
   "source": [
    "# Exercise 2\n",
    "Build Support vector machines (SVM) model with your selected stock / market index using all attributes to predict `daily returns` (decision).\n",
    "(`daily returns` must first be converted into a decision class that will be used as the target(label), all other attributes must be grouped into classes)\n",
    "Explain how the following kernels affects the performance of the model.\n",
    "1. Linear kernel\n",
    "2. Polynomial kernel\n",
    "3. radial basis function (RBF) kernel\n",
    "4. sigmoid kernel"
   ],
   "metadata": {
    "collapsed": false
   }
  },
  {
   "cell_type": "code",
   "execution_count": 1,
   "outputs": [
    {
     "data": {
      "text/plain": "                 Open        High        Low       Close    Volume   Adjusted\nDate                                                                         \n2007-01-03  97.180000   98.400002  96.260002   97.269997   9196800  63.127567\n2007-01-04  97.250000   98.790001  96.879997   98.309998  10524500  63.802544\n2007-01-05  97.599998   97.949997  96.910004   97.419998   7221300  63.224930\n2007-01-08  98.500000   99.500000  98.349998   98.900002  10340000  64.185463\n2007-01-09  99.080002  100.330002  99.070000  100.070000  11108200  64.944771",
      "text/html": "<div>\n<style scoped>\n    .dataframe tbody tr th:only-of-type {\n        vertical-align: middle;\n    }\n\n    .dataframe tbody tr th {\n        vertical-align: top;\n    }\n\n    .dataframe thead th {\n        text-align: right;\n    }\n</style>\n<table border=\"1\" class=\"dataframe\">\n  <thead>\n    <tr style=\"text-align: right;\">\n      <th></th>\n      <th>Open</th>\n      <th>High</th>\n      <th>Low</th>\n      <th>Close</th>\n      <th>Volume</th>\n      <th>Adjusted</th>\n    </tr>\n    <tr>\n      <th>Date</th>\n      <th></th>\n      <th></th>\n      <th></th>\n      <th></th>\n      <th></th>\n      <th></th>\n    </tr>\n  </thead>\n  <tbody>\n    <tr>\n      <th>2007-01-03</th>\n      <td>97.180000</td>\n      <td>98.400002</td>\n      <td>96.260002</td>\n      <td>97.269997</td>\n      <td>9196800</td>\n      <td>63.127567</td>\n    </tr>\n    <tr>\n      <th>2007-01-04</th>\n      <td>97.250000</td>\n      <td>98.790001</td>\n      <td>96.879997</td>\n      <td>98.309998</td>\n      <td>10524500</td>\n      <td>63.802544</td>\n    </tr>\n    <tr>\n      <th>2007-01-05</th>\n      <td>97.599998</td>\n      <td>97.949997</td>\n      <td>96.910004</td>\n      <td>97.419998</td>\n      <td>7221300</td>\n      <td>63.224930</td>\n    </tr>\n    <tr>\n      <th>2007-01-08</th>\n      <td>98.500000</td>\n      <td>99.500000</td>\n      <td>98.349998</td>\n      <td>98.900002</td>\n      <td>10340000</td>\n      <td>64.185463</td>\n    </tr>\n    <tr>\n      <th>2007-01-09</th>\n      <td>99.080002</td>\n      <td>100.330002</td>\n      <td>99.070000</td>\n      <td>100.070000</td>\n      <td>11108200</td>\n      <td>64.944771</td>\n    </tr>\n  </tbody>\n</table>\n</div>"
     },
     "execution_count": 1,
     "metadata": {},
     "output_type": "execute_result"
    }
   ],
   "source": [
    "import pandas as pd\n",
    "\n",
    "pd.set_option('display.max_colwidth', None)\n",
    "IBM = pd.read_csv('../Data/IBM.txt.zst', delimiter=' ', index_col='Date')\n",
    "IBM.head(5)"
   ],
   "metadata": {
    "collapsed": false
   }
  },
  {
   "cell_type": "code",
   "execution_count": 2,
   "outputs": [
    {
     "data": {
      "text/plain": "              Open         High          Low        Close        Volume  \\\ncount  3692.000000  3692.000000  3692.000000  3692.000000  3.692000e+03   \nmean    147.198976   148.403180   146.074512   147.269085  5.576247e+06   \nstd      30.808862    30.780935    30.844083    30.796603  3.229710e+06   \nmin      72.739998    76.980003    69.500000    71.739998  1.027500e+06   \n25%     124.189999   125.349998   123.072502   124.332496  3.482300e+06   \n50%     144.750000   145.619995   143.830002   144.730003  4.653750e+06   \n75%     168.847500   170.442501   167.659996   169.169998  6.660725e+06   \nmax     215.380005   215.899994   214.300003   215.800003  3.806350e+07   \n\n          Adjusted  \ncount  3692.000000  \nmean    113.375997  \nstd      25.410689  \nmin      48.040176  \n25%      90.296511  \n50%     120.980629  \n75%     132.155647  \nmax     155.979538  ",
      "text/html": "<div>\n<style scoped>\n    .dataframe tbody tr th:only-of-type {\n        vertical-align: middle;\n    }\n\n    .dataframe tbody tr th {\n        vertical-align: top;\n    }\n\n    .dataframe thead th {\n        text-align: right;\n    }\n</style>\n<table border=\"1\" class=\"dataframe\">\n  <thead>\n    <tr style=\"text-align: right;\">\n      <th></th>\n      <th>Open</th>\n      <th>High</th>\n      <th>Low</th>\n      <th>Close</th>\n      <th>Volume</th>\n      <th>Adjusted</th>\n    </tr>\n  </thead>\n  <tbody>\n    <tr>\n      <th>count</th>\n      <td>3692.000000</td>\n      <td>3692.000000</td>\n      <td>3692.000000</td>\n      <td>3692.000000</td>\n      <td>3.692000e+03</td>\n      <td>3692.000000</td>\n    </tr>\n    <tr>\n      <th>mean</th>\n      <td>147.198976</td>\n      <td>148.403180</td>\n      <td>146.074512</td>\n      <td>147.269085</td>\n      <td>5.576247e+06</td>\n      <td>113.375997</td>\n    </tr>\n    <tr>\n      <th>std</th>\n      <td>30.808862</td>\n      <td>30.780935</td>\n      <td>30.844083</td>\n      <td>30.796603</td>\n      <td>3.229710e+06</td>\n      <td>25.410689</td>\n    </tr>\n    <tr>\n      <th>min</th>\n      <td>72.739998</td>\n      <td>76.980003</td>\n      <td>69.500000</td>\n      <td>71.739998</td>\n      <td>1.027500e+06</td>\n      <td>48.040176</td>\n    </tr>\n    <tr>\n      <th>25%</th>\n      <td>124.189999</td>\n      <td>125.349998</td>\n      <td>123.072502</td>\n      <td>124.332496</td>\n      <td>3.482300e+06</td>\n      <td>90.296511</td>\n    </tr>\n    <tr>\n      <th>50%</th>\n      <td>144.750000</td>\n      <td>145.619995</td>\n      <td>143.830002</td>\n      <td>144.730003</td>\n      <td>4.653750e+06</td>\n      <td>120.980629</td>\n    </tr>\n    <tr>\n      <th>75%</th>\n      <td>168.847500</td>\n      <td>170.442501</td>\n      <td>167.659996</td>\n      <td>169.169998</td>\n      <td>6.660725e+06</td>\n      <td>132.155647</td>\n    </tr>\n    <tr>\n      <th>max</th>\n      <td>215.380005</td>\n      <td>215.899994</td>\n      <td>214.300003</td>\n      <td>215.800003</td>\n      <td>3.806350e+07</td>\n      <td>155.979538</td>\n    </tr>\n  </tbody>\n</table>\n</div>"
     },
     "execution_count": 2,
     "metadata": {},
     "output_type": "execute_result"
    }
   ],
   "source": [
    "IBM.describe(include='all', datetime_is_numeric=True)"
   ],
   "metadata": {
    "collapsed": false
   }
  },
  {
   "cell_type": "markdown",
   "source": [
    "First we compute the `Daily Returns` as according to the formular:\n",
    "$r_{t+1} = \\frac{p_{t+1} - p_t}{p_t}$"
   ],
   "metadata": {
    "collapsed": false
   }
  },
  {
   "cell_type": "code",
   "execution_count": 3,
   "outputs": [
    {
     "data": {
      "text/plain": "<Figure size 640x480 with 1 Axes>",
      "image/png": "[encoded data removed]"
     },
     "metadata": {},
     "output_type": "display_data"
    }
   ],
   "source": [
    "import numpy as np\n",
    "import matplotlib.pyplot as plt\n",
    "\n",
    "daily_returns = np.empty(IBM['Close'].shape)\n",
    "daily_returns[0] = float('NaN')\n",
    "daily_returns[1:] = np.ediff1d(IBM['Close']) / IBM['Close'][:-1]\n",
    "IBM['Daily Returns'] = daily_returns\n",
    "\n",
    "num_bins = 32\n",
    "plt.hist(daily_returns, bins=num_bins)\n",
    "plt.axvline(x=0, color='red', linestyle='--')\n",
    "plt.show()"
   ],
   "metadata": {
    "collapsed": false
   }
  },
  {
   "cell_type": "markdown",
   "source": [
    "We factorize the daily returns into discrete classes."
   ],
   "metadata": {
    "collapsed": false
   }
  },
  {
   "cell_type": "code",
   "execution_count": 4,
   "outputs": [
    {
     "name": "stdout",
     "output_type": "stream",
     "text": [
      "                 Open        High        Low       Close    Volume   Adjusted  \\\n",
      "Date                                                                            \n",
      "2007-01-03  97.180000   98.400002  96.260002   97.269997   9196800  63.127567   \n",
      "2007-01-04  97.250000   98.790001  96.879997   98.309998  10524500  63.802544   \n",
      "2007-01-05  97.599998   97.949997  96.910004   97.419998   7221300  63.224930   \n",
      "2007-01-08  98.500000   99.500000  98.349998   98.900002  10340000  64.185463   \n",
      "2007-01-09  99.080002  100.330002  99.070000  100.070000  11108200  64.944771   \n",
      "\n",
      "            Daily Returns  Binary Decision  Ternary Decision  \\\n",
      "Date                                                           \n",
      "2007-01-03            NaN                0                 1   \n",
      "2007-01-04       0.010692                1                 2   \n",
      "2007-01-05      -0.009053                0                 0   \n",
      "2007-01-08       0.015192                1                 2   \n",
      "2007-01-09       0.011830                1                 2   \n",
      "\n",
      "            Daily Returns Class  \n",
      "Date                             \n",
      "2007-01-03                  NaN  \n",
      "2007-01-04    (0.00479, 0.0107]  \n",
      "2007-01-05  (-0.0104, -0.00381]  \n",
      "2007-01-08      (0.0107, 0.115]  \n",
      "2007-01-09      (0.0107, 0.115]  \n"
     ]
    },
    {
     "data": {
      "text/plain": "                 Open        High        Low       Close    Volume   Adjusted  \\\nDate                                                                            \n2007-01-03  97.180000   98.400002  96.260002   97.269997   9196800  63.127567   \n2007-01-04  97.250000   98.790001  96.879997   98.309998  10524500  63.802544   \n2007-01-05  97.599998   97.949997  96.910004   97.419998   7221300  63.224930   \n2007-01-08  98.500000   99.500000  98.349998   98.900002  10340000  64.185463   \n2007-01-09  99.080002  100.330002  99.070000  100.070000  11108200  64.944771   \n\n            Daily Returns  Binary Decision  Ternary Decision  \\\nDate                                                           \n2007-01-03            NaN                0                 1   \n2007-01-04       0.010692                1                 2   \n2007-01-05      -0.009053                0                 0   \n2007-01-08       0.015192                1                 2   \n2007-01-09       0.011830                1                 2   \n\n            Daily Returns Class  \nDate                             \n2007-01-03                   -1  \n2007-01-04                    4  \n2007-01-05                    1  \n2007-01-08                    5  \n2007-01-09                    5  ",
      "text/html": "<div>\n<style scoped>\n    .dataframe tbody tr th:only-of-type {\n        vertical-align: middle;\n    }\n\n    .dataframe tbody tr th {\n        vertical-align: top;\n    }\n\n    .dataframe thead th {\n        text-align: right;\n    }\n</style>\n<table border=\"1\" class=\"dataframe\">\n  <thead>\n    <tr style=\"text-align: right;\">\n      <th></th>\n      <th>Open</th>\n      <th>High</th>\n      <th>Low</th>\n      <th>Close</th>\n      <th>Volume</th>\n      <th>Adjusted</th>\n      <th>Daily Returns</th>\n      <th>Binary Decision</th>\n      <th>Ternary Decision</th>\n      <th>Daily Returns Class</th>\n    </tr>\n    <tr>\n      <th>Date</th>\n      <th></th>\n      <th></th>\n      <th></th>\n      <th></th>\n      <th></th>\n      <th></th>\n      <th></th>\n      <th></th>\n      <th></th>\n      <th></th>\n    </tr>\n  </thead>\n  <tbody>\n    <tr>\n      <th>2007-01-03</th>\n      <td>97.180000</td>\n      <td>98.400002</td>\n      <td>96.260002</td>\n      <td>97.269997</td>\n      <td>9196800</td>\n      <td>63.127567</td>\n      <td>NaN</td>\n      <td>0</td>\n      <td>1</td>\n      <td>-1</td>\n    </tr>\n    <tr>\n      <th>2007-01-04</th>\n      <td>97.250000</td>\n      <td>98.790001</td>\n      <td>96.879997</td>\n      <td>98.309998</td>\n      <td>10524500</td>\n      <td>63.802544</td>\n      <td>0.010692</td>\n      <td>1</td>\n      <td>2</td>\n      <td>4</td>\n    </tr>\n    <tr>\n      <th>2007-01-05</th>\n      <td>97.599998</td>\n      <td>97.949997</td>\n      <td>96.910004</td>\n      <td>97.419998</td>\n      <td>7221300</td>\n      <td>63.224930</td>\n      <td>-0.009053</td>\n      <td>0</td>\n      <td>0</td>\n      <td>1</td>\n    </tr>\n    <tr>\n      <th>2007-01-08</th>\n      <td>98.500000</td>\n      <td>99.500000</td>\n      <td>98.349998</td>\n      <td>98.900002</td>\n      <td>10340000</td>\n      <td>64.185463</td>\n      <td>0.015192</td>\n      <td>1</td>\n      <td>2</td>\n      <td>5</td>\n    </tr>\n    <tr>\n      <th>2007-01-09</th>\n      <td>99.080002</td>\n      <td>100.330002</td>\n      <td>99.070000</td>\n      <td>100.070000</td>\n      <td>11108200</td>\n      <td>64.944771</td>\n      <td>0.011830</td>\n      <td>1</td>\n      <td>2</td>\n      <td>5</td>\n    </tr>\n  </tbody>\n</table>\n</div>"
     },
     "execution_count": 4,
     "metadata": {},
     "output_type": "execute_result"
    }
   ],
   "source": [
    "binary_decision = (daily_returns > 0).astype(int)\n",
    "IBM['Binary Decision'] = binary_decision\n",
    "\n",
    "CUTOFF = 0.005\n",
    "ternary_decision = np.full(shape=daily_returns.shape, fill_value=1)\n",
    "ternary_decision[np.where(daily_returns > CUTOFF)] = 2\n",
    "ternary_decision[np.where(daily_returns < CUTOFF)] = 0\n",
    "IBM['Ternary Decision'] = ternary_decision\n",
    "\n",
    "NUM_CLASSES = 6\n",
    "IBM['Daily Returns Class'] = pd.qcut(IBM['Daily Returns'], q=NUM_CLASSES)\n",
    "print(IBM.head(5))\n",
    "IBM['Daily Returns Class'], _ = IBM['Daily Returns Class'].factorize(sort=True)\n",
    "IBM.head(5)"
   ],
   "metadata": {
    "collapsed": false
   }
  },
  {
   "cell_type": "markdown",
   "source": [
    "Next we compute some simple moving average and drop the first rows due to `NaN`s."
   ],
   "metadata": {
    "collapsed": false
   }
  },
  {
   "cell_type": "code",
   "execution_count": 5,
   "outputs": [
    {
     "data": {
      "text/plain": "                  Open        High         Low       Close    Volume  \\\nDate                                                                   \n2007-10-18  114.820000  116.410004  114.440002  114.800003   7736500   \n2007-10-19  113.980003  114.930000  111.800003  112.279999  10327200   \n2007-10-22  110.970001  113.879997  110.959999  113.370003   7576900   \n2007-10-23  113.779999  114.800003  113.500000  114.680000   5562900   \n2007-10-24  114.199997  114.449997  111.680000  112.949997   8072600   \n\n             Adjusted  Daily Returns  Binary Decision  Ternary Decision  \\\nDate                                                                      \n2007-10-18  75.285088      -0.008464                0                 0   \n2007-10-19  73.632500      -0.021951                0                 0   \n2007-10-22  74.347313       0.009708                1                 2   \n2007-10-23  75.206367       0.011555                1                 2   \n2007-10-24  74.071869      -0.015085                0                 0   \n\n            Daily Returns Class       SMA-5      SMA-10      SMA-20  \\\nDate                                                                  \n2007-10-18                    1  117.203999  117.506001  117.344501   \n2007-10-19                    0  116.098000  117.104000  117.119501   \n2007-10-22                    4  115.166000  116.664001  116.975501   \n2007-10-23                    5  114.182001  116.302000  116.884001   \n2007-10-24                    0  113.616000  115.735000  116.666501   \n\n                SMA-50    SMA-200  \nDate                               \n2007-10-18  115.320200  105.19595  \n2007-10-19  115.351200  105.26580  \n2007-10-22  115.365800  105.34555  \n2007-10-23  115.405201  105.42445  \n2007-10-24  115.423200  105.48885  ",
      "text/html": "<div>\n<style scoped>\n    .dataframe tbody tr th:only-of-type {\n        vertical-align: middle;\n    }\n\n    .dataframe tbody tr th {\n        vertical-align: top;\n    }\n\n    .dataframe thead th {\n        text-align: right;\n    }\n</style>\n<table border=\"1\" class=\"dataframe\">\n  <thead>\n    <tr style=\"text-align: right;\">\n      <th></th>\n      <th>Open</th>\n      <th>High</th>\n      <th>Low</th>\n      <th>Close</th>\n      <th>Volume</th>\n      <th>Adjusted</th>\n      <th>Daily Returns</th>\n      <th>Binary Decision</th>\n      <th>Ternary Decision</th>\n      <th>Daily Returns Class</th>\n      <th>SMA-5</th>\n      <th>SMA-10</th>\n      <th>SMA-20</th>\n      <th>SMA-50</th>\n      <th>SMA-200</th>\n    </tr>\n    <tr>\n      <th>Date</th>\n      <th></th>\n      <th></th>\n      <th></th>\n      <th></th>\n      <th></th>\n      <th></th>\n      <th></th>\n      <th></th>\n      <th></th>\n      <th></th>\n      <th></th>\n      <th></th>\n      <th></th>\n      <th></th>\n      <th></th>\n    </tr>\n  </thead>\n  <tbody>\n    <tr>\n      <th>2007-10-18</th>\n      <td>114.820000</td>\n      <td>116.410004</td>\n      <td>114.440002</td>\n      <td>114.800003</td>\n      <td>7736500</td>\n      <td>75.285088</td>\n      <td>-0.008464</td>\n      <td>0</td>\n      <td>0</td>\n      <td>1</td>\n      <td>117.203999</td>\n      <td>117.506001</td>\n      <td>117.344501</td>\n      <td>115.320200</td>\n      <td>105.19595</td>\n    </tr>\n    <tr>\n      <th>2007-10-19</th>\n      <td>113.980003</td>\n      <td>114.930000</td>\n      <td>111.800003</td>\n      <td>112.279999</td>\n      <td>10327200</td>\n      <td>73.632500</td>\n      <td>-0.021951</td>\n      <td>0</td>\n      <td>0</td>\n      <td>0</td>\n      <td>116.098000</td>\n      <td>117.104000</td>\n      <td>117.119501</td>\n      <td>115.351200</td>\n      <td>105.26580</td>\n    </tr>\n    <tr>\n      <th>2007-10-22</th>\n      <td>110.970001</td>\n      <td>113.879997</td>\n      <td>110.959999</td>\n      <td>113.370003</td>\n      <td>7576900</td>\n      <td>74.347313</td>\n      <td>0.009708</td>\n      <td>1</td>\n      <td>2</td>\n      <td>4</td>\n      <td>115.166000</td>\n      <td>116.664001</td>\n      <td>116.975501</td>\n      <td>115.365800</td>\n      <td>105.34555</td>\n    </tr>\n    <tr>\n      <th>2007-10-23</th>\n      <td>113.779999</td>\n      <td>114.800003</td>\n      <td>113.500000</td>\n      <td>114.680000</td>\n      <td>5562900</td>\n      <td>75.206367</td>\n      <td>0.011555</td>\n      <td>1</td>\n      <td>2</td>\n      <td>5</td>\n      <td>114.182001</td>\n      <td>116.302000</td>\n      <td>116.884001</td>\n      <td>115.405201</td>\n      <td>105.42445</td>\n    </tr>\n    <tr>\n      <th>2007-10-24</th>\n      <td>114.199997</td>\n      <td>114.449997</td>\n      <td>111.680000</td>\n      <td>112.949997</td>\n      <td>8072600</td>\n      <td>74.071869</td>\n      <td>-0.015085</td>\n      <td>0</td>\n      <td>0</td>\n      <td>0</td>\n      <td>113.616000</td>\n      <td>115.735000</td>\n      <td>116.666501</td>\n      <td>115.423200</td>\n      <td>105.48885</td>\n    </tr>\n  </tbody>\n</table>\n</div>"
     },
     "execution_count": 5,
     "metadata": {},
     "output_type": "execute_result"
    }
   ],
   "source": [
    "sma_features = []\n",
    "sma_periods = [5, 10, 20, 50, 200]\n",
    "for period in sma_periods:\n",
    "    label = 'SMA-{}'.format(period)\n",
    "    sma_features.append(label)\n",
    "\n",
    "    IBM[label] = IBM['Close'].rolling(period).mean()\n",
    "    #IBM[['Close', label]].plot(label=label, figsize=(9, 3), xlabel='days', ylabel='price')\n",
    "\n",
    "IBM = IBM.iloc[max(sma_periods):, :]\n",
    "IBM.head(5)"
   ],
   "metadata": {
    "collapsed": false
   }
  },
  {
   "cell_type": "code",
   "execution_count": 6,
   "outputs": [],
   "source": [
    "all_features = ['Volume'] + sma_features"
   ],
   "metadata": {
    "collapsed": false
   }
  },
  {
   "cell_type": "code",
   "execution_count": 7,
   "outputs": [],
   "source": [
    "from typing import Any\n",
    "import numpy as np\n",
    "from util import kfold_eval\n",
    "\n",
    "\n",
    "def svm_performance(svm: Any, target_feature: str = 'Daily Returns Class', k: int = 5, average: Any = 'binary', zero_division: Any = 'warn') -> (np.array, np.array, np.array, np.array):\n",
    "    \"\"\"\n",
    "    Performs a k-fold cross-validation on an SVM with the specified kernel.\n",
    "\n",
    "    :param svm: The SVM model\n",
    "    :param target_feature: default='Daily Returns Class': The target feature\n",
    "    :param k: how many folds to perform\n",
    "    :param average: default='binary': This parameter is required for multiclass/multilabel targets.\n",
    "    :param zero_division: default='warn'\n",
    "\n",
    "    :return: accuracy, precision, recall, f1\n",
    "    \"\"\"\n",
    "    X = IBM[all_features]\n",
    "    y = IBM[target_feature]\n",
    "\n",
    "    return kfold_eval(model=svm, X=X, y=y, k=k, average=average, zero_division=zero_division)"
   ],
   "metadata": {
    "collapsed": false
   }
  },
  {
   "cell_type": "markdown",
   "source": [
    "## Show the Comparison of the Performance of the Kernels\n",
    "We test the performance towards the default target feature `Daily Returns Class`:"
   ],
   "metadata": {
    "collapsed": false
   }
  },
  {
   "cell_type": "code",
   "execution_count": 8,
   "outputs": [
    {
     "name": "stdout",
     "output_type": "stream",
     "text": [
      "Linear SVM Kernel:\n"
     ]
    },
    {
     "data": {
      "text/plain": "      Accuracy  Precision    Recall  F1-Score\nFold                                         \n1     0.234621   0.165657  0.039671  0.064012\n2     0.194564   0.211131  0.064044  0.097587\n3     0.199140   0.208811  0.073026  0.099499\n4     0.176218   0.210226  0.068926  0.100221\n5     0.236390   0.232206  0.081744  0.119223",
      "text/html": "<div>\n<style scoped>\n    .dataframe tbody tr th:only-of-type {\n        vertical-align: middle;\n    }\n\n    .dataframe tbody tr th {\n        vertical-align: top;\n    }\n\n    .dataframe thead th {\n        text-align: right;\n    }\n</style>\n<table border=\"1\" class=\"dataframe\">\n  <thead>\n    <tr style=\"text-align: right;\">\n      <th></th>\n      <th>Accuracy</th>\n      <th>Precision</th>\n      <th>Recall</th>\n      <th>F1-Score</th>\n    </tr>\n    <tr>\n      <th>Fold</th>\n      <th></th>\n      <th></th>\n      <th></th>\n      <th></th>\n    </tr>\n  </thead>\n  <tbody>\n    <tr>\n      <th>1</th>\n      <td>0.234621</td>\n      <td>0.165657</td>\n      <td>0.039671</td>\n      <td>0.064012</td>\n    </tr>\n    <tr>\n      <th>2</th>\n      <td>0.194564</td>\n      <td>0.211131</td>\n      <td>0.064044</td>\n      <td>0.097587</td>\n    </tr>\n    <tr>\n      <th>3</th>\n      <td>0.199140</td>\n      <td>0.208811</td>\n      <td>0.073026</td>\n      <td>0.099499</td>\n    </tr>\n    <tr>\n      <th>4</th>\n      <td>0.176218</td>\n      <td>0.210226</td>\n      <td>0.068926</td>\n      <td>0.100221</td>\n    </tr>\n    <tr>\n      <th>5</th>\n      <td>0.236390</td>\n      <td>0.232206</td>\n      <td>0.081744</td>\n      <td>0.119223</td>\n    </tr>\n  </tbody>\n</table>\n</div>"
     },
     "metadata": {},
     "output_type": "display_data"
    },
    {
     "name": "stdout",
     "output_type": "stream",
     "text": [
      "Poly SVM Kernel:\n"
     ]
    },
    {
     "data": {
      "text/plain": "      Accuracy  Precision    Recall  F1-Score\nFold                                         \n1     0.224607   0.215828  0.152292  0.139407\n2     0.175966   0.198192  0.077518  0.089679\n3     0.171920   0.173986  0.086523  0.073591\n4     0.180516   0.202730  0.092665  0.096863\n5     0.184814   0.202756  0.102925  0.098750",
      "text/html": "<div>\n<style scoped>\n    .dataframe tbody tr th:only-of-type {\n        vertical-align: middle;\n    }\n\n    .dataframe tbody tr th {\n        vertical-align: top;\n    }\n\n    .dataframe thead th {\n        text-align: right;\n    }\n</style>\n<table border=\"1\" class=\"dataframe\">\n  <thead>\n    <tr style=\"text-align: right;\">\n      <th></th>\n      <th>Accuracy</th>\n      <th>Precision</th>\n      <th>Recall</th>\n      <th>F1-Score</th>\n    </tr>\n    <tr>\n      <th>Fold</th>\n      <th></th>\n      <th></th>\n      <th></th>\n      <th></th>\n    </tr>\n  </thead>\n  <tbody>\n    <tr>\n      <th>1</th>\n      <td>0.224607</td>\n      <td>0.215828</td>\n      <td>0.152292</td>\n      <td>0.139407</td>\n    </tr>\n    <tr>\n      <th>2</th>\n      <td>0.175966</td>\n      <td>0.198192</td>\n      <td>0.077518</td>\n      <td>0.089679</td>\n    </tr>\n    <tr>\n      <th>3</th>\n      <td>0.171920</td>\n      <td>0.173986</td>\n      <td>0.086523</td>\n      <td>0.073591</td>\n    </tr>\n    <tr>\n      <th>4</th>\n      <td>0.180516</td>\n      <td>0.202730</td>\n      <td>0.092665</td>\n      <td>0.096863</td>\n    </tr>\n    <tr>\n      <th>5</th>\n      <td>0.184814</td>\n      <td>0.202756</td>\n      <td>0.102925</td>\n      <td>0.098750</td>\n    </tr>\n  </tbody>\n</table>\n</div>"
     },
     "metadata": {},
     "output_type": "display_data"
    },
    {
     "name": "stdout",
     "output_type": "stream",
     "text": [
      "Rbf SVM Kernel:\n"
     ]
    },
    {
     "data": {
      "text/plain": "      Accuracy  Precision    Recall  F1-Score\nFold                                         \n1     0.244635   0.183614  0.160767  0.137584\n2     0.206009   0.213733  0.133050  0.162603\n3     0.229226   0.235573  0.202630  0.174688\n4     0.212034   0.206385  0.187544  0.191321\n5     0.220630   0.229196  0.243981  0.190238",
      "text/html": "<div>\n<style scoped>\n    .dataframe tbody tr th:only-of-type {\n        vertical-align: middle;\n    }\n\n    .dataframe tbody tr th {\n        vertical-align: top;\n    }\n\n    .dataframe thead th {\n        text-align: right;\n    }\n</style>\n<table border=\"1\" class=\"dataframe\">\n  <thead>\n    <tr style=\"text-align: right;\">\n      <th></th>\n      <th>Accuracy</th>\n      <th>Precision</th>\n      <th>Recall</th>\n      <th>F1-Score</th>\n    </tr>\n    <tr>\n      <th>Fold</th>\n      <th></th>\n      <th></th>\n      <th></th>\n      <th></th>\n    </tr>\n  </thead>\n  <tbody>\n    <tr>\n      <th>1</th>\n      <td>0.244635</td>\n      <td>0.183614</td>\n      <td>0.160767</td>\n      <td>0.137584</td>\n    </tr>\n    <tr>\n      <th>2</th>\n      <td>0.206009</td>\n      <td>0.213733</td>\n      <td>0.133050</td>\n      <td>0.162603</td>\n    </tr>\n    <tr>\n      <th>3</th>\n      <td>0.229226</td>\n      <td>0.235573</td>\n      <td>0.202630</td>\n      <td>0.174688</td>\n    </tr>\n    <tr>\n      <th>4</th>\n      <td>0.212034</td>\n      <td>0.206385</td>\n      <td>0.187544</td>\n      <td>0.191321</td>\n    </tr>\n    <tr>\n      <th>5</th>\n      <td>0.220630</td>\n      <td>0.229196</td>\n      <td>0.243981</td>\n      <td>0.190238</td>\n    </tr>\n  </tbody>\n</table>\n</div>"
     },
     "metadata": {},
     "output_type": "display_data"
    },
    {
     "name": "stdout",
     "output_type": "stream",
     "text": [
      "Sigmoid SVM Kernel:\n"
     ]
    },
    {
     "data": {
      "text/plain": "      Accuracy  Precision    Recall  F1-Score\nFold                                         \n1     0.241774   0.175552  0.270705  0.087287\n2     0.150215   0.173614  0.208293  0.106200\n3     0.193410   0.211105  0.187780  0.144466\n4     0.161891   0.198031  0.146077  0.126433\n5     0.150430   0.146782  0.101022  0.099785",
      "text/html": "<div>\n<style scoped>\n    .dataframe tbody tr th:only-of-type {\n        vertical-align: middle;\n    }\n\n    .dataframe tbody tr th {\n        vertical-align: top;\n    }\n\n    .dataframe thead th {\n        text-align: right;\n    }\n</style>\n<table border=\"1\" class=\"dataframe\">\n  <thead>\n    <tr style=\"text-align: right;\">\n      <th></th>\n      <th>Accuracy</th>\n      <th>Precision</th>\n      <th>Recall</th>\n      <th>F1-Score</th>\n    </tr>\n    <tr>\n      <th>Fold</th>\n      <th></th>\n      <th></th>\n      <th></th>\n      <th></th>\n    </tr>\n  </thead>\n  <tbody>\n    <tr>\n      <th>1</th>\n      <td>0.241774</td>\n      <td>0.175552</td>\n      <td>0.270705</td>\n      <td>0.087287</td>\n    </tr>\n    <tr>\n      <th>2</th>\n      <td>0.150215</td>\n      <td>0.173614</td>\n      <td>0.208293</td>\n      <td>0.106200</td>\n    </tr>\n    <tr>\n      <th>3</th>\n      <td>0.193410</td>\n      <td>0.211105</td>\n      <td>0.187780</td>\n      <td>0.144466</td>\n    </tr>\n    <tr>\n      <th>4</th>\n      <td>0.161891</td>\n      <td>0.198031</td>\n      <td>0.146077</td>\n      <td>0.126433</td>\n    </tr>\n    <tr>\n      <th>5</th>\n      <td>0.150430</td>\n      <td>0.146782</td>\n      <td>0.101022</td>\n      <td>0.099785</td>\n    </tr>\n  </tbody>\n</table>\n</div>"
     },
     "metadata": {},
     "output_type": "display_data"
    }
   ],
   "source": [
    "from sklearn.svm import SVC, LinearSVC\n",
    "\n",
    "kernels = {\n",
    "    'Linear SVM Kernel': LinearSVC(dual=False), # dual=False as according to their documentation (n_samples > n_features)\n",
    "    'Poly SVM Kernel': SVC(kernel='poly'),\n",
    "    'Rbf SVM Kernel': SVC(kernel='rbf'),\n",
    "    'Sigmoid SVM Kernel': SVC(kernel='sigmoid'),\n",
    "}\n",
    "\n",
    "for name, kernel in kernels.items():\n",
    "    print(f'{name}:')\n",
    "    a, p, r, f = svm_performance(kernel, k=5, average='macro', zero_division=0)\n",
    "    data = {\n",
    "        'Fold': range(1, 6),\n",
    "        'Accuracy': a,\n",
    "        'Precision': p,\n",
    "        'Recall': r,\n",
    "        'F1-Score': f,\n",
    "    }\n",
    "\n",
    "    scores = pd.DataFrame(data).set_index('Fold')\n",
    "    display(scores)"
   ],
   "metadata": {
    "collapsed": false
   }
  },
  {
   "cell_type": "markdown",
   "source": [
    "We test the performance towards `Ternary Decision`:"
   ],
   "metadata": {
    "collapsed": false
   }
  },
  {
   "cell_type": "code",
   "execution_count": 9,
   "outputs": [
    {
     "name": "stdout",
     "output_type": "stream",
     "text": [
      "Linear SVM Kernel:\n"
     ]
    },
    {
     "data": {
      "text/plain": "      Accuracy  Precision    Recall  F1-Score\nFold                                         \n1     0.623748        0.5  0.311874  0.384141\n2     0.693848        0.5  0.346924  0.409628\n3     0.702006        0.5  0.351003  0.412458\n4     0.729226        0.5  0.364613  0.421707\n5     0.638968        0.5  0.319484  0.389860",
      "text/html": "<div>\n<style scoped>\n    .dataframe tbody tr th:only-of-type {\n        vertical-align: middle;\n    }\n\n    .dataframe tbody tr th {\n        vertical-align: top;\n    }\n\n    .dataframe thead th {\n        text-align: right;\n    }\n</style>\n<table border=\"1\" class=\"dataframe\">\n  <thead>\n    <tr style=\"text-align: right;\">\n      <th></th>\n      <th>Accuracy</th>\n      <th>Precision</th>\n      <th>Recall</th>\n      <th>F1-Score</th>\n    </tr>\n    <tr>\n      <th>Fold</th>\n      <th></th>\n      <th></th>\n      <th></th>\n      <th></th>\n    </tr>\n  </thead>\n  <tbody>\n    <tr>\n      <th>1</th>\n      <td>0.623748</td>\n      <td>0.5</td>\n      <td>0.311874</td>\n      <td>0.384141</td>\n    </tr>\n    <tr>\n      <th>2</th>\n      <td>0.693848</td>\n      <td>0.5</td>\n      <td>0.346924</td>\n      <td>0.409628</td>\n    </tr>\n    <tr>\n      <th>3</th>\n      <td>0.702006</td>\n      <td>0.5</td>\n      <td>0.351003</td>\n      <td>0.412458</td>\n    </tr>\n    <tr>\n      <th>4</th>\n      <td>0.729226</td>\n      <td>0.5</td>\n      <td>0.364613</td>\n      <td>0.421707</td>\n    </tr>\n    <tr>\n      <th>5</th>\n      <td>0.638968</td>\n      <td>0.5</td>\n      <td>0.319484</td>\n      <td>0.389860</td>\n    </tr>\n  </tbody>\n</table>\n</div>"
     },
     "metadata": {},
     "output_type": "display_data"
    },
    {
     "name": "stdout",
     "output_type": "stream",
     "text": [
      "Poly SVM Kernel:\n"
     ]
    },
    {
     "data": {
      "text/plain": "      Accuracy  Precision    Recall  F1-Score\nFold                                         \n1     0.623748        0.5  0.311874  0.384141\n2     0.693848        0.5  0.346924  0.409628\n3     0.702006        0.5  0.351003  0.412458\n4     0.729226        0.5  0.364613  0.421707\n5     0.638968        0.5  0.319484  0.389860",
      "text/html": "<div>\n<style scoped>\n    .dataframe tbody tr th:only-of-type {\n        vertical-align: middle;\n    }\n\n    .dataframe tbody tr th {\n        vertical-align: top;\n    }\n\n    .dataframe thead th {\n        text-align: right;\n    }\n</style>\n<table border=\"1\" class=\"dataframe\">\n  <thead>\n    <tr style=\"text-align: right;\">\n      <th></th>\n      <th>Accuracy</th>\n      <th>Precision</th>\n      <th>Recall</th>\n      <th>F1-Score</th>\n    </tr>\n    <tr>\n      <th>Fold</th>\n      <th></th>\n      <th></th>\n      <th></th>\n      <th></th>\n    </tr>\n  </thead>\n  <tbody>\n    <tr>\n      <th>1</th>\n      <td>0.623748</td>\n      <td>0.5</td>\n      <td>0.311874</td>\n      <td>0.384141</td>\n    </tr>\n    <tr>\n      <th>2</th>\n      <td>0.693848</td>\n      <td>0.5</td>\n      <td>0.346924</td>\n      <td>0.409628</td>\n    </tr>\n    <tr>\n      <th>3</th>\n      <td>0.702006</td>\n      <td>0.5</td>\n      <td>0.351003</td>\n      <td>0.412458</td>\n    </tr>\n    <tr>\n      <th>4</th>\n      <td>0.729226</td>\n      <td>0.5</td>\n      <td>0.364613</td>\n      <td>0.421707</td>\n    </tr>\n    <tr>\n      <th>5</th>\n      <td>0.638968</td>\n      <td>0.5</td>\n      <td>0.319484</td>\n      <td>0.389860</td>\n    </tr>\n  </tbody>\n</table>\n</div>"
     },
     "metadata": {},
     "output_type": "display_data"
    },
    {
     "name": "stdout",
     "output_type": "stream",
     "text": [
      "Rbf SVM Kernel:\n"
     ]
    },
    {
     "data": {
      "text/plain": "      Accuracy  Precision    Recall  F1-Score\nFold                                         \n1     0.623748   0.500000  0.311874  0.384141\n2     0.693848   0.500000  0.346924  0.409628\n3     0.702006   0.500000  0.351003  0.412458\n4     0.717765   0.492141  0.363043  0.417848\n5     0.638968   0.500000  0.319484  0.389860",
      "text/html": "<div>\n<style scoped>\n    .dataframe tbody tr th:only-of-type {\n        vertical-align: middle;\n    }\n\n    .dataframe tbody tr th {\n        vertical-align: top;\n    }\n\n    .dataframe thead th {\n        text-align: right;\n    }\n</style>\n<table border=\"1\" class=\"dataframe\">\n  <thead>\n    <tr style=\"text-align: right;\">\n      <th></th>\n      <th>Accuracy</th>\n      <th>Precision</th>\n      <th>Recall</th>\n      <th>F1-Score</th>\n    </tr>\n    <tr>\n      <th>Fold</th>\n      <th></th>\n      <th></th>\n      <th></th>\n      <th></th>\n    </tr>\n  </thead>\n  <tbody>\n    <tr>\n      <th>1</th>\n      <td>0.623748</td>\n      <td>0.500000</td>\n      <td>0.311874</td>\n      <td>0.384141</td>\n    </tr>\n    <tr>\n      <th>2</th>\n      <td>0.693848</td>\n      <td>0.500000</td>\n      <td>0.346924</td>\n      <td>0.409628</td>\n    </tr>\n    <tr>\n      <th>3</th>\n      <td>0.702006</td>\n      <td>0.500000</td>\n      <td>0.351003</td>\n      <td>0.412458</td>\n    </tr>\n    <tr>\n      <th>4</th>\n      <td>0.717765</td>\n      <td>0.492141</td>\n      <td>0.363043</td>\n      <td>0.417848</td>\n    </tr>\n    <tr>\n      <th>5</th>\n      <td>0.638968</td>\n      <td>0.500000</td>\n      <td>0.319484</td>\n      <td>0.389860</td>\n    </tr>\n  </tbody>\n</table>\n</div>"
     },
     "metadata": {},
     "output_type": "display_data"
    },
    {
     "name": "stdout",
     "output_type": "stream",
     "text": [
      "Sigmoid SVM Kernel:\n"
     ]
    },
    {
     "data": {
      "text/plain": "      Accuracy  Precision    Recall  F1-Score\nFold                                         \n1     0.609442   0.490041  0.380918  0.385454\n2     0.507868   0.471727  0.475308  0.467254\n3     0.557307   0.531132  0.526690  0.519831\n4     0.535817   0.478820  0.482344  0.473580\n5     0.575931   0.494688  0.492592  0.479844",
      "text/html": "<div>\n<style scoped>\n    .dataframe tbody tr th:only-of-type {\n        vertical-align: middle;\n    }\n\n    .dataframe tbody tr th {\n        vertical-align: top;\n    }\n\n    .dataframe thead th {\n        text-align: right;\n    }\n</style>\n<table border=\"1\" class=\"dataframe\">\n  <thead>\n    <tr style=\"text-align: right;\">\n      <th></th>\n      <th>Accuracy</th>\n      <th>Precision</th>\n      <th>Recall</th>\n      <th>F1-Score</th>\n    </tr>\n    <tr>\n      <th>Fold</th>\n      <th></th>\n      <th></th>\n      <th></th>\n      <th></th>\n    </tr>\n  </thead>\n  <tbody>\n    <tr>\n      <th>1</th>\n      <td>0.609442</td>\n      <td>0.490041</td>\n      <td>0.380918</td>\n      <td>0.385454</td>\n    </tr>\n    <tr>\n      <th>2</th>\n      <td>0.507868</td>\n      <td>0.471727</td>\n      <td>0.475308</td>\n      <td>0.467254</td>\n    </tr>\n    <tr>\n      <th>3</th>\n      <td>0.557307</td>\n      <td>0.531132</td>\n      <td>0.526690</td>\n      <td>0.519831</td>\n    </tr>\n    <tr>\n      <th>4</th>\n      <td>0.535817</td>\n      <td>0.478820</td>\n      <td>0.482344</td>\n      <td>0.473580</td>\n    </tr>\n    <tr>\n      <th>5</th>\n      <td>0.575931</td>\n      <td>0.494688</td>\n      <td>0.492592</td>\n      <td>0.479844</td>\n    </tr>\n  </tbody>\n</table>\n</div>"
     },
     "metadata": {},
     "output_type": "display_data"
    }
   ],
   "source": [
    "from sklearn.svm import SVC, LinearSVC\n",
    "\n",
    "kernels = {\n",
    "    'Linear SVM Kernel': LinearSVC(dual=False), # dual=False as according to their documentation (n_samples > n_features)\n",
    "    'Poly SVM Kernel': SVC(kernel='poly'),\n",
    "    'Rbf SVM Kernel': SVC(kernel='rbf'),\n",
    "    'Sigmoid SVM Kernel': SVC(kernel='sigmoid'),\n",
    "}\n",
    "\n",
    "for name, kernel in kernels.items():\n",
    "    print(f'{name}:')\n",
    "    a, p, r, f = svm_performance(kernel, target_feature='Ternary Decision', k=5, average='macro', zero_division=0)\n",
    "    data = {\n",
    "        'Fold': range(1, 6),\n",
    "        'Accuracy': a,\n",
    "        'Precision': p,\n",
    "        'Recall': r,\n",
    "        'F1-Score': f,\n",
    "    }\n",
    "\n",
    "    scores = pd.DataFrame(data).set_index('Fold')\n",
    "    display(scores)"
   ],
   "metadata": {
    "collapsed": false
   }
  }
 ],
 "metadata": {
  "kernelspec": {
   "display_name": "Python 3",
   "language": "python",
   "name": "python3"
  },
  "language_info": {
   "codemirror_mode": {
    "name": "ipython",
    "version": 2
   },
   "file_extension": ".py",
   "mimetype": "text/x-python",
   "name": "python",
   "nbconvert_exporter": "python",
   "pygments_lexer": "ipython2",
   "version": "2.7.6"
  }
 },
 "nbformat": 4,
 "nbformat_minor": 0
}
